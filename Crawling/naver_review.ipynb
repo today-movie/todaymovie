{
 "cells": [
  {
   "cell_type": "code",
   "execution_count": 11,
   "id": "eb5f1fb5",
   "metadata": {},
   "outputs": [],
   "source": [
    "from selenium import webdriver\n",
    "import time\n",
    "import pandas as pd\n",
    "from tqdm.notebook import tqdm\n",
    "from selenium.common.exceptions import NoSuchElementException, ElementNotInteractableException\n",
    "from selenium import webdriver"
   ]
  },
  {
   "cell_type": "code",
   "execution_count": 12,
   "id": "7de20ae2",
   "metadata": {},
   "outputs": [],
   "source": [
    "options = webdriver.ChromeOptions()\n",
    "options.add_argument('headless')    # 웹 브라우저를 띄우지 않는 headless chrome 옵션 적용\n",
    "options.add_argument('disable-gpu')    # GPU 사용 안함\n",
    "options.add_argument('lang=ko_KR')    # 언어 설정, options=options"
   ]
  },
  {
   "cell_type": "code",
   "execution_count": 14,
   "id": "1daa1577",
   "metadata": {},
   "outputs": [
    {
     "data": {
      "application/vnd.jupyter.widget-view+json": {
       "model_id": "92a45a209bf44317b0d78331ddd2c218",
       "version_major": 2,
       "version_minor": 0
      },
      "text/plain": [
       "  0%|          | 0/20 [00:00<?, ?it/s]"
      ]
     },
     "metadata": {},
     "output_type": "display_data"
    },
    {
     "data": {
      "application/vnd.jupyter.widget-view+json": {
       "model_id": "b051b56dd922495fa9a996b891941547",
       "version_major": 2,
       "version_minor": 0
      },
      "text/plain": [
       "  0%|          | 0/20 [00:00<?, ?it/s]"
      ]
     },
     "metadata": {},
     "output_type": "display_data"
    },
    {
     "data": {
      "application/vnd.jupyter.widget-view+json": {
       "model_id": "e20be09359814e94b6623772e3f885d5",
       "version_major": 2,
       "version_minor": 0
      },
      "text/plain": [
       "  0%|          | 0/20 [00:00<?, ?it/s]"
      ]
     },
     "metadata": {},
     "output_type": "display_data"
    },
    {
     "data": {
      "application/vnd.jupyter.widget-view+json": {
       "model_id": "ef4210a188cb40c1931c6de3177f4c42",
       "version_major": 2,
       "version_minor": 0
      },
      "text/plain": [
       "  0%|          | 0/20 [00:00<?, ?it/s]"
      ]
     },
     "metadata": {},
     "output_type": "display_data"
    },
    {
     "data": {
      "application/vnd.jupyter.widget-view+json": {
       "model_id": "b647320068964b9b8b935c01443cbafb",
       "version_major": 2,
       "version_minor": 0
      },
      "text/plain": [
       "  0%|          | 0/20 [00:00<?, ?it/s]"
      ]
     },
     "metadata": {},
     "output_type": "display_data"
    },
    {
     "data": {
      "application/vnd.jupyter.widget-view+json": {
       "model_id": "4a32da358ab9409c9c947b3be6f4ea37",
       "version_major": 2,
       "version_minor": 0
      },
      "text/plain": [
       "  0%|          | 0/20 [00:00<?, ?it/s]"
      ]
     },
     "metadata": {},
     "output_type": "display_data"
    },
    {
     "data": {
      "application/vnd.jupyter.widget-view+json": {
       "model_id": "30f69253b0bc421ca5692392e9042099",
       "version_major": 2,
       "version_minor": 0
      },
      "text/plain": [
       "  0%|          | 0/20 [00:00<?, ?it/s]"
      ]
     },
     "metadata": {},
     "output_type": "display_data"
    },
    {
     "data": {
      "application/vnd.jupyter.widget-view+json": {
       "model_id": "4a66aec17adc416fb3f51ba0d61b6f37",
       "version_major": 2,
       "version_minor": 0
      },
      "text/plain": [
       "  0%|          | 0/20 [00:00<?, ?it/s]"
      ]
     },
     "metadata": {},
     "output_type": "display_data"
    },
    {
     "data": {
      "application/vnd.jupyter.widget-view+json": {
       "model_id": "ca52f24b39a445d097e5661edbeb49bd",
       "version_major": 2,
       "version_minor": 0
      },
      "text/plain": [
       "  0%|          | 0/20 [00:00<?, ?it/s]"
      ]
     },
     "metadata": {},
     "output_type": "display_data"
    },
    {
     "data": {
      "application/vnd.jupyter.widget-view+json": {
       "model_id": "957d1fac82544d2f97ace75ae9979f3a",
       "version_major": 2,
       "version_minor": 0
      },
      "text/plain": [
       "  0%|          | 0/20 [00:00<?, ?it/s]"
      ]
     },
     "metadata": {},
     "output_type": "display_data"
    },
    {
     "data": {
      "application/vnd.jupyter.widget-view+json": {
       "model_id": "176be426ac4f4e3cb13b078a2bfe34dd",
       "version_major": 2,
       "version_minor": 0
      },
      "text/plain": [
       "  0%|          | 0/20 [00:00<?, ?it/s]"
      ]
     },
     "metadata": {},
     "output_type": "display_data"
    },
    {
     "data": {
      "application/vnd.jupyter.widget-view+json": {
       "model_id": "047aece8c44d4cd89a5be46684fde42b",
       "version_major": 2,
       "version_minor": 0
      },
      "text/plain": [
       "  0%|          | 0/20 [00:00<?, ?it/s]"
      ]
     },
     "metadata": {},
     "output_type": "display_data"
    },
    {
     "data": {
      "application/vnd.jupyter.widget-view+json": {
       "model_id": "ee10341bf69e487f883d67b96a6c7282",
       "version_major": 2,
       "version_minor": 0
      },
      "text/plain": [
       "  0%|          | 0/20 [00:00<?, ?it/s]"
      ]
     },
     "metadata": {},
     "output_type": "display_data"
    },
    {
     "data": {
      "application/vnd.jupyter.widget-view+json": {
       "model_id": "8014758b52ca4eb3ba06661688544e8f",
       "version_major": 2,
       "version_minor": 0
      },
      "text/plain": [
       "  0%|          | 0/20 [00:00<?, ?it/s]"
      ]
     },
     "metadata": {},
     "output_type": "display_data"
    },
    {
     "data": {
      "application/vnd.jupyter.widget-view+json": {
       "model_id": "3653f53547b4414c94a6f4b97b43984d",
       "version_major": 2,
       "version_minor": 0
      },
      "text/plain": [
       "  0%|          | 0/20 [00:00<?, ?it/s]"
      ]
     },
     "metadata": {},
     "output_type": "display_data"
    },
    {
     "data": {
      "application/vnd.jupyter.widget-view+json": {
       "model_id": "70939df844444f8db149f6bbbd328cec",
       "version_major": 2,
       "version_minor": 0
      },
      "text/plain": [
       "  0%|          | 0/20 [00:02<?, ?it/s]"
      ]
     },
     "metadata": {},
     "output_type": "display_data"
    },
    {
     "data": {
      "application/vnd.jupyter.widget-view+json": {
       "model_id": "0fc19d2d87fa44498d627c495090096f",
       "version_major": 2,
       "version_minor": 0
      },
      "text/plain": [
       "  0%|          | 0/20 [00:00<?, ?it/s]"
      ]
     },
     "metadata": {},
     "output_type": "display_data"
    },
    {
     "data": {
      "application/vnd.jupyter.widget-view+json": {
       "model_id": "56bddaafe54244e7bfa8ea442b68042e",
       "version_major": 2,
       "version_minor": 0
      },
      "text/plain": [
       "  0%|          | 0/20 [00:00<?, ?it/s]"
      ]
     },
     "metadata": {},
     "output_type": "display_data"
    },
    {
     "data": {
      "application/vnd.jupyter.widget-view+json": {
       "model_id": "fd74d0e0d18e4a519268e0b3cdbd91bb",
       "version_major": 2,
       "version_minor": 0
      },
      "text/plain": [
       "  0%|          | 0/20 [00:00<?, ?it/s]"
      ]
     },
     "metadata": {},
     "output_type": "display_data"
    },
    {
     "data": {
      "application/vnd.jupyter.widget-view+json": {
       "model_id": "0e61746fd0cd44bc95864e421db4f441",
       "version_major": 2,
       "version_minor": 0
      },
      "text/plain": [
       "  0%|          | 0/20 [00:00<?, ?it/s]"
      ]
     },
     "metadata": {},
     "output_type": "display_data"
    },
    {
     "data": {
      "application/vnd.jupyter.widget-view+json": {
       "model_id": "80d2c35b25c84f2083d726fde9e38ac5",
       "version_major": 2,
       "version_minor": 0
      },
      "text/plain": [
       "  0%|          | 0/20 [00:00<?, ?it/s]"
      ]
     },
     "metadata": {},
     "output_type": "display_data"
    }
   ],
   "source": [
    "driver = webdriver.Chrome('chromedriver', options=options)\n",
    "year = []\n",
    "name = []\n",
    "reviewcontext = []\n",
    "for i in tqdm(range(0, 20)) : #페이지수\n",
    "    url = \"https://movie.naver.com/movie/sdb/browsing/bmovie.nhn?open=2021&page=%d\"%(i+1) #페이지 넘기기\n",
    "    driver.get(url)\n",
    "    y = driver.find_elements_by_xpath('//*[@id=\"old_content\"]/ul/li')\n",
    "    for j in tqdm(range(0,len(y))):  #0,20\n",
    "        try :\n",
    "            driver.find_element_by_xpath('//*[@id=\"old_content\"]/ul/li[%d]/a'%(j+1)).click() #영화 선택\n",
    "            time.sleep(0.5)\n",
    "            driver.find_element_by_xpath('//*[@id=\"movieEndTabMenu\"]/li/a[@class=\"tab06 off\"]').click() #리뷰 메뉴 선택\n",
    "            time.sleep(0.5)\n",
    "            x = driver.find_elements_by_xpath('//*[@id=\"reviewTab\"]/div/div/ul/li') #리뷰 메뉴 개수\n",
    "            for k in range(0,len(x)) :\n",
    "                if len(x) == 0 :\n",
    "                    pass\n",
    "                try :\n",
    "                    driver.find_element_by_xpath('//*[@id=\"reviewTab\"]/div/div/ul/li[%d]/a'%(k+1)).click() #리뷰탭\n",
    "                except ElementNotInteractableException :\n",
    "                    driver.get(url)\n",
    "                time.sleep(0.5)\n",
    "                a = driver.find_element_by_xpath('//*[@id=\"content\"]/div/div[2]/div[1]/h3/a').text #영화이름\n",
    "                c = driver.find_element_by_xpath('//*[@id=\"content\"]/div[1]/div[4]/div[1]/div[4]').text #리뷰내용\n",
    "                name.append(a)\n",
    "                c = c.replace('\\n', '')\n",
    "                reviewcontext.append(c)\n",
    "                time.sleep(0.5)\n",
    "                driver.back()\n",
    "        except NoSuchElementException :\n",
    "            driver.get(url)"
   ]
  },
  {
   "cell_type": "code",
   "execution_count": 15,
   "id": "c8176079",
   "metadata": {},
   "outputs": [],
   "source": [
    "movie2021 = pd.DataFrame(columns = ['year', 'name', 'reviewcontext'])\n",
    "movie2021['name'] = name\n",
    "movie2021['reviewcontext'] = reviewcontext\n",
    "movie2021['year'] = 2021\n",
    "movie2021.to_csv('naver_review2021.csv', index=False, encoding=\"utf-8-sig\")"
   ]
  },
  {
   "cell_type": "code",
   "execution_count": 16,
   "id": "76edc46d",
   "metadata": {},
   "outputs": [
    {
     "data": {
      "text/html": [
       "<div>\n",
       "<style scoped>\n",
       "    .dataframe tbody tr th:only-of-type {\n",
       "        vertical-align: middle;\n",
       "    }\n",
       "\n",
       "    .dataframe tbody tr th {\n",
       "        vertical-align: top;\n",
       "    }\n",
       "\n",
       "    .dataframe thead th {\n",
       "        text-align: right;\n",
       "    }\n",
       "</style>\n",
       "<table border=\"1\" class=\"dataframe\">\n",
       "  <thead>\n",
       "    <tr style=\"text-align: right;\">\n",
       "      <th></th>\n",
       "      <th>year</th>\n",
       "      <th>name</th>\n",
       "      <th>reviewcontext</th>\n",
       "    </tr>\n",
       "  </thead>\n",
       "  <tbody>\n",
       "    <tr>\n",
       "      <th>0</th>\n",
       "      <td>2021</td>\n",
       "      <td>007 노 타임 투 다이</td>\n",
       "      <td>(오늘도 극히 평화로운 영국)본드 : 오늘은 무슨 일 없나? Q : 오늘 12개의 ...</td>\n",
       "    </tr>\n",
       "    <tr>\n",
       "      <th>1</th>\n",
       "      <td>2021</td>\n",
       "      <td>007 노 타임 투 다이</td>\n",
       "      <td>20210929용산 CGV IMAX-C-19만원의 행복3.8/5 가장 강력한 운명의...</td>\n",
       "    </tr>\n",
       "    <tr>\n",
       "      <th>2</th>\n",
       "      <td>2021</td>\n",
       "      <td>007 노 타임 투 다이</td>\n",
       "      <td>25 007 노 타임 투 다이감독캐리 후쿠나가출연다니엘 크레이그, 라미 말렉, 레...</td>\n",
       "    </tr>\n",
       "    <tr>\n",
       "      <th>3</th>\n",
       "      <td>2021</td>\n",
       "      <td>007 노 타임 투 다이</td>\n",
       "      <td>- ‘007 노 타임 투 다이’ 9월 29일(수) 오후 5시 전 세계 최초 개봉 확...</td>\n",
       "    </tr>\n",
       "    <tr>\n",
       "      <th>4</th>\n",
       "      <td>2021</td>\n",
       "      <td>007 노 타임 투 다이</td>\n",
       "      <td>007 노 타임 투 다이감독캐리 후쿠나가출연다니엘 크레이그, 라미 말렉, 레아 세이...</td>\n",
       "    </tr>\n",
       "    <tr>\n",
       "      <th>...</th>\n",
       "      <td>...</td>\n",
       "      <td>...</td>\n",
       "      <td>...</td>\n",
       "    </tr>\n",
       "    <tr>\n",
       "      <th>805</th>\n",
       "      <td>2021</td>\n",
       "      <td>사일런싱</td>\n",
       "      <td>영화도 긴장감이 있을 것 같아서  기대되는데 개인적으론 '애프터', '애프터 그후'...</td>\n",
       "    </tr>\n",
       "    <tr>\n",
       "      <th>806</th>\n",
       "      <td>2021</td>\n",
       "      <td>사일런싱</td>\n",
       "      <td>사일런싱감독로빈 프론트출연니콜라이 코스터-왈도, 애나벨 월리스개봉2021.01.28...</td>\n",
       "    </tr>\n",
       "    <tr>\n",
       "      <th>807</th>\n",
       "      <td>2021</td>\n",
       "      <td>사일런싱</td>\n",
       "      <td>사일런싱감독로빈 프론트출연니콜라이 코스터-왈도, 애나벨 월리스개봉2021.01.28...</td>\n",
       "    </tr>\n",
       "    <tr>\n",
       "      <th>808</th>\n",
       "      <td>2021</td>\n",
       "      <td>사일런싱</td>\n",
       "      <td>사일런싱감독 로빈 프론트 출연 니콜라이 코스터-왈도, 애나벨 월리스 개봉 2021....</td>\n",
       "    </tr>\n",
       "    <tr>\n",
       "      <th>809</th>\n",
       "      <td>2021</td>\n",
       "      <td>사일런싱</td>\n",
       "      <td>사일런싱감독로빈 프론트출연니콜라이 코스터-왈도, 애나벨 월리스개봉2021.01.28...</td>\n",
       "    </tr>\n",
       "  </tbody>\n",
       "</table>\n",
       "<p>810 rows × 3 columns</p>\n",
       "</div>"
      ],
      "text/plain": [
       "     year           name                                      reviewcontext\n",
       "0    2021  007 노 타임 투 다이  (오늘도 극히 평화로운 영국)본드 : 오늘은 무슨 일 없나? Q : 오늘 12개의 ...\n",
       "1    2021  007 노 타임 투 다이  20210929용산 CGV IMAX-C-19만원의 행복3.8/5 가장 강력한 운명의...\n",
       "2    2021  007 노 타임 투 다이   25 007 노 타임 투 다이감독캐리 후쿠나가출연다니엘 크레이그, 라미 말렉, 레...\n",
       "3    2021  007 노 타임 투 다이  - ‘007 노 타임 투 다이’ 9월 29일(수) 오후 5시 전 세계 최초 개봉 확...\n",
       "4    2021  007 노 타임 투 다이  007 노 타임 투 다이감독캐리 후쿠나가출연다니엘 크레이그, 라미 말렉, 레아 세이...\n",
       "..    ...            ...                                                ...\n",
       "805  2021           사일런싱  영화도 긴장감이 있을 것 같아서  기대되는데 개인적으론 '애프터', '애프터 그후'...\n",
       "806  2021           사일런싱  사일런싱감독로빈 프론트출연니콜라이 코스터-왈도, 애나벨 월리스개봉2021.01.28...\n",
       "807  2021           사일런싱  사일런싱감독로빈 프론트출연니콜라이 코스터-왈도, 애나벨 월리스개봉2021.01.28...\n",
       "808  2021           사일런싱  사일런싱감독 로빈 프론트 출연 니콜라이 코스터-왈도, 애나벨 월리스 개봉 2021....\n",
       "809  2021           사일런싱  사일런싱감독로빈 프론트출연니콜라이 코스터-왈도, 애나벨 월리스개봉2021.01.28...\n",
       "\n",
       "[810 rows x 3 columns]"
      ]
     },
     "execution_count": 16,
     "metadata": {},
     "output_type": "execute_result"
    }
   ],
   "source": [
    "movie2021"
   ]
  },
  {
   "cell_type": "code",
   "execution_count": null,
   "id": "39d0e7d4",
   "metadata": {},
   "outputs": [],
   "source": []
  }
 ],
 "metadata": {
  "kernelspec": {
   "display_name": "Python 3",
   "language": "python",
   "name": "python3"
  },
  "language_info": {
   "codemirror_mode": {
    "name": "ipython",
    "version": 3
   },
   "file_extension": ".py",
   "mimetype": "text/x-python",
   "name": "python",
   "nbconvert_exporter": "python",
   "pygments_lexer": "ipython3",
   "version": "3.8.8"
  }
 },
 "nbformat": 4,
 "nbformat_minor": 5
}
