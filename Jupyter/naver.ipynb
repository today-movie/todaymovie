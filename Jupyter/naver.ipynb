{
 "cells": [
  {
   "cell_type": "code",
   "execution_count": 2,
   "id": "a25269be",
   "metadata": {},
   "outputs": [],
   "source": [
    "import pandas as pd\n",
    "import numpy as np\n",
    "import matplotlib.pyplot as plt\n",
    "from nltk.tokenize import word_tokenize\n",
    "from sklearn.feature_extraction.text import TfidfVectorizer\n",
    "from sklearn.metrics.pairwise import cosine_similarity\n",
    "import kss\n",
    "from konlpy.tag import Okt  \n",
    "from konlpy.tag import Kkma "
   ]
  },
  {
   "cell_type": "code",
   "execution_count": 3,
   "id": "5ec25c33",
   "metadata": {},
   "outputs": [],
   "source": [
    "import time\n",
    "from tqdm import notebook"
   ]
  },
  {
   "cell_type": "code",
   "execution_count": 4,
   "id": "c8cde29c",
   "metadata": {},
   "outputs": [],
   "source": [
    "import re"
   ]
  },
  {
   "cell_type": "code",
   "execution_count": 5,
   "id": "db42f32a",
   "metadata": {},
   "outputs": [],
   "source": [
    "okt = Okt()"
   ]
  },
  {
   "cell_type": "code",
   "execution_count": 6,
   "id": "4cecb92a",
   "metadata": {},
   "outputs": [
    {
     "data": {
      "text/html": [
       "<div>\n",
       "<style scoped>\n",
       "    .dataframe tbody tr th:only-of-type {\n",
       "        vertical-align: middle;\n",
       "    }\n",
       "\n",
       "    .dataframe tbody tr th {\n",
       "        vertical-align: top;\n",
       "    }\n",
       "\n",
       "    .dataframe thead th {\n",
       "        text-align: right;\n",
       "    }\n",
       "</style>\n",
       "<table border=\"1\" class=\"dataframe\">\n",
       "  <thead>\n",
       "    <tr style=\"text-align: right;\">\n",
       "      <th></th>\n",
       "      <th>year</th>\n",
       "      <th>movie_id</th>\n",
       "      <th>reviews</th>\n",
       "    </tr>\n",
       "  </thead>\n",
       "  <tbody>\n",
       "    <tr>\n",
       "      <th>0</th>\n",
       "      <td>2003</td>\n",
       "      <td>1%의 어떤 것</td>\n",
       "      <td>살짝 억지스럽고 너무나 심하게 건전한 점에서 조금 깍였지만너무 보기 좋은 드라마고,...</td>\n",
       "    </tr>\n",
       "    <tr>\n",
       "      <th>1</th>\n",
       "      <td>2003</td>\n",
       "      <td>25시</td>\n",
       "      <td>(예전리뷰)  \"25시\"   척박한 현실을 여과없이 드러내는 뛰어난 리얼리즘영화인동...</td>\n",
       "    </tr>\n",
       "    <tr>\n",
       "      <th>2</th>\n",
       "      <td>2003</td>\n",
       "      <td>S.W.A.T. 특수기동대</td>\n",
       "      <td>개봉일에 맞춰 기다리던 SWAT를 보았는데 이젠 나아지겠지하고 인내를 하고보다가 너...</td>\n",
       "    </tr>\n",
       "    <tr>\n",
       "      <th>3</th>\n",
       "      <td>2003</td>\n",
       "      <td>S.W.A.T. 특수기동대</td>\n",
       "      <td>수많은 액션영화에는 나름대로의 `공식`이 있습니다. 첫번째, 사격 또는 무술에 있어...</td>\n",
       "    </tr>\n",
       "    <tr>\n",
       "      <th>4</th>\n",
       "      <td>2003</td>\n",
       "      <td>S.W.A.T. 특수기동대</td>\n",
       "      <td>총만 더럽게 쏴되는군.. 마지막에 격투씬 ㅎㅎ 말도 안되는 격투신도 나오고... 해...</td>\n",
       "    </tr>\n",
       "    <tr>\n",
       "      <th>...</th>\n",
       "      <td>...</td>\n",
       "      <td>...</td>\n",
       "      <td>...</td>\n",
       "    </tr>\n",
       "    <tr>\n",
       "      <th>20956</th>\n",
       "      <td>2021</td>\n",
       "      <td>사랑하고 사랑받고, 차고 차이고</td>\n",
       "      <td>애니 [사랑하고, 사랑받고, 차고, 차이고] 국내 메인 예고편(한글) : 2021....</td>\n",
       "    </tr>\n",
       "    <tr>\n",
       "      <th>20957</th>\n",
       "      <td>2021</td>\n",
       "      <td>사랑하고 사랑받고, 차고 차이고</td>\n",
       "      <td>사랑하고 사랑받고, 차고 차이고감독쿠로야나기 토시마사출연한 메구미, 시마자키 노부나...</td>\n",
       "    </tr>\n",
       "    <tr>\n",
       "      <th>20958</th>\n",
       "      <td>2021</td>\n",
       "      <td>사랑하고 사랑받고, 차고 차이고</td>\n",
       "      <td>사랑하고 사랑받고, 차고 차이고감독쿠로야나기 토시마사출연한 메구미, 시마자키 노부나...</td>\n",
       "    </tr>\n",
       "    <tr>\n",
       "      <th>20959</th>\n",
       "      <td>2021</td>\n",
       "      <td>사일런스 앤드 다크니스</td>\n",
       "      <td>영화 [사일런스 앤드 다크니스] 메인 예고편 : 2021.05 : 시각 장애, 청각...</td>\n",
       "    </tr>\n",
       "    <tr>\n",
       "      <th>20960</th>\n",
       "      <td>2021</td>\n",
       "      <td>산타킬러스</td>\n",
       "      <td>에숌 넬스 이안 넬스 감독Fatman, 2020동심 파괴도 유분수지화가난 아이가 ...</td>\n",
       "    </tr>\n",
       "  </tbody>\n",
       "</table>\n",
       "<p>20961 rows × 3 columns</p>\n",
       "</div>"
      ],
      "text/plain": [
       "       year           movie_id  \\\n",
       "0      2003           1%의 어떤 것   \n",
       "1      2003                25시   \n",
       "2      2003     S.W.A.T. 특수기동대   \n",
       "3      2003     S.W.A.T. 특수기동대   \n",
       "4      2003     S.W.A.T. 특수기동대   \n",
       "...     ...                ...   \n",
       "20956  2021  사랑하고 사랑받고, 차고 차이고   \n",
       "20957  2021  사랑하고 사랑받고, 차고 차이고   \n",
       "20958  2021  사랑하고 사랑받고, 차고 차이고   \n",
       "20959  2021       사일런스 앤드 다크니스   \n",
       "20960  2021              산타킬러스   \n",
       "\n",
       "                                                 reviews  \n",
       "0      살짝 억지스럽고 너무나 심하게 건전한 점에서 조금 깍였지만너무 보기 좋은 드라마고,...  \n",
       "1      (예전리뷰)  \"25시\"   척박한 현실을 여과없이 드러내는 뛰어난 리얼리즘영화인동...  \n",
       "2      개봉일에 맞춰 기다리던 SWAT를 보았는데 이젠 나아지겠지하고 인내를 하고보다가 너...  \n",
       "3      수많은 액션영화에는 나름대로의 `공식`이 있습니다. 첫번째, 사격 또는 무술에 있어...  \n",
       "4      총만 더럽게 쏴되는군.. 마지막에 격투씬 ㅎㅎ 말도 안되는 격투신도 나오고... 해...  \n",
       "...                                                  ...  \n",
       "20956  애니 [사랑하고, 사랑받고, 차고, 차이고] 국내 메인 예고편(한글) : 2021....  \n",
       "20957  사랑하고 사랑받고, 차고 차이고감독쿠로야나기 토시마사출연한 메구미, 시마자키 노부나...  \n",
       "20958  사랑하고 사랑받고, 차고 차이고감독쿠로야나기 토시마사출연한 메구미, 시마자키 노부나...  \n",
       "20959  영화 [사일런스 앤드 다크니스] 메인 예고편 : 2021.05 : 시각 장애, 청각...  \n",
       "20960   에숌 넬스 이안 넬스 감독Fatman, 2020동심 파괴도 유분수지화가난 아이가 ...  \n",
       "\n",
       "[20961 rows x 3 columns]"
      ]
     },
     "execution_count": 6,
     "metadata": {},
     "output_type": "execute_result"
    }
   ],
   "source": [
    "naver = pd.read_csv(\"naver_review.csv\")\n",
    "naver"
   ]
  },
  {
   "cell_type": "code",
   "execution_count": 12,
   "id": "a9bb0161",
   "metadata": {},
   "outputs": [
    {
     "name": "stderr",
     "output_type": "stream",
     "text": [
      "<ipython-input-12-ea4d2c91792c>:1: FutureWarning: The default value of regex will change from True to False in a future version.\n",
      "  naver['reviews']= naver['reviews'].str.replace(\"[^ㄱ-ㅎㅏ-ㅣ가-힣 ]\",\"\")\n"
     ]
    }
   ],
   "source": [
    "naver['reviews']= naver['reviews'].str.replace(\"[^ㄱ-ㅎㅏ-ㅣ가-힣 ]\",\"\")"
   ]
  },
  {
   "cell_type": "code",
   "execution_count": 13,
   "id": "50fb1829",
   "metadata": {},
   "outputs": [
    {
     "data": {
      "text/html": [
       "<div>\n",
       "<style scoped>\n",
       "    .dataframe tbody tr th:only-of-type {\n",
       "        vertical-align: middle;\n",
       "    }\n",
       "\n",
       "    .dataframe tbody tr th {\n",
       "        vertical-align: top;\n",
       "    }\n",
       "\n",
       "    .dataframe thead th {\n",
       "        text-align: right;\n",
       "    }\n",
       "</style>\n",
       "<table border=\"1\" class=\"dataframe\">\n",
       "  <thead>\n",
       "    <tr style=\"text-align: right;\">\n",
       "      <th></th>\n",
       "      <th>year</th>\n",
       "      <th>movie_id</th>\n",
       "      <th>reviews</th>\n",
       "    </tr>\n",
       "  </thead>\n",
       "  <tbody>\n",
       "    <tr>\n",
       "      <th>0</th>\n",
       "      <td>2003</td>\n",
       "      <td>1%의 어떤 것</td>\n",
       "      <td>살짝 억지스럽고 너무나 심하게 건전한 점에서 조금 깍였지만너무 보기 좋은 드라마고 ...</td>\n",
       "    </tr>\n",
       "    <tr>\n",
       "      <th>1</th>\n",
       "      <td>2003</td>\n",
       "      <td>25시</td>\n",
       "      <td>예전리뷰  시   척박한 현실을 여과없이 드러내는 뛰어난 리얼리즘영화인동시에 진짜와...</td>\n",
       "    </tr>\n",
       "    <tr>\n",
       "      <th>2</th>\n",
       "      <td>2003</td>\n",
       "      <td>S.W.A.T. 특수기동대</td>\n",
       "      <td>개봉일에 맞춰 기다리던 를 보았는데 이젠 나아지겠지하고 인내를 하고보다가 너무 화가...</td>\n",
       "    </tr>\n",
       "    <tr>\n",
       "      <th>3</th>\n",
       "      <td>2003</td>\n",
       "      <td>S.W.A.T. 특수기동대</td>\n",
       "      <td>수많은 액션영화에는 나름대로의 공식이 있습니다 첫번째 사격 또는 무술에 있어 타의 ...</td>\n",
       "    </tr>\n",
       "    <tr>\n",
       "      <th>4</th>\n",
       "      <td>2003</td>\n",
       "      <td>S.W.A.T. 특수기동대</td>\n",
       "      <td>총만 더럽게 쏴되는군 마지막에 격투씬 ㅎㅎ 말도 안되는 격투신도 나오고 해피엔딩이네...</td>\n",
       "    </tr>\n",
       "    <tr>\n",
       "      <th>...</th>\n",
       "      <td>...</td>\n",
       "      <td>...</td>\n",
       "      <td>...</td>\n",
       "    </tr>\n",
       "    <tr>\n",
       "      <th>20956</th>\n",
       "      <td>2021</td>\n",
       "      <td>사랑하고 사랑받고, 차고 차이고</td>\n",
       "      <td>애니 사랑하고 사랑받고 차고 차이고 국내 메인 예고편한글    한 메구미순정만화 같...</td>\n",
       "    </tr>\n",
       "    <tr>\n",
       "      <th>20957</th>\n",
       "      <td>2021</td>\n",
       "      <td>사랑하고 사랑받고, 차고 차이고</td>\n",
       "      <td>사랑하고 사랑받고 차고 차이고감독쿠로야나기 토시마사출연한 메구미 시마자키 노부나가 ...</td>\n",
       "    </tr>\n",
       "    <tr>\n",
       "      <th>20958</th>\n",
       "      <td>2021</td>\n",
       "      <td>사랑하고 사랑받고, 차고 차이고</td>\n",
       "      <td>사랑하고 사랑받고 차고 차이고감독쿠로야나기 토시마사출연한 메구미 시마자키 노부나가 ...</td>\n",
       "    </tr>\n",
       "    <tr>\n",
       "      <th>20959</th>\n",
       "      <td>2021</td>\n",
       "      <td>사일런스 앤드 다크니스</td>\n",
       "      <td>영화 사일런스 앤드 다크니스 메인 예고편    시각 장애 청각 장애가 있는 딸들시각...</td>\n",
       "    </tr>\n",
       "    <tr>\n",
       "      <th>20960</th>\n",
       "      <td>2021</td>\n",
       "      <td>산타킬러스</td>\n",
       "      <td>에숌 넬스 이안 넬스 감독 동심 파괴도 유분수지화가난 아이가 할머니의 돈을 훔치고...</td>\n",
       "    </tr>\n",
       "  </tbody>\n",
       "</table>\n",
       "<p>20961 rows × 3 columns</p>\n",
       "</div>"
      ],
      "text/plain": [
       "       year           movie_id  \\\n",
       "0      2003           1%의 어떤 것   \n",
       "1      2003                25시   \n",
       "2      2003     S.W.A.T. 특수기동대   \n",
       "3      2003     S.W.A.T. 특수기동대   \n",
       "4      2003     S.W.A.T. 특수기동대   \n",
       "...     ...                ...   \n",
       "20956  2021  사랑하고 사랑받고, 차고 차이고   \n",
       "20957  2021  사랑하고 사랑받고, 차고 차이고   \n",
       "20958  2021  사랑하고 사랑받고, 차고 차이고   \n",
       "20959  2021       사일런스 앤드 다크니스   \n",
       "20960  2021              산타킬러스   \n",
       "\n",
       "                                                 reviews  \n",
       "0      살짝 억지스럽고 너무나 심하게 건전한 점에서 조금 깍였지만너무 보기 좋은 드라마고 ...  \n",
       "1      예전리뷰  시   척박한 현실을 여과없이 드러내는 뛰어난 리얼리즘영화인동시에 진짜와...  \n",
       "2      개봉일에 맞춰 기다리던 를 보았는데 이젠 나아지겠지하고 인내를 하고보다가 너무 화가...  \n",
       "3      수많은 액션영화에는 나름대로의 공식이 있습니다 첫번째 사격 또는 무술에 있어 타의 ...  \n",
       "4      총만 더럽게 쏴되는군 마지막에 격투씬 ㅎㅎ 말도 안되는 격투신도 나오고 해피엔딩이네...  \n",
       "...                                                  ...  \n",
       "20956  애니 사랑하고 사랑받고 차고 차이고 국내 메인 예고편한글    한 메구미순정만화 같...  \n",
       "20957  사랑하고 사랑받고 차고 차이고감독쿠로야나기 토시마사출연한 메구미 시마자키 노부나가 ...  \n",
       "20958  사랑하고 사랑받고 차고 차이고감독쿠로야나기 토시마사출연한 메구미 시마자키 노부나가 ...  \n",
       "20959  영화 사일런스 앤드 다크니스 메인 예고편    시각 장애 청각 장애가 있는 딸들시각...  \n",
       "20960   에숌 넬스 이안 넬스 감독 동심 파괴도 유분수지화가난 아이가 할머니의 돈을 훔치고...  \n",
       "\n",
       "[20961 rows x 3 columns]"
      ]
     },
     "execution_count": 13,
     "metadata": {},
     "output_type": "execute_result"
    }
   ],
   "source": [
    "naver"
   ]
  },
  {
   "cell_type": "code",
   "execution_count": 14,
   "id": "060cf78b",
   "metadata": {},
   "outputs": [],
   "source": [
    "df = pd.read_csv(\"stopwords-ko.txt\")\n",
    "stopwords = df.iloc[:,0].unique()"
   ]
  },
  {
   "cell_type": "code",
   "execution_count": 21,
   "id": "0349f005",
   "metadata": {},
   "outputs": [],
   "source": [
    "naver['word'] = 0"
   ]
  },
  {
   "cell_type": "code",
   "execution_count": 93,
   "id": "466b2903",
   "metadata": {},
   "outputs": [
    {
     "data": {
      "application/vnd.jupyter.widget-view+json": {
       "model_id": "6949bedef5704027970998f9a876026c",
       "version_major": 2,
       "version_minor": 0
      },
      "text/plain": [
       "  0%|          | 0/1962 [00:00<?, ?it/s]"
      ]
     },
     "metadata": {},
     "output_type": "display_data"
    },
    {
     "name": "stderr",
     "output_type": "stream",
     "text": [
      "<ipython-input-93-0f1eb594478b>:13: SettingWithCopyWarning: \n",
      "A value is trying to be set on a copy of a slice from a DataFrame\n",
      "\n",
      "See the caveats in the documentation: https://pandas.pydata.org/pandas-docs/stable/user_guide/indexing.html#returning-a-view-versus-a-copy\n",
      "  naver_re['word'][i] = a\n"
     ]
    }
   ],
   "source": [
    "#for i in notebook.tqdm(range(18999,len(naver))):\n",
    "#    words = naver['reviews'][i]\n",
    "#    letters_only = re.sub('[^0-9가-힣\\s\\.\\!\\?]*', '', str(words))\n",
    "#    sampledf = pd.DataFrame(okt.pos(letters_only, norm=True, stem=True))\n",
    "#    try:\n",
    "#        sampledf = sampledf[(sampledf[1]=='Noun')|(sampledf[1]=='Adjective')|(sampledf[1]=='Verb')]\n",
    "#        spword = []\n",
    "#        for word in sampledf[0]:\n",
    "#            if len(word)>=2:\n",
    "#                if word not in (stopwords): # 스탑워즈 제외하고 출력하기\n",
    "#                    spword.append(word)\n",
    "#        a = pd.DataFrame(spword)[0].unique()\n",
    "#        naver['word'][i] = a\n",
    "#    except KeyError:\n",
    "#        naver['word'][i] = \"\""
   ]
  },
  {
   "cell_type": "code",
   "execution_count": 68,
   "id": "c01ad2d8",
   "metadata": {},
   "outputs": [
    {
     "data": {
      "text/plain": [
       "year                                                     2008\n",
       "movie_id                                                   바디\n",
       "reviews       앞뒤 하나도 안맞고  뒤죽박죽에  개의 조각이 어쩌고 하더니만  개안되는 각각의...\n",
       "word        [앞뒤, 맞다, 뒤죽박죽, 조각, 어쩌, 하다, 안되다, 스토리, 연결, 되다, 말...\n",
       "Name: 5999, dtype: object"
      ]
     },
     "execution_count": 68,
     "metadata": {},
     "output_type": "execute_result"
    }
   ],
   "source": [
    "naver.loc[5999]"
   ]
  },
  {
   "cell_type": "code",
   "execution_count": 95,
   "id": "44d55950",
   "metadata": {},
   "outputs": [],
   "source": [
    "#naver.to_csv('naver_re.csv',encoding='utf-8-sig')"
   ]
  },
  {
   "cell_type": "code",
   "execution_count": 98,
   "id": "1a2c6e1d",
   "metadata": {},
   "outputs": [],
   "source": [
    "naver_re = pd.read_csv('naver_re.csv')"
   ]
  },
  {
   "cell_type": "code",
   "execution_count": 87,
   "id": "2ddcd080",
   "metadata": {
    "scrolled": true
   },
   "outputs": [
    {
     "data": {
      "text/plain": [
       "\"['뭔가' '색다르다' '흥미롭다' '전개' '음뭐' '딱하다' '비평' '싶다' '않다' '하다' '기분' '초반' '중반'\\n '아무' '없다' '보다' '마지막' '부분' '가지' '정도' '들다' '무쿠' '재물' '바치다' '이유' '살짝' '나오다'\\n '내용' '아마' '지다' '마누라' '살리다' '가족' '살다' '때문' '어리다' '알다' '이상하다' '생기다' '괴물'\\n '헐다' '분만' '이름' '까먹다' '딴사람' '생각' '천뢰' '그거' '걸다' '나루토' '나선' '에이' '새벽' '머리'\\n '복잡하다' '갈구다' '분명' '분위기' '정말' '초롱초롱' '애절하다' '눈빛' '미안하다' '바라보다' '쿠도' '초점'\\n '이해' '왜죽' '그것' '제츠' '약속' '지키다' '이서' '어쩌' '다시' '상자' '들어가다' '맞다' '또래' '많다'\\n '대사' '전멸' '도대체' '완벽하다' '들러리' '역할' '수행' '송충이' '멋지다' '기술' '날리다' '명도' '외치다'\\n '재미' '아니다' '재밌다' '만족']\""
      ]
     },
     "execution_count": 87,
     "metadata": {},
     "output_type": "execute_result"
    }
   ],
   "source": [
    "naver_re['word'][10900]"
   ]
  },
  {
   "cell_type": "code",
   "execution_count": 102,
   "id": "994e4d1a",
   "metadata": {},
   "outputs": [
    {
     "data": {
      "text/html": [
       "<div>\n",
       "<style scoped>\n",
       "    .dataframe tbody tr th:only-of-type {\n",
       "        vertical-align: middle;\n",
       "    }\n",
       "\n",
       "    .dataframe tbody tr th {\n",
       "        vertical-align: top;\n",
       "    }\n",
       "\n",
       "    .dataframe thead th {\n",
       "        text-align: right;\n",
       "    }\n",
       "</style>\n",
       "<table border=\"1\" class=\"dataframe\">\n",
       "  <thead>\n",
       "    <tr style=\"text-align: right;\">\n",
       "      <th></th>\n",
       "      <th>Unnamed: 0</th>\n",
       "      <th>Unnamed: 0.1</th>\n",
       "      <th>year</th>\n",
       "      <th>movie_id</th>\n",
       "      <th>reviews</th>\n",
       "      <th>word</th>\n",
       "    </tr>\n",
       "  </thead>\n",
       "  <tbody>\n",
       "    <tr>\n",
       "      <th>2767</th>\n",
       "      <td>2767</td>\n",
       "      <td>2767</td>\n",
       "      <td>2005</td>\n",
       "      <td>이터널 선샤인</td>\n",
       "      <td>과연 그럴까 망각한 자는 정말로 복이 있는 자일까  사람은 누구나 기억을 안고 ...</td>\n",
       "      <td>['그렇다' '망각' '자다' '이다' '사람' '기억' '안고' '산다' '그것'...</td>\n",
       "    </tr>\n",
       "    <tr>\n",
       "      <th>2768</th>\n",
       "      <td>2768</td>\n",
       "      <td>2768</td>\n",
       "      <td>2005</td>\n",
       "      <td>이터널 선샤인</td>\n",
       "      <td>제목  이터널 선샤인      감독  미셸 공드리출연  짐 캐리 케이트 윈슬...</td>\n",
       "      <td>['제목' '터널' '선샤인' '감독' '미셸' '드리다' '출연' '캐리' '케이...</td>\n",
       "    </tr>\n",
       "    <tr>\n",
       "      <th>2769</th>\n",
       "      <td>2769</td>\n",
       "      <td>2769</td>\n",
       "      <td>2005</td>\n",
       "      <td>이터널 선샤인</td>\n",
       "      <td>이터널 션샤인  감독미셸 공드리    주연짐 캐리     조엘 역케이트 윈슬렛   ...</td>\n",
       "      <td>['터널' '샤인' '감독' '미셸' '드리다' '주연' '캐리' '조엘' '케이트...</td>\n",
       "    </tr>\n",
       "    <tr>\n",
       "      <th>2770</th>\n",
       "      <td>2770</td>\n",
       "      <td>2770</td>\n",
       "      <td>2005</td>\n",
       "      <td>이터널 선샤인</td>\n",
       "      <td>NaN</td>\n",
       "      <td>NaN</td>\n",
       "    </tr>\n",
       "    <tr>\n",
       "      <th>2771</th>\n",
       "      <td>2771</td>\n",
       "      <td>2771</td>\n",
       "      <td>2005</td>\n",
       "      <td>이터널 선샤인</td>\n",
       "      <td>누구나 한 번쯤은 생각해 봤을 것이다  이 순간은 정말 잊고 싶다 이 일은 정말 잊...</td>\n",
       "      <td>['하다' '생각' '보다' '순간' '정말' '잊다' '싶다' '사람' '돌아보다...</td>\n",
       "    </tr>\n",
       "    <tr>\n",
       "      <th>2772</th>\n",
       "      <td>2772</td>\n",
       "      <td>2772</td>\n",
       "      <td>2005</td>\n",
       "      <td>이터널 선샤인</td>\n",
       "      <td>영화를 아직 안보신분들은 제 글을 읽지 말아 주세요 스포일러 입니다 제 해석과 조금...</td>\n",
       "      <td>['영화' '안보' '신분' '읽다' '줄다' '스포일러' '이다' '해석' '달라...</td>\n",
       "    </tr>\n",
       "    <tr>\n",
       "      <th>2773</th>\n",
       "      <td>2773</td>\n",
       "      <td>2773</td>\n",
       "      <td>2005</td>\n",
       "      <td>이터널 선샤인</td>\n",
       "      <td>나는 사랑했었다  스무살도 되지 않은 어린 나 였고내 마음을 전할 능력도 없...</td>\n",
       "      <td>['사랑' '하다' '스무살' '되다' '않다' '어리다' '이다' '마음' '능력...</td>\n",
       "    </tr>\n",
       "    <tr>\n",
       "      <th>2774</th>\n",
       "      <td>2774</td>\n",
       "      <td>2774</td>\n",
       "      <td>2005</td>\n",
       "      <td>이터널 선샤인</td>\n",
       "      <td>잠에서 깨어 눈물이 멈추지않던 시절이 있었다이성이 잠드는 순간내 감성은 미친듯이...</td>\n",
       "      <td>['깨다' '눈물' '멈추다' '않다' '시절' '이성' '잠들다' '순간' '감성...</td>\n",
       "    </tr>\n",
       "    <tr>\n",
       "      <th>2775</th>\n",
       "      <td>2775</td>\n",
       "      <td>2775</td>\n",
       "      <td>2005</td>\n",
       "      <td>이터널 선샤인</td>\n",
       "      <td>사랑은 아름답지않은데 일상이니까지우고 싶은 기억이기도 한 이별한 사랑지우기 싫은 기...</td>\n",
       "      <td>['사랑' '아름답다' '않다' '일상' '지우다' '싶다' '기억' '하다' '이...</td>\n",
       "    </tr>\n",
       "    <tr>\n",
       "      <th>2776</th>\n",
       "      <td>2776</td>\n",
       "      <td>2776</td>\n",
       "      <td>2005</td>\n",
       "      <td>이터널 선샤인</td>\n",
       "      <td>강하고 화려한 장면은 없었지만 이터널 선샤인은 따뜻했다    아참서로에게만 불러주는...</td>\n",
       "      <td>['강하다' '화려하다' '장면' '없다' '터널' '선샤인' '따뜻하다' '차다'...</td>\n",
       "    </tr>\n",
       "  </tbody>\n",
       "</table>\n",
       "</div>"
      ],
      "text/plain": [
       "      Unnamed: 0  Unnamed: 0.1  year movie_id  \\\n",
       "2767        2767          2767  2005  이터널 선샤인   \n",
       "2768        2768          2768  2005  이터널 선샤인   \n",
       "2769        2769          2769  2005  이터널 선샤인   \n",
       "2770        2770          2770  2005  이터널 선샤인   \n",
       "2771        2771          2771  2005  이터널 선샤인   \n",
       "2772        2772          2772  2005  이터널 선샤인   \n",
       "2773        2773          2773  2005  이터널 선샤인   \n",
       "2774        2774          2774  2005  이터널 선샤인   \n",
       "2775        2775          2775  2005  이터널 선샤인   \n",
       "2776        2776          2776  2005  이터널 선샤인   \n",
       "\n",
       "                                                reviews  \\\n",
       "2767    과연 그럴까 망각한 자는 정말로 복이 있는 자일까  사람은 누구나 기억을 안고 ...   \n",
       "2768      제목  이터널 선샤인      감독  미셸 공드리출연  짐 캐리 케이트 윈슬...   \n",
       "2769  이터널 션샤인  감독미셸 공드리    주연짐 캐리     조엘 역케이트 윈슬렛   ...   \n",
       "2770                                                NaN   \n",
       "2771  누구나 한 번쯤은 생각해 봤을 것이다  이 순간은 정말 잊고 싶다 이 일은 정말 잊...   \n",
       "2772  영화를 아직 안보신분들은 제 글을 읽지 말아 주세요 스포일러 입니다 제 해석과 조금...   \n",
       "2773      나는 사랑했었다  스무살도 되지 않은 어린 나 였고내 마음을 전할 능력도 없...   \n",
       "2774    잠에서 깨어 눈물이 멈추지않던 시절이 있었다이성이 잠드는 순간내 감성은 미친듯이...   \n",
       "2775  사랑은 아름답지않은데 일상이니까지우고 싶은 기억이기도 한 이별한 사랑지우기 싫은 기...   \n",
       "2776  강하고 화려한 장면은 없었지만 이터널 선샤인은 따뜻했다    아참서로에게만 불러주는...   \n",
       "\n",
       "                                                   word  \n",
       "2767  ['그렇다' '망각' '자다' '이다' '사람' '기억' '안고' '산다' '그것'...  \n",
       "2768  ['제목' '터널' '선샤인' '감독' '미셸' '드리다' '출연' '캐리' '케이...  \n",
       "2769  ['터널' '샤인' '감독' '미셸' '드리다' '주연' '캐리' '조엘' '케이트...  \n",
       "2770                                                NaN  \n",
       "2771  ['하다' '생각' '보다' '순간' '정말' '잊다' '싶다' '사람' '돌아보다...  \n",
       "2772  ['영화' '안보' '신분' '읽다' '줄다' '스포일러' '이다' '해석' '달라...  \n",
       "2773  ['사랑' '하다' '스무살' '되다' '않다' '어리다' '이다' '마음' '능력...  \n",
       "2774  ['깨다' '눈물' '멈추다' '않다' '시절' '이성' '잠들다' '순간' '감성...  \n",
       "2775  ['사랑' '아름답다' '않다' '일상' '지우다' '싶다' '기억' '하다' '이...  \n",
       "2776  ['강하다' '화려하다' '장면' '없다' '터널' '선샤인' '따뜻하다' '차다'...  "
      ]
     },
     "execution_count": 102,
     "metadata": {},
     "output_type": "execute_result"
    }
   ],
   "source": [
    "naver_re[naver_re['movie_id'] == \"이터널 선샤인\"]"
   ]
  },
  {
   "cell_type": "code",
   "execution_count": null,
   "id": "c08d64ff",
   "metadata": {},
   "outputs": [],
   "source": []
  }
 ],
 "metadata": {
  "kernelspec": {
   "display_name": "Python 3",
   "language": "python",
   "name": "python3"
  },
  "language_info": {
   "codemirror_mode": {
    "name": "ipython",
    "version": 3
   },
   "file_extension": ".py",
   "mimetype": "text/x-python",
   "name": "python",
   "nbconvert_exporter": "python",
   "pygments_lexer": "ipython3",
   "version": "3.8.8"
  }
 },
 "nbformat": 4,
 "nbformat_minor": 5
}
