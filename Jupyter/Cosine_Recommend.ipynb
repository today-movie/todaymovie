{
 "cells": [
  {
   "cell_type": "code",
   "execution_count": 31,
   "id": "e6daaee3",
   "metadata": {},
   "outputs": [],
   "source": [
    "import numpy as np\n",
    "import pandas as pd\n",
    "import os\n",
    "import matplotlib.pyplot as plt\n",
    "import seaborn as sns \n",
    "from wordcloud import wordcloud\n",
    "%matplotlib inline\n",
    "import pickle"
   ]
  },
  {
   "cell_type": "code",
   "execution_count": 32,
   "id": "15e6f5a2",
   "metadata": {},
   "outputs": [],
   "source": [
    "with open('movie_dict.pickle', 'rb') as f:\n",
    "    movie_dict = pickle.load(f)"
   ]
  },
  {
   "cell_type": "code",
   "execution_count": 33,
   "id": "60e215e3",
   "metadata": {},
   "outputs": [],
   "source": [
    "movie = pd.DataFrame(list(movie_dict.items()),columns = ['movie_id','review'])"
   ]
  },
  {
   "cell_type": "code",
   "execution_count": 34,
   "id": "ca4ea753",
   "metadata": {},
   "outputs": [
    {
     "data": {
      "text/html": [
       "<div>\n",
       "<style scoped>\n",
       "    .dataframe tbody tr th:only-of-type {\n",
       "        vertical-align: middle;\n",
       "    }\n",
       "\n",
       "    .dataframe tbody tr th {\n",
       "        vertical-align: top;\n",
       "    }\n",
       "\n",
       "    .dataframe thead th {\n",
       "        text-align: right;\n",
       "    }\n",
       "</style>\n",
       "<table border=\"1\" class=\"dataframe\">\n",
       "  <thead>\n",
       "    <tr style=\"text-align: right;\">\n",
       "      <th></th>\n",
       "      <th>movie_id</th>\n",
       "      <th>review</th>\n",
       "    </tr>\n",
       "  </thead>\n",
       "  <tbody>\n",
       "    <tr>\n",
       "      <th>0</th>\n",
       "      <td>1%의 어떤 것</td>\n",
       "      <td>살짝 억지스럽다 심하다 건전하다 깍이다 보기 좋다 드라마 사랑스럽다 일요일 아침 하...</td>\n",
       "    </tr>\n",
       "    <tr>\n",
       "      <th>1</th>\n",
       "      <td>25시</td>\n",
       "      <td>예전 리뷰 척박하다 현실 여과 드러내다 뛰어나다 리얼리즘 영화인 동시 진짜 부딪히다...</td>\n",
       "    </tr>\n",
       "    <tr>\n",
       "      <th>2</th>\n",
       "      <td>S.W.A.T. 특수기동대</td>\n",
       "      <td>개봉일 맞추다 기다리다 보다 나아지다 인내 하다 가다 화가 나다 아깝다 자리 박차다...</td>\n",
       "    </tr>\n",
       "    <tr>\n",
       "      <th>3</th>\n",
       "      <td>갱스 오브 뉴욕</td>\n",
       "      <td>년전 태어나다 보다 세상 약육강식 이다 진리 터득 국가 지금 미국 유럽일 강대국 되...</td>\n",
       "    </tr>\n",
       "    <tr>\n",
       "      <th>4</th>\n",
       "      <td>거짓말의 빛깔</td>\n",
       "      <td>하다 바닷가 마을 여자아이 성폭행 살해 당하다 사건 벌어지다 범인 지목 받다 화가 ...</td>\n",
       "    </tr>\n",
       "    <tr>\n",
       "      <th>...</th>\n",
       "      <td>...</td>\n",
       "      <td>...</td>\n",
       "    </tr>\n",
       "    <tr>\n",
       "      <th>12033</th>\n",
       "      <td>주글래 살래</td>\n",
       "      <td>영문 제목 품사 일치 돼다 영화 제대로 되다 없다 경이 느끼다 하다 스럽다 진짜 드...</td>\n",
       "    </tr>\n",
       "    <tr>\n",
       "      <th>12034</th>\n",
       "      <td>천방지축</td>\n",
       "      <td>호화 캐스팅 하다 보다 정말 어정쩡하다 장르 표본 코미디 액션 멜로 건지다 개인 최...</td>\n",
       "    </tr>\n",
       "    <tr>\n",
       "      <th>12035</th>\n",
       "      <td>콜드 크릭</td>\n",
       "      <td>무섭다 않다 나쁘다</td>\n",
       "    </tr>\n",
       "    <tr>\n",
       "      <th>12036</th>\n",
       "      <td>터미널</td>\n",
       "      <td>행크스 연기 하다 본인 자체 구분 만들다 매력 무조건 기다리다 다가 아니다 어떻다 ...</td>\n",
       "    </tr>\n",
       "    <tr>\n",
       "      <th>12037</th>\n",
       "      <td>헤라퍼플</td>\n",
       "      <td>싸이키 섹스 스릴러 상상 하다 장르 만들다 내다 빼어나다 솜씨 보다 최초 영화 도저...</td>\n",
       "    </tr>\n",
       "  </tbody>\n",
       "</table>\n",
       "<p>12038 rows × 2 columns</p>\n",
       "</div>"
      ],
      "text/plain": [
       "             movie_id                                             review\n",
       "0            1%의 어떤 것  살짝 억지스럽다 심하다 건전하다 깍이다 보기 좋다 드라마 사랑스럽다 일요일 아침 하...\n",
       "1                 25시  예전 리뷰 척박하다 현실 여과 드러내다 뛰어나다 리얼리즘 영화인 동시 진짜 부딪히다...\n",
       "2      S.W.A.T. 특수기동대  개봉일 맞추다 기다리다 보다 나아지다 인내 하다 가다 화가 나다 아깝다 자리 박차다...\n",
       "3            갱스 오브 뉴욕  년전 태어나다 보다 세상 약육강식 이다 진리 터득 국가 지금 미국 유럽일 강대국 되...\n",
       "4             거짓말의 빛깔  하다 바닷가 마을 여자아이 성폭행 살해 당하다 사건 벌어지다 범인 지목 받다 화가 ...\n",
       "...               ...                                                ...\n",
       "12033          주글래 살래  영문 제목 품사 일치 돼다 영화 제대로 되다 없다 경이 느끼다 하다 스럽다 진짜 드...\n",
       "12034            천방지축  호화 캐스팅 하다 보다 정말 어정쩡하다 장르 표본 코미디 액션 멜로 건지다 개인 최...\n",
       "12035           콜드 크릭                                         무섭다 않다 나쁘다\n",
       "12036             터미널  행크스 연기 하다 본인 자체 구분 만들다 매력 무조건 기다리다 다가 아니다 어떻다 ...\n",
       "12037            헤라퍼플  싸이키 섹스 스릴러 상상 하다 장르 만들다 내다 빼어나다 솜씨 보다 최초 영화 도저...\n",
       "\n",
       "[12038 rows x 2 columns]"
      ]
     },
     "execution_count": 34,
     "metadata": {},
     "output_type": "execute_result"
    }
   ],
   "source": [
    "movie"
   ]
  },
  {
   "cell_type": "markdown",
   "id": "df560364",
   "metadata": {},
   "source": [
    "### tf-idf 행렬만들기"
   ]
  },
  {
   "cell_type": "code",
   "execution_count": 35,
   "id": "82e26cf0",
   "metadata": {},
   "outputs": [],
   "source": [
    "#tf-idf 행렬 만들기 \n",
    "from sklearn.feature_extraction.text import TfidfVectorizer"
   ]
  },
  {
   "cell_type": "code",
   "execution_count": 36,
   "id": "5c69d6eb",
   "metadata": {},
   "outputs": [],
   "source": [
    "tfidf = TfidfVectorizer()"
   ]
  },
  {
   "cell_type": "code",
   "execution_count": 37,
   "id": "71270e3d",
   "metadata": {},
   "outputs": [],
   "source": [
    "tfidf_matrix = tfidf.fit_transform(movie.review.astype(str))"
   ]
  },
  {
   "cell_type": "code",
   "execution_count": 38,
   "id": "45f1f6d4",
   "metadata": {},
   "outputs": [
    {
     "data": {
      "text/plain": [
       "(12038, 100380)"
      ]
     },
     "execution_count": 38,
     "metadata": {},
     "output_type": "execute_result"
    }
   ],
   "source": [
    "tfidf_matrix.shape"
   ]
  },
  {
   "cell_type": "markdown",
   "id": "40557315",
   "metadata": {},
   "source": [
    "### 코사인 유사도 만들기 "
   ]
  },
  {
   "cell_type": "code",
   "execution_count": 39,
   "id": "38831b16",
   "metadata": {},
   "outputs": [],
   "source": [
    "from sklearn.metrics.pairwise import linear_kernel\n",
    "cosine_sim = linear_kernel(tfidf_matrix, tfidf_matrix)"
   ]
  },
  {
   "cell_type": "code",
   "execution_count": 40,
   "id": "651584ee",
   "metadata": {},
   "outputs": [],
   "source": [
    "indices = pd.Series(movie.index,index = movie.movie_id)"
   ]
  },
  {
   "cell_type": "markdown",
   "id": "34fd466a",
   "metadata": {},
   "source": [
    "## 코사인 유사도 기반 영화 추천시스템 만들기"
   ]
  },
  {
   "cell_type": "code",
   "execution_count": 41,
   "id": "e57d04a3",
   "metadata": {},
   "outputs": [],
   "source": [
    "def movie_Recommendation(title, cosine_sim=cosine_sim):\n",
    "    \n",
    "    idx = indices[title]\n",
    "\n",
    "    # 모든 영화에 대해서 해당 영화와의 유사도를 구하기\n",
    "    sim_scores = list(enumerate(cosine_sim[idx]))\n",
    "    sim_scores = sorted(sim_scores, key=lambda x:x[1], reverse = True) # score 순으로 정렬\n",
    "\n",
    "    sim_scores = sim_scores[1:11] # 가장 유사한 10개의 영화를 받아옴\n",
    "    movie_indices = [i[0] for i in sim_scores] # 인덱스 받아오기\n",
    "    \n",
    "    result_df = movie.iloc[movie_indices].copy()  #기존에 읽어들인 데이터에서 해당 인덱스의 값을 가져오기 스코어 열을 추가\n",
    "    result_df['score'] = [i[1] for i in sim_scores]\n",
    "    \n",
    "    # 가장 유사한 10개의 영화의 제목을 리턴\n",
    "    return result_df"
   ]
  },
  {
   "cell_type": "code",
   "execution_count": 42,
   "id": "c4c88dcc",
   "metadata": {
    "scrolled": true
   },
   "outputs": [
    {
     "data": {
      "text/html": [
       "<div>\n",
       "<style scoped>\n",
       "    .dataframe tbody tr th:only-of-type {\n",
       "        vertical-align: middle;\n",
       "    }\n",
       "\n",
       "    .dataframe tbody tr th {\n",
       "        vertical-align: top;\n",
       "    }\n",
       "\n",
       "    .dataframe thead th {\n",
       "        text-align: right;\n",
       "    }\n",
       "</style>\n",
       "<table border=\"1\" class=\"dataframe\">\n",
       "  <thead>\n",
       "    <tr style=\"text-align: right;\">\n",
       "      <th></th>\n",
       "      <th>movie_id</th>\n",
       "      <th>review</th>\n",
       "      <th>score</th>\n",
       "    </tr>\n",
       "  </thead>\n",
       "  <tbody>\n",
       "    <tr>\n",
       "      <th>1146</th>\n",
       "      <td>500일의 썸머</td>\n",
       "      <td>좋아하다 여자 아무 확신 먼저 데이트 신청 하다 어리석다 생각 남자 무모하다 안해 ...</td>\n",
       "      <td>0.361996</td>\n",
       "    </tr>\n",
       "    <tr>\n",
       "      <th>300</th>\n",
       "      <td>더 로드</td>\n",
       "      <td>참으로 간담 서늘하다 보다 정말 무섭다 시시하다 매리 구성 되다 현실 본론 들어가다...</td>\n",
       "      <td>0.324581</td>\n",
       "    </tr>\n",
       "    <tr>\n",
       "      <th>554</th>\n",
       "      <td>수면의 과학</td>\n",
       "      <td>빅뱅 처음 사소하다 감정 대폭발 끝나다 없다 마음 쓰기 그녀 점점 커지다 우주 되어...</td>\n",
       "      <td>0.320006</td>\n",
       "    </tr>\n",
       "    <tr>\n",
       "      <th>2060</th>\n",
       "      <td>라라랜드</td>\n",
       "      <td>라라 랜드 감독 다미 차젤레 출연 엠마 스톤 라이언 슬링 시몬 레전드 개봉 미국 평...</td>\n",
       "      <td>0.311405</td>\n",
       "    </tr>\n",
       "    <tr>\n",
       "      <th>1416</th>\n",
       "      <td>블라인드</td>\n",
       "      <td>영화 보고 어떻다 이렇다 평점 의문 몰입 되다 전개 하다 건지다 이해 이하 스포일러...</td>\n",
       "      <td>0.310135</td>\n",
       "    </tr>\n",
       "    <tr>\n",
       "      <th>1266</th>\n",
       "      <td>시네도키, 뉴욕</td>\n",
       "      <td>찰리 카우프만 감독 기억 하다 많다 않다 미셀 드리다 영화 터널 선샤인 생각 되다 ...</td>\n",
       "      <td>0.306772</td>\n",
       "    </tr>\n",
       "    <tr>\n",
       "      <th>314</th>\n",
       "      <td>마더</td>\n",
       "      <td>마더 레이드 다니엘 크다 레이 로저 미첼 감독 남편 구두끈 묶다 아내 리조또 음식 ...</td>\n",
       "      <td>0.297532</td>\n",
       "    </tr>\n",
       "    <tr>\n",
       "      <th>243</th>\n",
       "      <td>비포 선셋</td>\n",
       "      <td>속편 개월 다시 만나다 하다 젊다 남녀 기억 마지막 만남 이후 재회 영화 뒷이야기 ...</td>\n",
       "      <td>0.296048</td>\n",
       "    </tr>\n",
       "    <tr>\n",
       "      <th>919</th>\n",
       "      <td>사과</td>\n",
       "      <td>하다 상대방 사과 그것 어긋나다 관계 회복 반대 결말 위해 사용 되다 경우 대한 종...</td>\n",
       "      <td>0.295780</td>\n",
       "    </tr>\n",
       "    <tr>\n",
       "      <th>2151</th>\n",
       "      <td>나는 내일, 어제의 너와 만난다</td>\n",
       "      <td>내용 스포일러 포함 되어다 영화 보다 주의 하다 바라다 타카 토시 에미 상대방 살다...</td>\n",
       "      <td>0.294249</td>\n",
       "    </tr>\n",
       "  </tbody>\n",
       "</table>\n",
       "</div>"
      ],
      "text/plain": [
       "               movie_id                                             review  \\\n",
       "1146           500일의 썸머  좋아하다 여자 아무 확신 먼저 데이트 신청 하다 어리석다 생각 남자 무모하다 안해 ...   \n",
       "300                더 로드  참으로 간담 서늘하다 보다 정말 무섭다 시시하다 매리 구성 되다 현실 본론 들어가다...   \n",
       "554              수면의 과학  빅뱅 처음 사소하다 감정 대폭발 끝나다 없다 마음 쓰기 그녀 점점 커지다 우주 되어...   \n",
       "2060               라라랜드  라라 랜드 감독 다미 차젤레 출연 엠마 스톤 라이언 슬링 시몬 레전드 개봉 미국 평...   \n",
       "1416               블라인드  영화 보고 어떻다 이렇다 평점 의문 몰입 되다 전개 하다 건지다 이해 이하 스포일러...   \n",
       "1266           시네도키, 뉴욕  찰리 카우프만 감독 기억 하다 많다 않다 미셀 드리다 영화 터널 선샤인 생각 되다 ...   \n",
       "314                  마더  마더 레이드 다니엘 크다 레이 로저 미첼 감독 남편 구두끈 묶다 아내 리조또 음식 ...   \n",
       "243               비포 선셋  속편 개월 다시 만나다 하다 젊다 남녀 기억 마지막 만남 이후 재회 영화 뒷이야기 ...   \n",
       "919                  사과  하다 상대방 사과 그것 어긋나다 관계 회복 반대 결말 위해 사용 되다 경우 대한 종...   \n",
       "2151  나는 내일, 어제의 너와 만난다  내용 스포일러 포함 되어다 영화 보다 주의 하다 바라다 타카 토시 에미 상대방 살다...   \n",
       "\n",
       "         score  \n",
       "1146  0.361996  \n",
       "300   0.324581  \n",
       "554   0.320006  \n",
       "2060  0.311405  \n",
       "1416  0.310135  \n",
       "1266  0.306772  \n",
       "314   0.297532  \n",
       "243   0.296048  \n",
       "919   0.295780  \n",
       "2151  0.294249  "
      ]
     },
     "execution_count": 42,
     "metadata": {},
     "output_type": "execute_result"
    }
   ],
   "source": [
    "movie_Recommendation('이터널 선샤인')"
   ]
  },
  {
   "cell_type": "code",
   "execution_count": 43,
   "id": "b969fc64",
   "metadata": {},
   "outputs": [],
   "source": [
    "import re\n",
    "import stylecloud\n",
    "import collections\n"
   ]
  },
  {
   "cell_type": "code",
   "execution_count": 47,
   "id": "0ab7fde0",
   "metadata": {},
   "outputs": [],
   "source": [
    "x = \"C:\\\\Users\\\\jogj0630\\\\AppData\\\\Local\\\\Microsoft\\\\Windows\\\\Fonts\\\\NanumBarunGothicBold.ttf\""
   ]
  },
  {
   "cell_type": "code",
   "execution_count": 113,
   "id": "ede66839",
   "metadata": {},
   "outputs": [],
   "source": [
    "def creatplot(a):\n",
    "    reclist = movie_Recommendation(a)\n",
    "    sns.set(rc={'figure.figsize':(11.7,8.27)})\n",
    "    plt.rcParams['font.family'] = 'Malgun Gothic'\n",
    "    sns.barplot(data = reclist, y = 'movie_id', x ='score', palette=\"ch:s=-.6,r=.2\")\n",
    "\n",
    "    plt.show()\n",
    "\n",
    "\n",
    "    indexmorphs = movie.loc[movie['movie_id'] == a].index[0]\n",
    "    morphs = movie['review'][indexmorphs]\n",
    "    morphs = re.sub('[^가-힣\\s]*', '',str(morphs)).split(\" \") # 형태소 분류\n",
    "    textdict = collections.Counter(morphs) # 비율 dict 표현\n",
    "    textdict[a] = max(textdict.values())*3 # 제목 비중 높이기\n",
    "    stylecloud.gen_stylecloud(text = textdict, icon_name=\"fas fa-circle\",palette='scientific.sequential.Acton_4',output_name=\"wordcloud.png\", font_path=x)\n",
    "    "
   ]
  },
  {
   "cell_type": "code",
   "execution_count": 114,
   "id": "77c31556",
   "metadata": {},
   "outputs": [
    {
     "name": "stdout",
     "output_type": "stream",
     "text": [
      "영화를 입력하세요 : 이터널 선샤인\n"
     ]
    },
    {
     "data": {
      "image/png": "[encoded data removed]",
      "text/plain": [
       "<Figure size 842.4x595.44 with 1 Axes>"
      ]
     },
     "metadata": {},
     "output_type": "display_data"
    }
   ],
   "source": [
    "a = input(\"영화를 입력하세요 : \")\n",
    "creatplot(a)"
   ]
  },
  {
   "cell_type": "code",
   "execution_count": null,
   "id": "f07c2eb9",
   "metadata": {},
   "outputs": [],
   "source": []
  },
  {
   "cell_type": "code",
   "execution_count": null,
   "id": "6e218fde",
   "metadata": {},
   "outputs": [],
   "source": []
  },
  {
   "cell_type": "code",
   "execution_count": null,
   "id": "e5db9623",
   "metadata": {},
   "outputs": [],
   "source": []
  }
 ],
 "metadata": {
  "kernelspec": {
   "display_name": "Python 3",
   "language": "python",
   "name": "python3"
  },
  "language_info": {
   "codemirror_mode": {
    "name": "ipython",
    "version": 3
   },
   "file_extension": ".py",
   "mimetype": "text/x-python",
   "name": "python",
   "nbconvert_exporter": "python",
   "pygments_lexer": "ipython3",
   "version": "3.8.8"
  }
 },
 "nbformat": 4,
 "nbformat_minor": 5
}
