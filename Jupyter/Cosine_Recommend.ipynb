{
 "cells": [
  {
   "cell_type": "code",
   "execution_count": 17,
   "id": "e6daaee3",
   "metadata": {},
   "outputs": [],
   "source": [
    "import numpy as np\n",
    "import pandas as pd\n",
    "import os\n",
    "import matplotlib.pyplot as plt\n",
    "import seaborn as sns \n",
    "from wordcloud import wordcloud\n",
    "%matplotlib inline\n",
    "import pickle"
   ]
  },
  {
   "cell_type": "code",
   "execution_count": 18,
   "id": "15e6f5a2",
   "metadata": {},
   "outputs": [],
   "source": [
    "with open('movie_dict.pickle', 'rb') as f:\n",
    "    movie_dict = pickle.load(f)"
   ]
  },
  {
   "cell_type": "code",
   "execution_count": 19,
   "id": "60e215e3",
   "metadata": {},
   "outputs": [],
   "source": [
    "movie = pd.DataFrame(list(movie_dict.items()),columns = ['movie_id','review'])"
   ]
  },
  {
   "cell_type": "code",
   "execution_count": 20,
   "id": "ca4ea753",
   "metadata": {},
   "outputs": [
    {
     "data": {
      "text/plain": "             movie_id                                             review\n0            1%의 어떤 것  살짝 억지스럽다 심하다 건전하다 깍이다 보기 좋다 드라마 사랑스럽다 일요일 아침 하...\n1                 25시  예전 리뷰 척박하다 현실 여과 드러내다 뛰어나다 리얼리즘 영화인 동시 진짜 부딪히다...\n2      S.W.A.T. 특수기동대  개봉일 맞추다 기다리다 보다 나아지다 인내 하다 가다 화가 나다 아깝다 자리 박차다...\n3            갱스 오브 뉴욕  년전 태어나다 보다 세상 약육강식 이다 진리 터득 국가 지금 미국 유럽일 강대국 되...\n4             거짓말의 빛깔  하다 바닷가 마을 여자아이 성폭행 살해 당하다 사건 벌어지다 범인 지목 받다 화가 ...\n...               ...                                                ...\n12058          주글래 살래  영문 제목 품사 일치 돼다 영화 제대로 되다 없다 경이 느끼다 하다 스럽다 진짜 드...\n12059            천방지축  호화 캐스팅 하다 보다 정말 어정쩡하다 장르 표본 코미디 액션 멜로 건지다 개인 최...\n12060           콜드 크릭                                         무섭다 않다 나쁘다\n12061             터미널  행크스 연기 하다 본인 자체 구분 만들다 매력 무조건 기다리다 다가 아니다 어떻다 ...\n12062            헤라퍼플  싸이키 섹스 스릴러 상상 하다 장르 만들다 내다 빼어나다 솜씨 보다 최초 영화 도저...\n\n[12063 rows x 2 columns]",
      "text/html": "<div>\n<style scoped>\n    .dataframe tbody tr th:only-of-type {\n        vertical-align: middle;\n    }\n\n    .dataframe tbody tr th {\n        vertical-align: top;\n    }\n\n    .dataframe thead th {\n        text-align: right;\n    }\n</style>\n<table border=\"1\" class=\"dataframe\">\n  <thead>\n    <tr style=\"text-align: right;\">\n      <th></th>\n      <th>movie_id</th>\n      <th>review</th>\n    </tr>\n  </thead>\n  <tbody>\n    <tr>\n      <th>0</th>\n      <td>1%의 어떤 것</td>\n      <td>살짝 억지스럽다 심하다 건전하다 깍이다 보기 좋다 드라마 사랑스럽다 일요일 아침 하...</td>\n    </tr>\n    <tr>\n      <th>1</th>\n      <td>25시</td>\n      <td>예전 리뷰 척박하다 현실 여과 드러내다 뛰어나다 리얼리즘 영화인 동시 진짜 부딪히다...</td>\n    </tr>\n    <tr>\n      <th>2</th>\n      <td>S.W.A.T. 특수기동대</td>\n      <td>개봉일 맞추다 기다리다 보다 나아지다 인내 하다 가다 화가 나다 아깝다 자리 박차다...</td>\n    </tr>\n    <tr>\n      <th>3</th>\n      <td>갱스 오브 뉴욕</td>\n      <td>년전 태어나다 보다 세상 약육강식 이다 진리 터득 국가 지금 미국 유럽일 강대국 되...</td>\n    </tr>\n    <tr>\n      <th>4</th>\n      <td>거짓말의 빛깔</td>\n      <td>하다 바닷가 마을 여자아이 성폭행 살해 당하다 사건 벌어지다 범인 지목 받다 화가 ...</td>\n    </tr>\n    <tr>\n      <th>...</th>\n      <td>...</td>\n      <td>...</td>\n    </tr>\n    <tr>\n      <th>12058</th>\n      <td>주글래 살래</td>\n      <td>영문 제목 품사 일치 돼다 영화 제대로 되다 없다 경이 느끼다 하다 스럽다 진짜 드...</td>\n    </tr>\n    <tr>\n      <th>12059</th>\n      <td>천방지축</td>\n      <td>호화 캐스팅 하다 보다 정말 어정쩡하다 장르 표본 코미디 액션 멜로 건지다 개인 최...</td>\n    </tr>\n    <tr>\n      <th>12060</th>\n      <td>콜드 크릭</td>\n      <td>무섭다 않다 나쁘다</td>\n    </tr>\n    <tr>\n      <th>12061</th>\n      <td>터미널</td>\n      <td>행크스 연기 하다 본인 자체 구분 만들다 매력 무조건 기다리다 다가 아니다 어떻다 ...</td>\n    </tr>\n    <tr>\n      <th>12062</th>\n      <td>헤라퍼플</td>\n      <td>싸이키 섹스 스릴러 상상 하다 장르 만들다 내다 빼어나다 솜씨 보다 최초 영화 도저...</td>\n    </tr>\n  </tbody>\n</table>\n<p>12063 rows × 2 columns</p>\n</div>"
     },
     "execution_count": 20,
     "metadata": {},
     "output_type": "execute_result"
    }
   ],
   "source": [
    "movie"
   ]
  },
  {
   "cell_type": "markdown",
   "id": "df560364",
   "metadata": {},
   "source": [
    "### tf-idf 행렬만들기"
   ]
  },
  {
   "cell_type": "code",
   "execution_count": 21,
   "id": "82e26cf0",
   "metadata": {},
   "outputs": [],
   "source": [
    "#tf-idf 행렬 만들기 \n",
    "from sklearn.feature_extraction.text import TfidfVectorizer"
   ]
  },
  {
   "cell_type": "code",
   "execution_count": 22,
   "id": "5c69d6eb",
   "metadata": {},
   "outputs": [],
   "source": [
    "tfidf = TfidfVectorizer()"
   ]
  },
  {
   "cell_type": "code",
   "execution_count": 24,
   "id": "71270e3d",
   "metadata": {},
   "outputs": [],
   "source": [
    "tfidf_matrix = tfidf.fit_transform(movie.review.astype(str))"
   ]
  },
  {
   "cell_type": "code",
   "execution_count": 25,
   "id": "45f1f6d4",
   "metadata": {},
   "outputs": [
    {
     "data": {
      "text/plain": "(12063, 104279)"
     },
     "execution_count": 25,
     "metadata": {},
     "output_type": "execute_result"
    }
   ],
   "source": [
    "tfidf_matrix.shape"
   ]
  },
  {
   "cell_type": "markdown",
   "id": "40557315",
   "metadata": {},
   "source": [
    "### 코사인 유사도 만들기 "
   ]
  },
  {
   "cell_type": "code",
   "execution_count": 26,
   "id": "38831b16",
   "metadata": {},
   "outputs": [],
   "source": [
    "from sklearn.metrics.pairwise import linear_kernel\n",
    "cosine_sim = linear_kernel(tfidf_matrix, tfidf_matrix)"
   ]
  },
  {
   "cell_type": "code",
   "execution_count": 27,
   "id": "651584ee",
   "metadata": {},
   "outputs": [
    {
     "name": "stdout",
     "output_type": "stream",
     "text": [
      "movie_id\n",
      "1%의 어떤 것              0\n",
      "25시                   1\n",
      "S.W.A.T. 특수기동대        2\n",
      "갱스 오브 뉴욕              3\n",
      "거짓말의 빛깔               4\n",
      "                  ...  \n",
      "주글래 살래            12058\n",
      "천방지축              12059\n",
      "콜드 크릭             12060\n",
      "터미널               12061\n",
      "헤라퍼플              12062\n",
      "Length: 12063, dtype: int64\n"
     ]
    }
   ],
   "source": [
    "indices = pd.Series(movie.index,index = movie.movie_id)\n",
    "print(indices)"
   ]
  },
  {
   "cell_type": "markdown",
   "id": "34fd466a",
   "metadata": {},
   "source": [
    "## 코사인 유사도 기반 영화 추천시스템 만들기"
   ]
  },
  {
   "cell_type": "code",
   "execution_count": 28,
   "id": "e57d04a3",
   "metadata": {},
   "outputs": [],
   "source": [
    "def movie_Recommendation(title, cosine_sim=cosine_sim):\n",
    "    \n",
    "    idx = indices[title]\n",
    "\n",
    "    # 모든 영화에 대해서 해당 영화와의 유사도를 구하기\n",
    "    sim_scores = list(enumerate(cosine_sim[idx]))\n",
    "    sim_scores = sorted(sim_scores, key=lambda x:x[1], reverse = True) # score 순으로 정렬\n",
    "\n",
    "    sim_scores = sim_scores[1:11] # 가장 유사한 10개의 영화를 받아옴\n",
    "    movie_indices = [i[0] for i in sim_scores] # 인덱스 받아오기\n",
    "    \n",
    "    result_df = movie.iloc[movie_indices].copy()  #기존에 읽어들인 데이터에서 해당 인덱스의 값을 가져오기 스코어 열을 추가\n",
    "    result_df['score'] = [i[1] for i in sim_scores]\n",
    "    \n",
    "    # 가장 유사한 10개의 영화의 제목을 리턴\n",
    "    return result_df"
   ]
  },
  {
   "cell_type": "code",
   "execution_count": 29,
   "id": "c4c88dcc",
   "metadata": {
    "scrolled": true
   },
   "outputs": [
    {
     "data": {
      "text/plain": "                                               movie_id  \\\n1160  순진한 남자 갖고놀기의 전형을 보여준것 이다      여자들의 무한 이기심을 사랑이...   \n560                                              수면의 과학   \n1282                                           시네도키, 뉴욕   \n245                                               비포 선셋   \n931                                                  사과   \n2343                                             너의 결혼식   \n2175                                  나는 내일, 어제의 너와 만난다   \n970                                                어톤먼트   \n158                                                2046   \n1082                                             세븐 파운즈   \n\n                                                 review     score  \n1160  좋아하다 여자 아무 확신 먼저 데이트 신청 하다 어리석다 생각 남자 무모하다 안해 ...  0.361941  \n560   빅뱅 처음 사소하다 감정 대폭발 끝나다 없다 마음 쓰기 그녀 점점 커지다 우주 되어...  0.320118  \n1282  찰리 카우프만 감독 기억 하다 많다 않다 미셀 드리다 영화 터널 선샤인 생각 되다 ...  0.306942  \n245   속편 개월 다시 만나다 하다 젊다 남녀 기억 마지막 만남 이후 재회 영화 뒷이야기 ...  0.296044  \n931   하다 상대방 사과 그것 어긋나다 관계 회복 반대 결말 위해 사용 되다 경우 대한 종...  0.295869  \n2343  아주 나쁘다 영화 자잘하다 무시 하다 진부하다 소재 플롯 가난하다 여주 순애보 남다...  0.294378  \n2175  내용 스포일러 포함 되어다 영화 보다 주의 하다 바라다 타카 토시 에미 상대방 살다...  0.294261  \n970   표지 이렇다 영화 나레이터 이자 사건 일으키다 장본인 브리오니 이다 그녀 뒷모습 이...  0.292800  \n158   왕가위 변하다 그동안 끊임없다 사랑 감정 대해 이야기 해오다 모습 다르다 영화 묘사...  0.291526  \n1082  스포 주인공 토마스 스미스 년전 불의 사고 아내 명의 사람과 버리다 대한 죄책감 시...  0.289440  ",
      "text/html": "<div>\n<style scoped>\n    .dataframe tbody tr th:only-of-type {\n        vertical-align: middle;\n    }\n\n    .dataframe tbody tr th {\n        vertical-align: top;\n    }\n\n    .dataframe thead th {\n        text-align: right;\n    }\n</style>\n<table border=\"1\" class=\"dataframe\">\n  <thead>\n    <tr style=\"text-align: right;\">\n      <th></th>\n      <th>movie_id</th>\n      <th>review</th>\n      <th>score</th>\n    </tr>\n  </thead>\n  <tbody>\n    <tr>\n      <th>1160</th>\n      <td>순진한 남자 갖고놀기의 전형을 보여준것 이다      여자들의 무한 이기심을 사랑이...</td>\n      <td>좋아하다 여자 아무 확신 먼저 데이트 신청 하다 어리석다 생각 남자 무모하다 안해 ...</td>\n      <td>0.361941</td>\n    </tr>\n    <tr>\n      <th>560</th>\n      <td>수면의 과학</td>\n      <td>빅뱅 처음 사소하다 감정 대폭발 끝나다 없다 마음 쓰기 그녀 점점 커지다 우주 되어...</td>\n      <td>0.320118</td>\n    </tr>\n    <tr>\n      <th>1282</th>\n      <td>시네도키, 뉴욕</td>\n      <td>찰리 카우프만 감독 기억 하다 많다 않다 미셀 드리다 영화 터널 선샤인 생각 되다 ...</td>\n      <td>0.306942</td>\n    </tr>\n    <tr>\n      <th>245</th>\n      <td>비포 선셋</td>\n      <td>속편 개월 다시 만나다 하다 젊다 남녀 기억 마지막 만남 이후 재회 영화 뒷이야기 ...</td>\n      <td>0.296044</td>\n    </tr>\n    <tr>\n      <th>931</th>\n      <td>사과</td>\n      <td>하다 상대방 사과 그것 어긋나다 관계 회복 반대 결말 위해 사용 되다 경우 대한 종...</td>\n      <td>0.295869</td>\n    </tr>\n    <tr>\n      <th>2343</th>\n      <td>너의 결혼식</td>\n      <td>아주 나쁘다 영화 자잘하다 무시 하다 진부하다 소재 플롯 가난하다 여주 순애보 남다...</td>\n      <td>0.294378</td>\n    </tr>\n    <tr>\n      <th>2175</th>\n      <td>나는 내일, 어제의 너와 만난다</td>\n      <td>내용 스포일러 포함 되어다 영화 보다 주의 하다 바라다 타카 토시 에미 상대방 살다...</td>\n      <td>0.294261</td>\n    </tr>\n    <tr>\n      <th>970</th>\n      <td>어톤먼트</td>\n      <td>표지 이렇다 영화 나레이터 이자 사건 일으키다 장본인 브리오니 이다 그녀 뒷모습 이...</td>\n      <td>0.292800</td>\n    </tr>\n    <tr>\n      <th>158</th>\n      <td>2046</td>\n      <td>왕가위 변하다 그동안 끊임없다 사랑 감정 대해 이야기 해오다 모습 다르다 영화 묘사...</td>\n      <td>0.291526</td>\n    </tr>\n    <tr>\n      <th>1082</th>\n      <td>세븐 파운즈</td>\n      <td>스포 주인공 토마스 스미스 년전 불의 사고 아내 명의 사람과 버리다 대한 죄책감 시...</td>\n      <td>0.289440</td>\n    </tr>\n  </tbody>\n</table>\n</div>"
     },
     "execution_count": 29,
     "metadata": {},
     "output_type": "execute_result"
    }
   ],
   "source": [
    "movie_Recommendation('이터널 선샤인')"
   ]
  },
  {
   "cell_type": "code",
   "execution_count": 31,
   "id": "b969fc64",
   "metadata": {},
   "outputs": [],
   "source": [
    "import re\n",
    "import stylecloud\n",
    "import collections\n"
   ]
  },
  {
   "cell_type": "code",
   "execution_count": 32,
   "id": "0ab7fde0",
   "metadata": {},
   "outputs": [],
   "source": [
    "x = \"C:\\\\Users\\\\jogj0630\\\\AppData\\\\Local\\\\Microsoft\\\\Windows\\\\Fonts\\\\Jalnan.ttf\""
   ]
  },
  {
   "cell_type": "code",
   "execution_count": 33,
   "id": "ede66839",
   "metadata": {},
   "outputs": [],
   "source": [
    "def creatplot(a):\n",
    "    reclist = movie_Recommendation(a)\n",
    "    sns.set(rc={'figure.figsize':(11.7,8.27)})\n",
    "    plt.rcParams['font.family'] = 'Malgun Gothic'\n",
    "    sns.barplot(data = reclist, y = 'movie_id', x ='score', palette=\"ch:s=-.6,r=.2\")\n",
    "\n",
    "    plt.show()\n",
    "\n",
    "\n",
    "    indexmorphs = movie.loc[movie['movie_id'] == a].index[0]\n",
    "    morphs = movie['review'][indexmorphs]\n",
    "    morphs = re.sub('[^가-힣\\s]*', '',str(morphs)).split(\" \") # 형태소 분류\n",
    "    textdict = collections.Counter(morphs) # 비율 dict 표현\n",
    "    textdict[a] = max(textdict.values())*3 # 제목 비중 높이기\n",
    "    stylecloud.gen_stylecloud(text = textdict, icon_name=\"fas fa-comment-alt\",palette=\"colorbrewer.diverging.Spectral_10\",background_color='black',output_name=\"ttt.png\", font_path=x)\n",
    "    "
   ]
  },
  {
   "cell_type": "code",
   "execution_count": 36,
   "id": "77c31556",
   "metadata": {},
   "outputs": [
    {
     "ename": "KeyError",
     "evalue": "'영화'",
     "output_type": "error",
     "traceback": [
      "\u001B[0;31m---------------------------------------------------------------------------\u001B[0m",
      "\u001B[0;31mKeyError\u001B[0m                                  Traceback (most recent call last)",
      "\u001B[0;32m~/Python/Movie/todaymovie/venv/lib/python3.9/site-packages/pandas/core/indexes/base.py\u001B[0m in \u001B[0;36mget_loc\u001B[0;34m(self, key, method, tolerance)\u001B[0m\n\u001B[1;32m   3360\u001B[0m             \u001B[0;32mtry\u001B[0m\u001B[0;34m:\u001B[0m\u001B[0;34m\u001B[0m\u001B[0;34m\u001B[0m\u001B[0m\n\u001B[0;32m-> 3361\u001B[0;31m                 \u001B[0;32mreturn\u001B[0m \u001B[0mself\u001B[0m\u001B[0;34m.\u001B[0m\u001B[0m_engine\u001B[0m\u001B[0;34m.\u001B[0m\u001B[0mget_loc\u001B[0m\u001B[0;34m(\u001B[0m\u001B[0mcasted_key\u001B[0m\u001B[0;34m)\u001B[0m\u001B[0;34m\u001B[0m\u001B[0;34m\u001B[0m\u001B[0m\n\u001B[0m\u001B[1;32m   3362\u001B[0m             \u001B[0;32mexcept\u001B[0m \u001B[0mKeyError\u001B[0m \u001B[0;32mas\u001B[0m \u001B[0merr\u001B[0m\u001B[0;34m:\u001B[0m\u001B[0;34m\u001B[0m\u001B[0;34m\u001B[0m\u001B[0m\n",
      "\u001B[0;32m~/Python/Movie/todaymovie/venv/lib/python3.9/site-packages/pandas/_libs/index.pyx\u001B[0m in \u001B[0;36mpandas._libs.index.IndexEngine.get_loc\u001B[0;34m()\u001B[0m\n",
      "\u001B[0;32m~/Python/Movie/todaymovie/venv/lib/python3.9/site-packages/pandas/_libs/index.pyx\u001B[0m in \u001B[0;36mpandas._libs.index.IndexEngine.get_loc\u001B[0;34m()\u001B[0m\n",
      "\u001B[0;32mpandas/_libs/hashtable_class_helper.pxi\u001B[0m in \u001B[0;36mpandas._libs.hashtable.PyObjectHashTable.get_item\u001B[0;34m()\u001B[0m\n",
      "\u001B[0;32mpandas/_libs/hashtable_class_helper.pxi\u001B[0m in \u001B[0;36mpandas._libs.hashtable.PyObjectHashTable.get_item\u001B[0;34m()\u001B[0m\n",
      "\u001B[0;31mKeyError\u001B[0m: '영화'",
      "\nThe above exception was the direct cause of the following exception:\n",
      "\u001B[0;31mKeyError\u001B[0m                                  Traceback (most recent call last)",
      "\u001B[0;32m/var/folders/gw/cgt75dcs5p5brqwyv3ptr3mm0000gn/T/ipykernel_23508/3707385228.py\u001B[0m in \u001B[0;36m<module>\u001B[0;34m\u001B[0m\n\u001B[1;32m      1\u001B[0m \u001B[0ma\u001B[0m \u001B[0;34m=\u001B[0m \u001B[0minput\u001B[0m\u001B[0;34m(\u001B[0m\u001B[0;34m\"영화를 입력하세요 : \"\u001B[0m\u001B[0;34m)\u001B[0m\u001B[0;34m\u001B[0m\u001B[0;34m\u001B[0m\u001B[0m\n\u001B[0;32m----> 2\u001B[0;31m \u001B[0mcreatplot\u001B[0m\u001B[0;34m(\u001B[0m\u001B[0ma\u001B[0m\u001B[0;34m)\u001B[0m\u001B[0;34m\u001B[0m\u001B[0;34m\u001B[0m\u001B[0m\n\u001B[0m\u001B[1;32m      3\u001B[0m \u001B[0;34m\u001B[0m\u001B[0m\n",
      "\u001B[0;32m/var/folders/gw/cgt75dcs5p5brqwyv3ptr3mm0000gn/T/ipykernel_23508/605444690.py\u001B[0m in \u001B[0;36mcreatplot\u001B[0;34m(a)\u001B[0m\n\u001B[1;32m      1\u001B[0m \u001B[0;32mdef\u001B[0m \u001B[0mcreatplot\u001B[0m\u001B[0;34m(\u001B[0m\u001B[0ma\u001B[0m\u001B[0;34m)\u001B[0m\u001B[0;34m:\u001B[0m\u001B[0;34m\u001B[0m\u001B[0;34m\u001B[0m\u001B[0m\n\u001B[0;32m----> 2\u001B[0;31m     \u001B[0mreclist\u001B[0m \u001B[0;34m=\u001B[0m \u001B[0mmovie_Recommendation\u001B[0m\u001B[0;34m(\u001B[0m\u001B[0ma\u001B[0m\u001B[0;34m)\u001B[0m\u001B[0;34m\u001B[0m\u001B[0;34m\u001B[0m\u001B[0m\n\u001B[0m\u001B[1;32m      3\u001B[0m     \u001B[0msns\u001B[0m\u001B[0;34m.\u001B[0m\u001B[0mset\u001B[0m\u001B[0;34m(\u001B[0m\u001B[0mrc\u001B[0m\u001B[0;34m=\u001B[0m\u001B[0;34m{\u001B[0m\u001B[0;34m'figure.figsize'\u001B[0m\u001B[0;34m:\u001B[0m\u001B[0;34m(\u001B[0m\u001B[0;36m11.7\u001B[0m\u001B[0;34m,\u001B[0m\u001B[0;36m8.27\u001B[0m\u001B[0;34m)\u001B[0m\u001B[0;34m}\u001B[0m\u001B[0;34m)\u001B[0m\u001B[0;34m\u001B[0m\u001B[0;34m\u001B[0m\u001B[0m\n\u001B[1;32m      4\u001B[0m     \u001B[0mplt\u001B[0m\u001B[0;34m.\u001B[0m\u001B[0mrcParams\u001B[0m\u001B[0;34m[\u001B[0m\u001B[0;34m'font.family'\u001B[0m\u001B[0;34m]\u001B[0m \u001B[0;34m=\u001B[0m \u001B[0;34m'Malgun Gothic'\u001B[0m\u001B[0;34m\u001B[0m\u001B[0;34m\u001B[0m\u001B[0m\n\u001B[1;32m      5\u001B[0m     \u001B[0msns\u001B[0m\u001B[0;34m.\u001B[0m\u001B[0mbarplot\u001B[0m\u001B[0;34m(\u001B[0m\u001B[0mdata\u001B[0m \u001B[0;34m=\u001B[0m \u001B[0mreclist\u001B[0m\u001B[0;34m,\u001B[0m \u001B[0my\u001B[0m \u001B[0;34m=\u001B[0m \u001B[0;34m'movie_id'\u001B[0m\u001B[0;34m,\u001B[0m \u001B[0mx\u001B[0m \u001B[0;34m=\u001B[0m\u001B[0;34m'score'\u001B[0m\u001B[0;34m,\u001B[0m \u001B[0mpalette\u001B[0m\u001B[0;34m=\u001B[0m\u001B[0;34m\"ch:s=-.6,r=.2\"\u001B[0m\u001B[0;34m)\u001B[0m\u001B[0;34m\u001B[0m\u001B[0;34m\u001B[0m\u001B[0m\n",
      "\u001B[0;32m/var/folders/gw/cgt75dcs5p5brqwyv3ptr3mm0000gn/T/ipykernel_23508/3878821889.py\u001B[0m in \u001B[0;36mmovie_Recommendation\u001B[0;34m(title, cosine_sim)\u001B[0m\n\u001B[1;32m      1\u001B[0m \u001B[0;32mdef\u001B[0m \u001B[0mmovie_Recommendation\u001B[0m\u001B[0;34m(\u001B[0m\u001B[0mtitle\u001B[0m\u001B[0;34m,\u001B[0m \u001B[0mcosine_sim\u001B[0m\u001B[0;34m=\u001B[0m\u001B[0mcosine_sim\u001B[0m\u001B[0;34m)\u001B[0m\u001B[0;34m:\u001B[0m\u001B[0;34m\u001B[0m\u001B[0;34m\u001B[0m\u001B[0m\n\u001B[1;32m      2\u001B[0m \u001B[0;34m\u001B[0m\u001B[0m\n\u001B[0;32m----> 3\u001B[0;31m     \u001B[0midx\u001B[0m \u001B[0;34m=\u001B[0m \u001B[0mindices\u001B[0m\u001B[0;34m[\u001B[0m\u001B[0mtitle\u001B[0m\u001B[0;34m]\u001B[0m\u001B[0;34m\u001B[0m\u001B[0;34m\u001B[0m\u001B[0m\n\u001B[0m\u001B[1;32m      4\u001B[0m \u001B[0;34m\u001B[0m\u001B[0m\n\u001B[1;32m      5\u001B[0m     \u001B[0;31m# 모든 영화에 대해서 해당 영화와의 유사도를 구하기\u001B[0m\u001B[0;34m\u001B[0m\u001B[0;34m\u001B[0m\u001B[0m\n",
      "\u001B[0;32m~/Python/Movie/todaymovie/venv/lib/python3.9/site-packages/pandas/core/series.py\u001B[0m in \u001B[0;36m__getitem__\u001B[0;34m(self, key)\u001B[0m\n\u001B[1;32m    940\u001B[0m \u001B[0;34m\u001B[0m\u001B[0m\n\u001B[1;32m    941\u001B[0m         \u001B[0;32melif\u001B[0m \u001B[0mkey_is_scalar\u001B[0m\u001B[0;34m:\u001B[0m\u001B[0;34m\u001B[0m\u001B[0;34m\u001B[0m\u001B[0m\n\u001B[0;32m--> 942\u001B[0;31m             \u001B[0;32mreturn\u001B[0m \u001B[0mself\u001B[0m\u001B[0;34m.\u001B[0m\u001B[0m_get_value\u001B[0m\u001B[0;34m(\u001B[0m\u001B[0mkey\u001B[0m\u001B[0;34m)\u001B[0m\u001B[0;34m\u001B[0m\u001B[0;34m\u001B[0m\u001B[0m\n\u001B[0m\u001B[1;32m    943\u001B[0m \u001B[0;34m\u001B[0m\u001B[0m\n\u001B[1;32m    944\u001B[0m         \u001B[0;32mif\u001B[0m \u001B[0mis_hashable\u001B[0m\u001B[0;34m(\u001B[0m\u001B[0mkey\u001B[0m\u001B[0;34m)\u001B[0m\u001B[0;34m:\u001B[0m\u001B[0;34m\u001B[0m\u001B[0;34m\u001B[0m\u001B[0m\n",
      "\u001B[0;32m~/Python/Movie/todaymovie/venv/lib/python3.9/site-packages/pandas/core/series.py\u001B[0m in \u001B[0;36m_get_value\u001B[0;34m(self, label, takeable)\u001B[0m\n\u001B[1;32m   1049\u001B[0m \u001B[0;34m\u001B[0m\u001B[0m\n\u001B[1;32m   1050\u001B[0m         \u001B[0;31m# Similar to Index.get_value, but we do not fall back to positional\u001B[0m\u001B[0;34m\u001B[0m\u001B[0;34m\u001B[0m\u001B[0m\n\u001B[0;32m-> 1051\u001B[0;31m         \u001B[0mloc\u001B[0m \u001B[0;34m=\u001B[0m \u001B[0mself\u001B[0m\u001B[0;34m.\u001B[0m\u001B[0mindex\u001B[0m\u001B[0;34m.\u001B[0m\u001B[0mget_loc\u001B[0m\u001B[0;34m(\u001B[0m\u001B[0mlabel\u001B[0m\u001B[0;34m)\u001B[0m\u001B[0;34m\u001B[0m\u001B[0;34m\u001B[0m\u001B[0m\n\u001B[0m\u001B[1;32m   1052\u001B[0m         \u001B[0;32mreturn\u001B[0m \u001B[0mself\u001B[0m\u001B[0;34m.\u001B[0m\u001B[0mindex\u001B[0m\u001B[0;34m.\u001B[0m\u001B[0m_get_values_for_loc\u001B[0m\u001B[0;34m(\u001B[0m\u001B[0mself\u001B[0m\u001B[0;34m,\u001B[0m \u001B[0mloc\u001B[0m\u001B[0;34m,\u001B[0m \u001B[0mlabel\u001B[0m\u001B[0;34m)\u001B[0m\u001B[0;34m\u001B[0m\u001B[0;34m\u001B[0m\u001B[0m\n\u001B[1;32m   1053\u001B[0m \u001B[0;34m\u001B[0m\u001B[0m\n",
      "\u001B[0;32m~/Python/Movie/todaymovie/venv/lib/python3.9/site-packages/pandas/core/indexes/base.py\u001B[0m in \u001B[0;36mget_loc\u001B[0;34m(self, key, method, tolerance)\u001B[0m\n\u001B[1;32m   3361\u001B[0m                 \u001B[0;32mreturn\u001B[0m \u001B[0mself\u001B[0m\u001B[0;34m.\u001B[0m\u001B[0m_engine\u001B[0m\u001B[0;34m.\u001B[0m\u001B[0mget_loc\u001B[0m\u001B[0;34m(\u001B[0m\u001B[0mcasted_key\u001B[0m\u001B[0;34m)\u001B[0m\u001B[0;34m\u001B[0m\u001B[0;34m\u001B[0m\u001B[0m\n\u001B[1;32m   3362\u001B[0m             \u001B[0;32mexcept\u001B[0m \u001B[0mKeyError\u001B[0m \u001B[0;32mas\u001B[0m \u001B[0merr\u001B[0m\u001B[0;34m:\u001B[0m\u001B[0;34m\u001B[0m\u001B[0;34m\u001B[0m\u001B[0m\n\u001B[0;32m-> 3363\u001B[0;31m                 \u001B[0;32mraise\u001B[0m \u001B[0mKeyError\u001B[0m\u001B[0;34m(\u001B[0m\u001B[0mkey\u001B[0m\u001B[0;34m)\u001B[0m \u001B[0;32mfrom\u001B[0m \u001B[0merr\u001B[0m\u001B[0;34m\u001B[0m\u001B[0;34m\u001B[0m\u001B[0m\n\u001B[0m\u001B[1;32m   3364\u001B[0m \u001B[0;34m\u001B[0m\u001B[0m\n\u001B[1;32m   3365\u001B[0m         \u001B[0;32mif\u001B[0m \u001B[0mis_scalar\u001B[0m\u001B[0;34m(\u001B[0m\u001B[0mkey\u001B[0m\u001B[0;34m)\u001B[0m \u001B[0;32mand\u001B[0m \u001B[0misna\u001B[0m\u001B[0;34m(\u001B[0m\u001B[0mkey\u001B[0m\u001B[0;34m)\u001B[0m \u001B[0;32mand\u001B[0m \u001B[0;32mnot\u001B[0m \u001B[0mself\u001B[0m\u001B[0;34m.\u001B[0m\u001B[0mhasnans\u001B[0m\u001B[0;34m:\u001B[0m\u001B[0;34m\u001B[0m\u001B[0;34m\u001B[0m\u001B[0m\n",
      "\u001B[0;31mKeyError\u001B[0m: '영화'"
     ]
    }
   ],
   "source": [
    "a = input(\"영화를 입력하세요 : \")\n",
    "creatplot(a)"
   ]
  },
  {
   "cell_type": "code",
   "execution_count": null,
   "id": "f6ebf1b0",
   "metadata": {},
   "outputs": [],
   "source": []
  }
 ],
 "metadata": {
  "kernelspec": {
   "display_name": "Python 3",
   "language": "python",
   "name": "python3"
  },
  "language_info": {
   "codemirror_mode": {
    "name": "ipython",
    "version": 3
   },
   "file_extension": ".py",
   "mimetype": "text/x-python",
   "name": "python",
   "nbconvert_exporter": "python",
   "pygments_lexer": "ipython3",
   "version": "3.8.8"
  }
 },
 "nbformat": 4,
 "nbformat_minor": 5
}