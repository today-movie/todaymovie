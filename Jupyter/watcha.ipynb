{
 "cells": [
  {
   "cell_type": "code",
   "execution_count": 1,
   "metadata": {},
   "outputs": [],
   "source": [
    "import pandas as pd\n",
    "import numpy as np\n",
    "import matplotlib.pyplot as plt\n",
    "from nltk.tokenize import word_tokenize\n",
    "from sklearn.feature_extraction.text import TfidfVectorizer\n",
    "from sklearn.metrics.pairwise import cosine_similarity\n",
    "import kss\n",
    "from konlpy.tag import Okt  \n",
    "from konlpy.tag import Kkma "
   ]
  },
  {
   "cell_type": "code",
   "execution_count": 2,
   "metadata": {},
   "outputs": [],
   "source": [
    "import re"
   ]
  },
  {
   "cell_type": "code",
   "execution_count": 3,
   "metadata": {},
   "outputs": [],
   "source": [
    "import pickle"
   ]
  },
  {
   "cell_type": "code",
   "execution_count": 4,
   "metadata": {},
   "outputs": [],
   "source": [
    "from tqdm import tqdm"
   ]
  },
  {
   "cell_type": "code",
   "execution_count": 5,
   "metadata": {},
   "outputs": [],
   "source": [
    "from nltk.tokenize import word_tokenize"
   ]
  },
  {
   "cell_type": "code",
   "execution_count": 6,
   "metadata": {},
   "outputs": [],
   "source": [
    "kkma=Kkma()"
   ]
  },
  {
   "cell_type": "code",
   "execution_count": 10,
   "metadata": {},
   "outputs": [
    {
     "data": {
      "text/html": [
       "<div>\n",
       "<style scoped>\n",
       "    .dataframe tbody tr th:only-of-type {\n",
       "        vertical-align: middle;\n",
       "    }\n",
       "\n",
       "    .dataframe tbody tr th {\n",
       "        vertical-align: top;\n",
       "    }\n",
       "\n",
       "    .dataframe thead th {\n",
       "        text-align: right;\n",
       "    }\n",
       "</style>\n",
       "<table border=\"1\" class=\"dataframe\">\n",
       "  <thead>\n",
       "    <tr style=\"text-align: right;\">\n",
       "      <th></th>\n",
       "      <th>movie_id</th>\n",
       "      <th>reviews</th>\n",
       "    </tr>\n",
       "  </thead>\n",
       "  <tbody>\n",
       "    <tr>\n",
       "      <th>0</th>\n",
       "      <td>레드 아워</td>\n",
       "      <td>['마트에서 맡닥드린 테러범…근데… 너무 허무한거 있지.. 발냄새 풍기는 영상속에....</td>\n",
       "    </tr>\n",
       "    <tr>\n",
       "      <th>1</th>\n",
       "      <td>제불찰씨 이야기</td>\n",
       "      <td>['뒤로 갈수록 더 어두워지는 이야기. 그림체 때문인지 더 공포스럽게 느껴졌다.',...</td>\n",
       "    </tr>\n",
       "    <tr>\n",
       "      <th>2</th>\n",
       "      <td>천년여우</td>\n",
       "      <td>[\"인생이 영화야, 라는 건 사실 우리 모두에게 해당하는 말일지도 모른다. 작품을 ...</td>\n",
       "    </tr>\n",
       "    <tr>\n",
       "      <th>3</th>\n",
       "      <td>아브릴과 조작된 세계</td>\n",
       "      <td>['스팀펑크와 음모론을 연료 삼은 상상력.Imaginative steampunk c...</td>\n",
       "    </tr>\n",
       "    <tr>\n",
       "      <th>4</th>\n",
       "      <td>극장판 귀멸의 칼날: 무한열차편</td>\n",
       "      <td>['갈아만든 액션, 실로 진하다.', '늙는 것도 죽는 것도 인간이라는 덧없는 생물...</td>\n",
       "    </tr>\n",
       "    <tr>\n",
       "      <th>...</th>\n",
       "      <td>...</td>\n",
       "      <td>...</td>\n",
       "    </tr>\n",
       "    <tr>\n",
       "      <th>11332</th>\n",
       "      <td>주글래 살래</td>\n",
       "      <td>['심지어는 영문 제목도 Dying or Live로 품사 일치도 안 돼있다.한마디로...</td>\n",
       "    </tr>\n",
       "    <tr>\n",
       "      <th>11333</th>\n",
       "      <td>천방지축</td>\n",
       "      <td>['초호화 캐스팅에 혹해서 봤는대...정말 너무 어정쩡한 장르의 표본!!! 코미디 ...</td>\n",
       "    </tr>\n",
       "    <tr>\n",
       "      <th>11334</th>\n",
       "      <td>콜드 크릭</td>\n",
       "      <td>['37', '4.9점', '그렇게 무섭지도 않고.. 그래도 나쁘진 않았다.']</td>\n",
       "    </tr>\n",
       "    <tr>\n",
       "      <th>11335</th>\n",
       "      <td>터미널</td>\n",
       "      <td>['톰 행크스는 연기를 하는것인지 본인 그자체인지 구분못하게 만든다.', '톰 행크...</td>\n",
       "    </tr>\n",
       "    <tr>\n",
       "      <th>11336</th>\n",
       "      <td>헤라퍼플</td>\n",
       "      <td>[\"'싸이키컬 섹스 스릴러'라는, 그 누구도 상상하지 못한 장르를 만들어낸 빼어난 ...</td>\n",
       "    </tr>\n",
       "  </tbody>\n",
       "</table>\n",
       "<p>11337 rows × 2 columns</p>\n",
       "</div>"
      ],
      "text/plain": [
       "                movie_id                                            reviews\n",
       "0                  레드 아워  ['마트에서 맡닥드린 테러범…근데… 너무 허무한거 있지.. 발냄새 풍기는 영상속에....\n",
       "1               제불찰씨 이야기  ['뒤로 갈수록 더 어두워지는 이야기. 그림체 때문인지 더 공포스럽게 느껴졌다.',...\n",
       "2                   천년여우  [\"인생이 영화야, 라는 건 사실 우리 모두에게 해당하는 말일지도 모른다. 작품을 ...\n",
       "3            아브릴과 조작된 세계  ['스팀펑크와 음모론을 연료 삼은 상상력.Imaginative steampunk c...\n",
       "4      극장판 귀멸의 칼날: 무한열차편  ['갈아만든 액션, 실로 진하다.', '늙는 것도 죽는 것도 인간이라는 덧없는 생물...\n",
       "...                  ...                                                ...\n",
       "11332             주글래 살래  ['심지어는 영문 제목도 Dying or Live로 품사 일치도 안 돼있다.한마디로...\n",
       "11333               천방지축  ['초호화 캐스팅에 혹해서 봤는대...정말 너무 어정쩡한 장르의 표본!!! 코미디 ...\n",
       "11334              콜드 크릭       ['37', '4.9점', '그렇게 무섭지도 않고.. 그래도 나쁘진 않았다.']\n",
       "11335                터미널  ['톰 행크스는 연기를 하는것인지 본인 그자체인지 구분못하게 만든다.', '톰 행크...\n",
       "11336               헤라퍼플  [\"'싸이키컬 섹스 스릴러'라는, 그 누구도 상상하지 못한 장르를 만들어낸 빼어난 ...\n",
       "\n",
       "[11337 rows x 2 columns]"
      ]
     },
     "execution_count": 10,
     "metadata": {},
     "output_type": "execute_result"
    }
   ],
   "source": [
    "watcha = pd.read_csv(\"watcha_review (2).csv\")\n",
    "watcha"
   ]
  },
  {
   "cell_type": "code",
   "execution_count": 13,
   "metadata": {},
   "outputs": [
    {
     "name": "stderr",
     "output_type": "stream",
     "text": [
      "<ipython-input-13-2eddd85650ca>:1: FutureWarning: The default value of regex will change from True to False in a future version.\n",
      "  watcha['reviews']= watcha['reviews'].str.replace(\"[^ㄱ-ㅎㅏ-ㅣ가-힣 ]\",\"\")\n"
     ]
    }
   ],
   "source": [
    "watcha['reviews']= watcha['reviews'].str.replace(\"[^ㄱ-ㅎㅏ-ㅣ가-힣 ]\",\"\")"
   ]
  },
  {
   "cell_type": "code",
   "execution_count": 14,
   "metadata": {},
   "outputs": [
    {
     "data": {
      "text/html": [
       "<div>\n",
       "<style scoped>\n",
       "    .dataframe tbody tr th:only-of-type {\n",
       "        vertical-align: middle;\n",
       "    }\n",
       "\n",
       "    .dataframe tbody tr th {\n",
       "        vertical-align: top;\n",
       "    }\n",
       "\n",
       "    .dataframe thead th {\n",
       "        text-align: right;\n",
       "    }\n",
       "</style>\n",
       "<table border=\"1\" class=\"dataframe\">\n",
       "  <thead>\n",
       "    <tr style=\"text-align: right;\">\n",
       "      <th></th>\n",
       "      <th>movie_id</th>\n",
       "      <th>reviews</th>\n",
       "    </tr>\n",
       "  </thead>\n",
       "  <tbody>\n",
       "    <tr>\n",
       "      <th>0</th>\n",
       "      <td>레드 아워</td>\n",
       "      <td>마트에서 맡닥드린 테러범근데 너무 허무한거 있지 발냄새 풍기는 영상속에 더 잘만들순...</td>\n",
       "    </tr>\n",
       "    <tr>\n",
       "      <th>1</th>\n",
       "      <td>제불찰씨 이야기</td>\n",
       "      <td>뒤로 갈수록 더 어두워지는 이야기 그림체 때문인지 더 공포스럽게 느껴졌다 이적의 소...</td>\n",
       "    </tr>\n",
       "    <tr>\n",
       "      <th>2</th>\n",
       "      <td>천년여우</td>\n",
       "      <td>인생이 영화야 라는 건 사실 우리 모두에게 해당하는 말일지도 모른다 작품을 보는 내...</td>\n",
       "    </tr>\n",
       "    <tr>\n",
       "      <th>3</th>\n",
       "      <td>아브릴과 조작된 세계</td>\n",
       "      <td>스팀펑크와 음모론을 연료 삼은 상상력   참신한 세계관과 진부한 전개라는 아이러니한...</td>\n",
       "    </tr>\n",
       "    <tr>\n",
       "      <th>4</th>\n",
       "      <td>극장판 귀멸의 칼날: 무한열차편</td>\n",
       "      <td>갈아만든 액션 실로 진하다 늙는 것도 죽는 것도 인간이라는 덧없는 생물의 아름다움이...</td>\n",
       "    </tr>\n",
       "    <tr>\n",
       "      <th>...</th>\n",
       "      <td>...</td>\n",
       "      <td>...</td>\n",
       "    </tr>\n",
       "    <tr>\n",
       "      <th>11332</th>\n",
       "      <td>주글래 살래</td>\n",
       "      <td>심지어는 영문 제목도   로 품사 일치도 안 돼있다한마디로 이 영화는 제대로 된 게...</td>\n",
       "    </tr>\n",
       "    <tr>\n",
       "      <th>11333</th>\n",
       "      <td>천방지축</td>\n",
       "      <td>초호화 캐스팅에 혹해서 봤는대정말 너무 어정쩡한 장르의 표본 코미디 액션 멜로 아무...</td>\n",
       "    </tr>\n",
       "    <tr>\n",
       "      <th>11334</th>\n",
       "      <td>콜드 크릭</td>\n",
       "      <td>점 그렇게 무섭지도 않고 그래도 나쁘진 않았다</td>\n",
       "    </tr>\n",
       "    <tr>\n",
       "      <th>11335</th>\n",
       "      <td>터미널</td>\n",
       "      <td>톰 행크스는 연기를 하는것인지 본인 그자체인지 구분못하게 만든다 톰 행크스의 매력에...</td>\n",
       "    </tr>\n",
       "    <tr>\n",
       "      <th>11336</th>\n",
       "      <td>헤라퍼플</td>\n",
       "      <td>싸이키컬 섹스 스릴러라는 그 누구도 상상하지 못한 장르를 만들어낸 빼어난 솜씨 내가...</td>\n",
       "    </tr>\n",
       "  </tbody>\n",
       "</table>\n",
       "<p>11337 rows × 2 columns</p>\n",
       "</div>"
      ],
      "text/plain": [
       "                movie_id                                            reviews\n",
       "0                  레드 아워  마트에서 맡닥드린 테러범근데 너무 허무한거 있지 발냄새 풍기는 영상속에 더 잘만들순...\n",
       "1               제불찰씨 이야기  뒤로 갈수록 더 어두워지는 이야기 그림체 때문인지 더 공포스럽게 느껴졌다 이적의 소...\n",
       "2                   천년여우  인생이 영화야 라는 건 사실 우리 모두에게 해당하는 말일지도 모른다 작품을 보는 내...\n",
       "3            아브릴과 조작된 세계  스팀펑크와 음모론을 연료 삼은 상상력   참신한 세계관과 진부한 전개라는 아이러니한...\n",
       "4      극장판 귀멸의 칼날: 무한열차편  갈아만든 액션 실로 진하다 늙는 것도 죽는 것도 인간이라는 덧없는 생물의 아름다움이...\n",
       "...                  ...                                                ...\n",
       "11332             주글래 살래  심지어는 영문 제목도   로 품사 일치도 안 돼있다한마디로 이 영화는 제대로 된 게...\n",
       "11333               천방지축  초호화 캐스팅에 혹해서 봤는대정말 너무 어정쩡한 장르의 표본 코미디 액션 멜로 아무...\n",
       "11334              콜드 크릭                          점 그렇게 무섭지도 않고 그래도 나쁘진 않았다\n",
       "11335                터미널  톰 행크스는 연기를 하는것인지 본인 그자체인지 구분못하게 만든다 톰 행크스의 매력에...\n",
       "11336               헤라퍼플  싸이키컬 섹스 스릴러라는 그 누구도 상상하지 못한 장르를 만들어낸 빼어난 솜씨 내가...\n",
       "\n",
       "[11337 rows x 2 columns]"
      ]
     },
     "execution_count": 14,
     "metadata": {},
     "output_type": "execute_result"
    }
   ],
   "source": [
    "watcha"
   ]
  },
  {
   "cell_type": "code",
   "execution_count": 18,
   "metadata": {},
   "outputs": [],
   "source": [
    "df = pd.read_csv(\"stopwords-ko.txt\")\n",
    "stopwords = df.iloc[:,0].unique()"
   ]
  },
  {
   "cell_type": "code",
   "execution_count": 19,
   "metadata": {},
   "outputs": [],
   "source": [
    "watcha['word'] = 0"
   ]
  },
  {
   "cell_type": "code",
   "execution_count": 15,
   "metadata": {},
   "outputs": [],
   "source": [
    "okt = Okt()\n",
    "#print(okt.morphs(watcha['reviews']))"
   ]
  },
  {
   "cell_type": "code",
   "execution_count": 35,
   "metadata": {},
   "outputs": [
    {
     "data": {
      "application/vnd.jupyter.widget-view+json": {
       "model_id": "e4fb133fddaf4c06b2e3593f343e8775",
       "version_major": 2,
       "version_minor": 0
      },
      "text/plain": [
       "  0%|          | 0/4337 [00:00<?, ?it/s]"
      ]
     },
     "metadata": {},
     "output_type": "display_data"
    }
   ],
   "source": [
    "#from tqdm import notebook\n",
    "\n",
    "#for i in notebook.tqdm(range(7000,len(watcha))):\n",
    "#    words = watcha['reviews'][i]\n",
    "#    letters_only = re.sub('[^0-9가-힣\\s\\.\\!\\?]*', '', str(words))\n",
    "#    sampledf = pd.DataFrame(okt.pos(letters_only, norm=True, stem=True))\n",
    "#    try:\n",
    "#        sampledf = sampledf[(sampledf[1]=='Noun')|(sampledf[1]=='Adjective')|(sampledf[1]=='Verb')]\n",
    "#        spword = []\n",
    "#        for word in sampledf[0]:\n",
    "#            if len(word)>=2:\n",
    "#                if word not in (stopwords): # 스탑워즈 제외하고 출력하기\n",
    "#                    spword.append(word)\n",
    "#        a = pd.DataFrame(spword)[0].unique()\n",
    "#        watcha['word'][i] = a\n",
    "#    except KeyError:\n",
    "#        watcha['word'][i] = \"\""
   ]
  },
  {
   "cell_type": "code",
   "execution_count": 32,
   "metadata": {},
   "outputs": [
    {
     "data": {
      "text/plain": [
       "array(['아들', '가다', '없다', '알다', '위해', '실제', '이야기', '부자', '연기', '하다', '가슴',\n",
       "       '오다', '닿다', '않다', '가지다', '아버지', '라면', '공감', '절절', '실화', '스미스',\n",
       "       '눈부시다', '경의', '표함'], dtype=object)"
      ]
     },
     "execution_count": 32,
     "metadata": {},
     "output_type": "execute_result"
    }
   ],
   "source": [
    "watcha['word'][3999]"
   ]
  },
  {
   "cell_type": "code",
   "execution_count": 36,
   "metadata": {},
   "outputs": [],
   "source": [
    "#watcha.to_csv('watcha_re.csv',encoding='utf-8-sig',index =False)"
   ]
  },
  {
   "cell_type": "code",
   "execution_count": 37,
   "metadata": {},
   "outputs": [],
   "source": [
    "watcha_re = pd.read_csv('watcha_re.csv')"
   ]
  },
  {
   "cell_type": "code",
   "execution_count": 38,
   "metadata": {},
   "outputs": [
    {
     "data": {
      "text/plain": [
       "\"['싸이키' '섹스' '스릴러' '상상' '하다' '장르' '만들다' '내다' '빼어나다' '솜씨' '보다' '최초' '영화'\\n '도저히' '여러가지' '의미' '놀랍다' '블리' '버블' '진정' '사랑' '라면' '복수' '이름' '시연' '되다'\\n '아크로바틱' '섹스씬' '멈추다' '않다' '향연' '홍석천' '로그인' '각도' '좁히다' '충격' '공포']\""
      ]
     },
     "execution_count": 38,
     "metadata": {},
     "output_type": "execute_result"
    }
   ],
   "source": [
    "watcha_re['word'][len(watcha)-1]"
   ]
  },
  {
   "cell_type": "code",
   "execution_count": null,
   "metadata": {},
   "outputs": [],
   "source": []
  }
 ],
 "metadata": {
  "kernelspec": {
   "display_name": "Python 3",
   "language": "python",
   "name": "python3"
  },
  "language_info": {
   "codemirror_mode": {
    "name": "ipython",
    "version": 3
   },
   "file_extension": ".py",
   "mimetype": "text/x-python",
   "name": "python",
   "nbconvert_exporter": "python",
   "pygments_lexer": "ipython3",
   "version": "3.8.8"
  }
 },
 "nbformat": 4,
 "nbformat_minor": 4
}
