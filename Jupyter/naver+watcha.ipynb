{
 "cells": [
  {
   "cell_type": "code",
   "execution_count": 3,
   "id": "583c2a84",
   "metadata": {},
   "outputs": [],
   "source": [
    "import pandas as pd\n",
    "import numpy as np\n",
    "import matplotlib.pyplot as plt\n",
    "from nltk.tokenize import word_tokenize\n",
    "from sklearn.feature_extraction.text import TfidfVectorizer\n",
    "from sklearn.metrics.pairwise import cosine_similarity\n",
    "import kss\n",
    "from konlpy.tag import Okt  \n",
    "from konlpy.tag import Kkma \n",
    "import time\n",
    "from tqdm import notebook\n",
    "import re"
   ]
  },
  {
   "cell_type": "code",
   "execution_count": 4,
   "id": "5bbf4f4c",
   "metadata": {},
   "outputs": [],
   "source": [
    "okt = Okt()\n",
    "kkma = Kkma()"
   ]
  },
  {
   "cell_type": "code",
   "execution_count": 6,
   "id": "eb5acf41",
   "metadata": {},
   "outputs": [],
   "source": [
    "naver = pd.read_csv(\"naver_re.csv\")\n",
    "watcha = pd.read_csv(\"watcha_re.csv\")"
   ]
  },
  {
   "cell_type": "markdown",
   "id": "f1616fcd",
   "metadata": {},
   "source": [
    "### 최종 영화를 합칠 수 있는 movie_list 만들어주기 "
   ]
  },
  {
   "cell_type": "code",
   "execution_count": 7,
   "id": "476eeb1d",
   "metadata": {},
   "outputs": [
    {
     "data": {
      "text/plain": "                       0\n0               1%의 어떤 것\n1                    25시\n2         S.W.A.T. 특수기동대\n3         S.W.A.T. 특수기동대\n4         S.W.A.T. 특수기동대\n...                  ...\n20956  사랑하고 사랑받고, 차고 차이고\n20957  사랑하고 사랑받고, 차고 차이고\n20958  사랑하고 사랑받고, 차고 차이고\n20959       사일런스 앤드 다크니스\n20960              산타킬러스\n\n[20961 rows x 1 columns]",
      "text/html": "<div>\n<style scoped>\n    .dataframe tbody tr th:only-of-type {\n        vertical-align: middle;\n    }\n\n    .dataframe tbody tr th {\n        vertical-align: top;\n    }\n\n    .dataframe thead th {\n        text-align: right;\n    }\n</style>\n<table border=\"1\" class=\"dataframe\">\n  <thead>\n    <tr style=\"text-align: right;\">\n      <th></th>\n      <th>0</th>\n    </tr>\n  </thead>\n  <tbody>\n    <tr>\n      <th>0</th>\n      <td>1%의 어떤 것</td>\n    </tr>\n    <tr>\n      <th>1</th>\n      <td>25시</td>\n    </tr>\n    <tr>\n      <th>2</th>\n      <td>S.W.A.T. 특수기동대</td>\n    </tr>\n    <tr>\n      <th>3</th>\n      <td>S.W.A.T. 특수기동대</td>\n    </tr>\n    <tr>\n      <th>4</th>\n      <td>S.W.A.T. 특수기동대</td>\n    </tr>\n    <tr>\n      <th>...</th>\n      <td>...</td>\n    </tr>\n    <tr>\n      <th>20956</th>\n      <td>사랑하고 사랑받고, 차고 차이고</td>\n    </tr>\n    <tr>\n      <th>20957</th>\n      <td>사랑하고 사랑받고, 차고 차이고</td>\n    </tr>\n    <tr>\n      <th>20958</th>\n      <td>사랑하고 사랑받고, 차고 차이고</td>\n    </tr>\n    <tr>\n      <th>20959</th>\n      <td>사일런스 앤드 다크니스</td>\n    </tr>\n    <tr>\n      <th>20960</th>\n      <td>산타킬러스</td>\n    </tr>\n  </tbody>\n</table>\n<p>20961 rows × 1 columns</p>\n</div>"
     },
     "execution_count": 7,
     "metadata": {},
     "output_type": "execute_result"
    }
   ],
   "source": [
    "# 영화 리스트 합쳐서 중복 값 제거 \n",
    "a = np.array(naver['movie_id'])\n",
    "movie_list =  pd.DataFrame(a)\n",
    "movie_list"
   ]
  },
  {
   "cell_type": "code",
   "execution_count": 8,
   "id": "3b107e64",
   "metadata": {},
   "outputs": [
    {
     "data": {
      "text/plain": "                       0\n0               1%의 어떤 것\n1                    25시\n2         S.W.A.T. 특수기동대\n3         S.W.A.T. 특수기동대\n4         S.W.A.T. 특수기동대\n...                  ...\n20956  사랑하고 사랑받고, 차고 차이고\n20957  사랑하고 사랑받고, 차고 차이고\n20958  사랑하고 사랑받고, 차고 차이고\n20959       사일런스 앤드 다크니스\n20960              산타킬러스\n\n[20961 rows x 1 columns]",
      "text/html": "<div>\n<style scoped>\n    .dataframe tbody tr th:only-of-type {\n        vertical-align: middle;\n    }\n\n    .dataframe tbody tr th {\n        vertical-align: top;\n    }\n\n    .dataframe thead th {\n        text-align: right;\n    }\n</style>\n<table border=\"1\" class=\"dataframe\">\n  <thead>\n    <tr style=\"text-align: right;\">\n      <th></th>\n      <th>0</th>\n    </tr>\n  </thead>\n  <tbody>\n    <tr>\n      <th>0</th>\n      <td>1%의 어떤 것</td>\n    </tr>\n    <tr>\n      <th>1</th>\n      <td>25시</td>\n    </tr>\n    <tr>\n      <th>2</th>\n      <td>S.W.A.T. 특수기동대</td>\n    </tr>\n    <tr>\n      <th>3</th>\n      <td>S.W.A.T. 특수기동대</td>\n    </tr>\n    <tr>\n      <th>4</th>\n      <td>S.W.A.T. 특수기동대</td>\n    </tr>\n    <tr>\n      <th>...</th>\n      <td>...</td>\n    </tr>\n    <tr>\n      <th>20956</th>\n      <td>사랑하고 사랑받고, 차고 차이고</td>\n    </tr>\n    <tr>\n      <th>20957</th>\n      <td>사랑하고 사랑받고, 차고 차이고</td>\n    </tr>\n    <tr>\n      <th>20958</th>\n      <td>사랑하고 사랑받고, 차고 차이고</td>\n    </tr>\n    <tr>\n      <th>20959</th>\n      <td>사일런스 앤드 다크니스</td>\n    </tr>\n    <tr>\n      <th>20960</th>\n      <td>산타킬러스</td>\n    </tr>\n  </tbody>\n</table>\n<p>20961 rows × 1 columns</p>\n</div>"
     },
     "execution_count": 8,
     "metadata": {},
     "output_type": "execute_result"
    }
   ],
   "source": [
    "movie_list"
   ]
  },
  {
   "cell_type": "code",
   "execution_count": 9,
   "id": "822ffb0d",
   "metadata": {},
   "outputs": [],
   "source": [
    "movie_list = movie_list[0].append(watcha['movie_id']) \n",
    "movie_list.columns = ['movie_id']"
   ]
  },
  {
   "cell_type": "code",
   "execution_count": 10,
   "id": "ba3b2267",
   "metadata": {
    "scrolled": true
   },
   "outputs": [
    {
     "data": {
      "text/plain": "32298"
     },
     "execution_count": 10,
     "metadata": {},
     "output_type": "execute_result"
    }
   ],
   "source": [
    "movie_list = pd.DataFrame(movie_list)\n",
    "len(movie_list)"
   ]
  },
  {
   "cell_type": "code",
   "execution_count": 11,
   "id": "3e5a09c9",
   "metadata": {},
   "outputs": [],
   "source": [
    "movie_list= movie_list.drop_duplicates(subset=None, keep='first',ignore_index=True)"
   ]
  },
  {
   "cell_type": "code",
   "execution_count": 12,
   "id": "8824c97d",
   "metadata": {},
   "outputs": [
    {
     "data": {
      "text/plain": "12038"
     },
     "execution_count": 12,
     "metadata": {},
     "output_type": "execute_result"
    }
   ],
   "source": [
    "len(movie_list)"
   ]
  },
  {
   "cell_type": "code",
   "execution_count": 13,
   "id": "6acddd75",
   "metadata": {},
   "outputs": [
    {
     "data": {
      "text/plain": "                    0\n0            1%의 어떤 것\n1                 25시\n2      S.W.A.T. 특수기동대\n3            갱스 오브 뉴욕\n4             거짓말의 빛깔\n...               ...\n12033          주글래 살래\n12034            천방지축\n12035           콜드 크릭\n12036             터미널\n12037            헤라퍼플\n\n[12038 rows x 1 columns]",
      "text/html": "<div>\n<style scoped>\n    .dataframe tbody tr th:only-of-type {\n        vertical-align: middle;\n    }\n\n    .dataframe tbody tr th {\n        vertical-align: top;\n    }\n\n    .dataframe thead th {\n        text-align: right;\n    }\n</style>\n<table border=\"1\" class=\"dataframe\">\n  <thead>\n    <tr style=\"text-align: right;\">\n      <th></th>\n      <th>0</th>\n    </tr>\n  </thead>\n  <tbody>\n    <tr>\n      <th>0</th>\n      <td>1%의 어떤 것</td>\n    </tr>\n    <tr>\n      <th>1</th>\n      <td>25시</td>\n    </tr>\n    <tr>\n      <th>2</th>\n      <td>S.W.A.T. 특수기동대</td>\n    </tr>\n    <tr>\n      <th>3</th>\n      <td>갱스 오브 뉴욕</td>\n    </tr>\n    <tr>\n      <th>4</th>\n      <td>거짓말의 빛깔</td>\n    </tr>\n    <tr>\n      <th>...</th>\n      <td>...</td>\n    </tr>\n    <tr>\n      <th>12033</th>\n      <td>주글래 살래</td>\n    </tr>\n    <tr>\n      <th>12034</th>\n      <td>천방지축</td>\n    </tr>\n    <tr>\n      <th>12035</th>\n      <td>콜드 크릭</td>\n    </tr>\n    <tr>\n      <th>12036</th>\n      <td>터미널</td>\n    </tr>\n    <tr>\n      <th>12037</th>\n      <td>헤라퍼플</td>\n    </tr>\n  </tbody>\n</table>\n<p>12038 rows × 1 columns</p>\n</div>"
     },
     "execution_count": 13,
     "metadata": {},
     "output_type": "execute_result"
    }
   ],
   "source": [
    "movie_list"
   ]
  },
  {
   "cell_type": "code",
   "execution_count": 14,
   "id": "b1d0919d",
   "metadata": {},
   "outputs": [],
   "source": [
    "movie_list = movie_list[0].append(watcha['movie_id']) "
   ]
  },
  {
   "cell_type": "code",
   "execution_count": 15,
   "id": "ee7e3eb0",
   "metadata": {},
   "outputs": [],
   "source": [
    "movie_list = pd.DataFrame(movie_list)\n",
    "movie_list.columns = ['movie_id']"
   ]
  },
  {
   "cell_type": "code",
   "execution_count": 16,
   "id": "d5c56634",
   "metadata": {
    "scrolled": true
   },
   "outputs": [
    {
     "data": {
      "text/plain": "             movie_id\n0            1%의 어떤 것\n1                 25시\n2      S.W.A.T. 특수기동대\n3            갱스 오브 뉴욕\n4             거짓말의 빛깔\n...               ...\n11332          주글래 살래\n11333            천방지축\n11334           콜드 크릭\n11335             터미널\n11336            헤라퍼플\n\n[23375 rows x 1 columns]",
      "text/html": "<div>\n<style scoped>\n    .dataframe tbody tr th:only-of-type {\n        vertical-align: middle;\n    }\n\n    .dataframe tbody tr th {\n        vertical-align: top;\n    }\n\n    .dataframe thead th {\n        text-align: right;\n    }\n</style>\n<table border=\"1\" class=\"dataframe\">\n  <thead>\n    <tr style=\"text-align: right;\">\n      <th></th>\n      <th>movie_id</th>\n    </tr>\n  </thead>\n  <tbody>\n    <tr>\n      <th>0</th>\n      <td>1%의 어떤 것</td>\n    </tr>\n    <tr>\n      <th>1</th>\n      <td>25시</td>\n    </tr>\n    <tr>\n      <th>2</th>\n      <td>S.W.A.T. 특수기동대</td>\n    </tr>\n    <tr>\n      <th>3</th>\n      <td>갱스 오브 뉴욕</td>\n    </tr>\n    <tr>\n      <th>4</th>\n      <td>거짓말의 빛깔</td>\n    </tr>\n    <tr>\n      <th>...</th>\n      <td>...</td>\n    </tr>\n    <tr>\n      <th>11332</th>\n      <td>주글래 살래</td>\n    </tr>\n    <tr>\n      <th>11333</th>\n      <td>천방지축</td>\n    </tr>\n    <tr>\n      <th>11334</th>\n      <td>콜드 크릭</td>\n    </tr>\n    <tr>\n      <th>11335</th>\n      <td>터미널</td>\n    </tr>\n    <tr>\n      <th>11336</th>\n      <td>헤라퍼플</td>\n    </tr>\n  </tbody>\n</table>\n<p>23375 rows × 1 columns</p>\n</div>"
     },
     "execution_count": 16,
     "metadata": {},
     "output_type": "execute_result"
    }
   ],
   "source": [
    "movie_list"
   ]
  },
  {
   "cell_type": "code",
   "execution_count": 17,
   "id": "eada5e18",
   "metadata": {},
   "outputs": [],
   "source": [
    "movie_list.to_csv('movie_list.csv',encoding='utf-8-sig')"
   ]
  },
  {
   "cell_type": "code",
   "execution_count": 18,
   "id": "ba6081f0",
   "metadata": {},
   "outputs": [],
   "source": [
    "naver = naver.fillna(\"\")"
   ]
  },
  {
   "cell_type": "code",
   "execution_count": 19,
   "id": "9db9b124",
   "metadata": {},
   "outputs": [],
   "source": [
    "watcha = watcha.fillna(\"\")"
   ]
  },
  {
   "cell_type": "markdown",
   "id": "fea85453",
   "metadata": {},
   "source": [
    "### 네이버 중복 영화 내용 합치기 "
   ]
  },
  {
   "cell_type": "code",
   "execution_count": 20,
   "id": "bce8c28e",
   "metadata": {},
   "outputs": [
    {
     "data": {
      "text/plain": "                movie_id                                            reviews  \\\n0               1%의 어떤 것  살짝 억지스럽고 너무나 심하게 건전한 점에서 조금 깍였지만너무 보기 좋은 드라마고 ...   \n1                    25시  예전리뷰  시   척박한 현실을 여과없이 드러내는 뛰어난 리얼리즘영화인동시에 진짜와...   \n2         S.W.A.T. 특수기동대  개봉일에 맞춰 기다리던 를 보았는데 이젠 나아지겠지하고 인내를 하고보다가 너무 화가...   \n3         S.W.A.T. 특수기동대  수많은 액션영화에는 나름대로의 공식이 있습니다 첫번째 사격 또는 무술에 있어 타의 ...   \n4         S.W.A.T. 특수기동대  총만 더럽게 쏴되는군 마지막에 격투씬 ㅎㅎ 말도 안되는 격투신도 나오고 해피엔딩이네...   \n...                  ...                                                ...   \n20956  사랑하고 사랑받고, 차고 차이고  애니 사랑하고 사랑받고 차고 차이고 국내 메인 예고편한글    한 메구미순정만화 같...   \n20957  사랑하고 사랑받고, 차고 차이고  사랑하고 사랑받고 차고 차이고감독쿠로야나기 토시마사출연한 메구미 시마자키 노부나가 ...   \n20958  사랑하고 사랑받고, 차고 차이고  사랑하고 사랑받고 차고 차이고감독쿠로야나기 토시마사출연한 메구미 시마자키 노부나가 ...   \n20959       사일런스 앤드 다크니스  영화 사일런스 앤드 다크니스 메인 예고편    시각 장애 청각 장애가 있는 딸들시각...   \n20960              산타킬러스   에숌 넬스 이안 넬스 감독 동심 파괴도 유분수지화가난 아이가 할머니의 돈을 훔치고...   \n\n                                                    word  \n0      ['살짝' '억지스럽다' '심하다' '건전하다' '깍이다' '보기' '좋다' '드라...  \n1      ['예전' '리뷰' '척박하다' '현실' '여과' '드러내다' '뛰어나다' '리얼리...  \n2      ['개봉일' '맞추다' '기다리다' '보다' '나아지다' '인내' '하다' '가다'...  \n3      ['수많다' '액션영화' '나름' '공식' '사격' '무술' '타의' '추종' '불...  \n4      ['더럽다' '쏘다' '되다' '마지막' '격투' '안되다' '신도' '나오다' '...  \n...                                                  ...  \n20956  ['애니' '사랑' '사랑받다' '차고' '차이' '국내' '메인' '예고편' '한...  \n20957  ['사랑' '사랑받다' '차고' '차이' '감독' '쿠로' '나기' '토시' '마사...  \n20958  ['사랑' '사랑받다' '차고' '차이' '감독' '쿠로' '나기' '토시' '마사...  \n20959  ['영화' '사일런스' '앤드' '다크니스' '메인' '예고편' '장애' '청각' ...  \n20960  ['에숌' '넬스' '이안' '감독' '동심' '파괴' '유분수' '화가' '할머니...  \n\n[20961 rows x 3 columns]",
      "text/html": "<div>\n<style scoped>\n    .dataframe tbody tr th:only-of-type {\n        vertical-align: middle;\n    }\n\n    .dataframe tbody tr th {\n        vertical-align: top;\n    }\n\n    .dataframe thead th {\n        text-align: right;\n    }\n</style>\n<table border=\"1\" class=\"dataframe\">\n  <thead>\n    <tr style=\"text-align: right;\">\n      <th></th>\n      <th>movie_id</th>\n      <th>reviews</th>\n      <th>word</th>\n    </tr>\n  </thead>\n  <tbody>\n    <tr>\n      <th>0</th>\n      <td>1%의 어떤 것</td>\n      <td>살짝 억지스럽고 너무나 심하게 건전한 점에서 조금 깍였지만너무 보기 좋은 드라마고 ...</td>\n      <td>['살짝' '억지스럽다' '심하다' '건전하다' '깍이다' '보기' '좋다' '드라...</td>\n    </tr>\n    <tr>\n      <th>1</th>\n      <td>25시</td>\n      <td>예전리뷰  시   척박한 현실을 여과없이 드러내는 뛰어난 리얼리즘영화인동시에 진짜와...</td>\n      <td>['예전' '리뷰' '척박하다' '현실' '여과' '드러내다' '뛰어나다' '리얼리...</td>\n    </tr>\n    <tr>\n      <th>2</th>\n      <td>S.W.A.T. 특수기동대</td>\n      <td>개봉일에 맞춰 기다리던 를 보았는데 이젠 나아지겠지하고 인내를 하고보다가 너무 화가...</td>\n      <td>['개봉일' '맞추다' '기다리다' '보다' '나아지다' '인내' '하다' '가다'...</td>\n    </tr>\n    <tr>\n      <th>3</th>\n      <td>S.W.A.T. 특수기동대</td>\n      <td>수많은 액션영화에는 나름대로의 공식이 있습니다 첫번째 사격 또는 무술에 있어 타의 ...</td>\n      <td>['수많다' '액션영화' '나름' '공식' '사격' '무술' '타의' '추종' '불...</td>\n    </tr>\n    <tr>\n      <th>4</th>\n      <td>S.W.A.T. 특수기동대</td>\n      <td>총만 더럽게 쏴되는군 마지막에 격투씬 ㅎㅎ 말도 안되는 격투신도 나오고 해피엔딩이네...</td>\n      <td>['더럽다' '쏘다' '되다' '마지막' '격투' '안되다' '신도' '나오다' '...</td>\n    </tr>\n    <tr>\n      <th>...</th>\n      <td>...</td>\n      <td>...</td>\n      <td>...</td>\n    </tr>\n    <tr>\n      <th>20956</th>\n      <td>사랑하고 사랑받고, 차고 차이고</td>\n      <td>애니 사랑하고 사랑받고 차고 차이고 국내 메인 예고편한글    한 메구미순정만화 같...</td>\n      <td>['애니' '사랑' '사랑받다' '차고' '차이' '국내' '메인' '예고편' '한...</td>\n    </tr>\n    <tr>\n      <th>20957</th>\n      <td>사랑하고 사랑받고, 차고 차이고</td>\n      <td>사랑하고 사랑받고 차고 차이고감독쿠로야나기 토시마사출연한 메구미 시마자키 노부나가 ...</td>\n      <td>['사랑' '사랑받다' '차고' '차이' '감독' '쿠로' '나기' '토시' '마사...</td>\n    </tr>\n    <tr>\n      <th>20958</th>\n      <td>사랑하고 사랑받고, 차고 차이고</td>\n      <td>사랑하고 사랑받고 차고 차이고감독쿠로야나기 토시마사출연한 메구미 시마자키 노부나가 ...</td>\n      <td>['사랑' '사랑받다' '차고' '차이' '감독' '쿠로' '나기' '토시' '마사...</td>\n    </tr>\n    <tr>\n      <th>20959</th>\n      <td>사일런스 앤드 다크니스</td>\n      <td>영화 사일런스 앤드 다크니스 메인 예고편    시각 장애 청각 장애가 있는 딸들시각...</td>\n      <td>['영화' '사일런스' '앤드' '다크니스' '메인' '예고편' '장애' '청각' ...</td>\n    </tr>\n    <tr>\n      <th>20960</th>\n      <td>산타킬러스</td>\n      <td>에숌 넬스 이안 넬스 감독 동심 파괴도 유분수지화가난 아이가 할머니의 돈을 훔치고...</td>\n      <td>['에숌' '넬스' '이안' '감독' '동심' '파괴' '유분수' '화가' '할머니...</td>\n    </tr>\n  </tbody>\n</table>\n<p>20961 rows × 3 columns</p>\n</div>"
     },
     "execution_count": 20,
     "metadata": {},
     "output_type": "execute_result"
    }
   ],
   "source": [
    "#네이버 중복 데이터 합치기 \n",
    "naver"
   ]
  },
  {
   "cell_type": "code",
   "execution_count": 21,
   "id": "9ad7a9f6",
   "metadata": {},
   "outputs": [],
   "source": [
    "# sting 이 아닌 데이터를 string으로 바꿔야 join 사용 가능 \n",
    "naver = naver.astype(str)"
   ]
  },
  {
   "cell_type": "code",
   "execution_count": 22,
   "id": "6ec3418d",
   "metadata": {},
   "outputs": [],
   "source": [
    "naver_fin = naver.groupby('movie_id',as_index=False).agg(reviews = ('reviews',','.join),\n",
    "                                            word = ('word',','.join))"
   ]
  },
  {
   "cell_type": "code",
   "execution_count": 23,
   "id": "4702f15b",
   "metadata": {},
   "outputs": [],
   "source": [
    "naver_fin.to_csv('naver_fin.csv',encoding='utf-8-sig',index = False)"
   ]
  },
  {
   "cell_type": "code",
   "execution_count": 24,
   "id": "539df72c",
   "metadata": {},
   "outputs": [],
   "source": [
    "naver_fin =  pd.read_csv(\"naver_fin.csv\")"
   ]
  },
  {
   "cell_type": "code",
   "execution_count": 25,
   "id": "577c3451",
   "metadata": {},
   "outputs": [
    {
     "data": {
      "text/plain": "                                movie_id  \\\n0                                    NaN   \n1      내아들  진심으로 천국에 온것을 환영한다. \"\" 아..아버지   \n2      옆집의 친절한 이웃이 과거 전과가 있다는 걸 알게 되는 경우   \n3                                 #아이엠히어   \n4                                 0.0MHz   \n...                                  ...   \n2864                            헤드 오버 힐스   \n2865                          형사 Duelist   \n2866                          화성으로 간 사나이   \n2867                                 황산벌   \n2868                             히 러브스 미   \n\n                                                reviews  \\\n0                                                   NaN   \n1       제가 아버지를 뵙습니다  너가 오기를 목마르게 기다리고 있었다  저 역시 아버지...   \n2              그를 대하는 태도가 전과 같기 힘들 거라는 건 쉽게 예상할 수 있지요결국   \n3     영화 아이엠히어  국내 메인 예고편  배두나 알랭 샤바    나여기있어요대포 대책 ...   \n4     소희주인공  얘들아 내가 귀신 탐지기 사옴상엽주인공  그래 귀신 찾으러 가자친구  ...   \n...                                                 ...   \n2864  저두 잼있게 봤거든요 그래서 또 봤는데 처음에 느꼈던 신선함은 역시뚜욱 그냥 기분 ...   \n2865    두서 없이 썼던 글을 지우고 다시 씁니다물론 이 글은 프로 제 개인적인 감상문이...   \n2866   제목 화성으로 간 사나이감독 김정권주연 김희선 신하균하트 점수   김정권 감독의 ...   \n2867  년 첫연휴를 마무리하며 서핑을 하던 중 눈에 비친 기사가 있었습니다  연휴중 방송했...   \n2868  아멜리에의 팬으로써 이 영화는 로맨틱 코메디로 잘 포장해서 관객을 속인 영화라고 감...   \n\n                                                   word  \n0                                                   NaN  \n1     ['아버지' '뵈다' '오기' '마르' '기다리다' '역시' '만나다' '읍니' '...  \n2                 ['대하' '태도' '전과' '힘들다' '쉬다' '예상' '하다']  \n3     ['영화' '아이엠' '국내' '메인' '예고편' '배두나' '알랭' '샤바' '여...  \n4     ['소희' '주인공' '귀신' '탐지기' '그렇다' '찾다' '가다' '친구' '나...  \n...                                                 ...  \n2864  ['재다' '보다' '처음' '느끼다' '신선하다' '역시' '뚜욱' '그냥' '기...  \n2865  ['두서' '써다' '지우다' '다시' '쓰다' '프로' '개인' '감상문' '는걸...  \n2866  ['제목' '화성' '사나이' '감독' '김정권' '주연' '김희선' '신하균' '...  \n2867  ['연휴' '마무리' '하다' '서핑' '비치다' '기사' '방송' '황산벌' '중...  \n2868  ['메다' '영화' '로맨틱' '코메디' '자다' '포장' '하다' '관객' '속인...  \n\n[2869 rows x 3 columns]",
      "text/html": "<div>\n<style scoped>\n    .dataframe tbody tr th:only-of-type {\n        vertical-align: middle;\n    }\n\n    .dataframe tbody tr th {\n        vertical-align: top;\n    }\n\n    .dataframe thead th {\n        text-align: right;\n    }\n</style>\n<table border=\"1\" class=\"dataframe\">\n  <thead>\n    <tr style=\"text-align: right;\">\n      <th></th>\n      <th>movie_id</th>\n      <th>reviews</th>\n      <th>word</th>\n    </tr>\n  </thead>\n  <tbody>\n    <tr>\n      <th>0</th>\n      <td>NaN</td>\n      <td>NaN</td>\n      <td>NaN</td>\n    </tr>\n    <tr>\n      <th>1</th>\n      <td>내아들  진심으로 천국에 온것을 환영한다. \"\" 아..아버지</td>\n      <td>제가 아버지를 뵙습니다  너가 오기를 목마르게 기다리고 있었다  저 역시 아버지...</td>\n      <td>['아버지' '뵈다' '오기' '마르' '기다리다' '역시' '만나다' '읍니' '...</td>\n    </tr>\n    <tr>\n      <th>2</th>\n      <td>옆집의 친절한 이웃이 과거 전과가 있다는 걸 알게 되는 경우</td>\n      <td>그를 대하는 태도가 전과 같기 힘들 거라는 건 쉽게 예상할 수 있지요결국</td>\n      <td>['대하' '태도' '전과' '힘들다' '쉬다' '예상' '하다']</td>\n    </tr>\n    <tr>\n      <th>3</th>\n      <td>#아이엠히어</td>\n      <td>영화 아이엠히어  국내 메인 예고편  배두나 알랭 샤바    나여기있어요대포 대책 ...</td>\n      <td>['영화' '아이엠' '국내' '메인' '예고편' '배두나' '알랭' '샤바' '여...</td>\n    </tr>\n    <tr>\n      <th>4</th>\n      <td>0.0MHz</td>\n      <td>소희주인공  얘들아 내가 귀신 탐지기 사옴상엽주인공  그래 귀신 찾으러 가자친구  ...</td>\n      <td>['소희' '주인공' '귀신' '탐지기' '그렇다' '찾다' '가다' '친구' '나...</td>\n    </tr>\n    <tr>\n      <th>...</th>\n      <td>...</td>\n      <td>...</td>\n      <td>...</td>\n    </tr>\n    <tr>\n      <th>2864</th>\n      <td>헤드 오버 힐스</td>\n      <td>저두 잼있게 봤거든요 그래서 또 봤는데 처음에 느꼈던 신선함은 역시뚜욱 그냥 기분 ...</td>\n      <td>['재다' '보다' '처음' '느끼다' '신선하다' '역시' '뚜욱' '그냥' '기...</td>\n    </tr>\n    <tr>\n      <th>2865</th>\n      <td>형사 Duelist</td>\n      <td>두서 없이 썼던 글을 지우고 다시 씁니다물론 이 글은 프로 제 개인적인 감상문이...</td>\n      <td>['두서' '써다' '지우다' '다시' '쓰다' '프로' '개인' '감상문' '는걸...</td>\n    </tr>\n    <tr>\n      <th>2866</th>\n      <td>화성으로 간 사나이</td>\n      <td>제목 화성으로 간 사나이감독 김정권주연 김희선 신하균하트 점수   김정권 감독의 ...</td>\n      <td>['제목' '화성' '사나이' '감독' '김정권' '주연' '김희선' '신하균' '...</td>\n    </tr>\n    <tr>\n      <th>2867</th>\n      <td>황산벌</td>\n      <td>년 첫연휴를 마무리하며 서핑을 하던 중 눈에 비친 기사가 있었습니다  연휴중 방송했...</td>\n      <td>['연휴' '마무리' '하다' '서핑' '비치다' '기사' '방송' '황산벌' '중...</td>\n    </tr>\n    <tr>\n      <th>2868</th>\n      <td>히 러브스 미</td>\n      <td>아멜리에의 팬으로써 이 영화는 로맨틱 코메디로 잘 포장해서 관객을 속인 영화라고 감...</td>\n      <td>['메다' '영화' '로맨틱' '코메디' '자다' '포장' '하다' '관객' '속인...</td>\n    </tr>\n  </tbody>\n</table>\n<p>2869 rows × 3 columns</p>\n</div>"
     },
     "execution_count": 25,
     "metadata": {},
     "output_type": "execute_result"
    }
   ],
   "source": [
    "naver_fin"
   ]
  },
  {
   "cell_type": "markdown",
   "id": "5e206a9b",
   "metadata": {},
   "source": [
    "### Watcha 중복 데이터 합치기 "
   ]
  },
  {
   "cell_type": "code",
   "execution_count": 26,
   "id": "15ed3850",
   "metadata": {},
   "outputs": [],
   "source": [
    "watcha = watcha.astype(str)"
   ]
  },
  {
   "cell_type": "code",
   "execution_count": 27,
   "id": "3e066b53",
   "metadata": {},
   "outputs": [],
   "source": [
    "watcha_fin = watcha.groupby('movie_id',as_index=False).agg(reviews = ('reviews',','.join),\n",
    "                                            word = ('word',','.join))"
   ]
  },
  {
   "cell_type": "code",
   "execution_count": 28,
   "id": "0549b706",
   "metadata": {},
   "outputs": [
    {
     "data": {
      "text/plain": "           movie_id                                            reviews  \\\n0             #살아있다  부산행 이후만 해도 우리가 본 좀비영화가 몇 편인데 이렇게 편의적으로만 살아있다 밧...   \n1            #아이엠히어  진짜로 여기 있다는 것의 의미배두나는 프랑스어도 잘하는구나 뭐야 이 양심도 모르는 ...   \n2             #위왓치유  세상에서 제일 역겨운 영화드럽고  드럽고 드럽네  진짜 너무 역겹다 연유라떼 마시고...   \n3            ...ing  기억난다 년대 순정만화는 이런 느낌이었다 옛날에 사촌누나집에 놀러가면 책장 가득 채...   \n4            0.0MHz  연기자면 연기를 하자 자까는 소리 하지 말고 참신함과 재미가 을 찍는 순간     ...   \n...             ...                                                ...   \n11043       힐빌리의 노래  수치로 환산되지 않을 거라 믿었던 나의 배경까지 보이지 않는 자본이 되어 옴짝달싹 ...   \n11044     힘내세요, 병헌씨  때론 침묵은 격려를 표현하는 가장 좋은 수단이 될때도 있다 버티는것 만들어가는것 주...   \n11045  힘을 내요, 미스터 리  다루고 있는 사건은 뭉클하지만 영화는 그 뭉클함을 그저 형식적으로 툭 건드리고 지나...   \n11046    힙스터: 안개의 덫  상당히 짜증을 불러 일으키는 영화다 성상납 안하면 너희밴드를 안쓰겠다 년대냐  연기...   \n11047            힛쳐  제네들 괴롭힌거 재미로 그랬지그러면 안되나 이제는 익숙한 싸패의 정신세계 기본적으로...   \n\n                                                    word  \n0      ['부산' '이후' '해도' '보다' '좀비' '영화' '편의' '살다' '밧줄' ...  \n1         ['진짜' '의미' '배두나' '프랑스어' '하다' '양심' '모르다' '판타지']  \n2      ['세상' '제일' '역겹다' '영화' '드럽다' '진짜' '연유' '라떼' '말다...  \n3      ['기억나다' '년대' '순정만화' '이렇다' '느끼다' '옛날' '사촌누나' '놀...  \n4      ['연기자' '연기' '하자' '깔다' '소리' '하다' '참신하다' '재미' '찍...  \n...                                                  ...  \n11043  ['수치' '환산' '되다' '않다' '믿다' '배경' '보이지' '자본' '되어다...  \n11044  ['때론' '침묵' '격려' '표현' '하다' '가장' '좋다' '수단' '되다' ...  \n11045  ['다루다' '사건' '뭉클하다' '영화' '형식' '건드리다' '지나치다' '제발...  \n11046  ['상당하다' '짜증' '불다' '일으키다' '영화' '상납' '하다' '밴드' '...  \n11047  ['괴롭히다' '재미' '그렇다' '안되다' '이제' '익숙하다' '싸다' '정신'...  \n\n[11048 rows x 3 columns]",
      "text/html": "<div>\n<style scoped>\n    .dataframe tbody tr th:only-of-type {\n        vertical-align: middle;\n    }\n\n    .dataframe tbody tr th {\n        vertical-align: top;\n    }\n\n    .dataframe thead th {\n        text-align: right;\n    }\n</style>\n<table border=\"1\" class=\"dataframe\">\n  <thead>\n    <tr style=\"text-align: right;\">\n      <th></th>\n      <th>movie_id</th>\n      <th>reviews</th>\n      <th>word</th>\n    </tr>\n  </thead>\n  <tbody>\n    <tr>\n      <th>0</th>\n      <td>#살아있다</td>\n      <td>부산행 이후만 해도 우리가 본 좀비영화가 몇 편인데 이렇게 편의적으로만 살아있다 밧...</td>\n      <td>['부산' '이후' '해도' '보다' '좀비' '영화' '편의' '살다' '밧줄' ...</td>\n    </tr>\n    <tr>\n      <th>1</th>\n      <td>#아이엠히어</td>\n      <td>진짜로 여기 있다는 것의 의미배두나는 프랑스어도 잘하는구나 뭐야 이 양심도 모르는 ...</td>\n      <td>['진짜' '의미' '배두나' '프랑스어' '하다' '양심' '모르다' '판타지']</td>\n    </tr>\n    <tr>\n      <th>2</th>\n      <td>#위왓치유</td>\n      <td>세상에서 제일 역겨운 영화드럽고  드럽고 드럽네  진짜 너무 역겹다 연유라떼 마시고...</td>\n      <td>['세상' '제일' '역겹다' '영화' '드럽다' '진짜' '연유' '라떼' '말다...</td>\n    </tr>\n    <tr>\n      <th>3</th>\n      <td>...ing</td>\n      <td>기억난다 년대 순정만화는 이런 느낌이었다 옛날에 사촌누나집에 놀러가면 책장 가득 채...</td>\n      <td>['기억나다' '년대' '순정만화' '이렇다' '느끼다' '옛날' '사촌누나' '놀...</td>\n    </tr>\n    <tr>\n      <th>4</th>\n      <td>0.0MHz</td>\n      <td>연기자면 연기를 하자 자까는 소리 하지 말고 참신함과 재미가 을 찍는 순간     ...</td>\n      <td>['연기자' '연기' '하자' '깔다' '소리' '하다' '참신하다' '재미' '찍...</td>\n    </tr>\n    <tr>\n      <th>...</th>\n      <td>...</td>\n      <td>...</td>\n      <td>...</td>\n    </tr>\n    <tr>\n      <th>11043</th>\n      <td>힐빌리의 노래</td>\n      <td>수치로 환산되지 않을 거라 믿었던 나의 배경까지 보이지 않는 자본이 되어 옴짝달싹 ...</td>\n      <td>['수치' '환산' '되다' '않다' '믿다' '배경' '보이지' '자본' '되어다...</td>\n    </tr>\n    <tr>\n      <th>11044</th>\n      <td>힘내세요, 병헌씨</td>\n      <td>때론 침묵은 격려를 표현하는 가장 좋은 수단이 될때도 있다 버티는것 만들어가는것 주...</td>\n      <td>['때론' '침묵' '격려' '표현' '하다' '가장' '좋다' '수단' '되다' ...</td>\n    </tr>\n    <tr>\n      <th>11045</th>\n      <td>힘을 내요, 미스터 리</td>\n      <td>다루고 있는 사건은 뭉클하지만 영화는 그 뭉클함을 그저 형식적으로 툭 건드리고 지나...</td>\n      <td>['다루다' '사건' '뭉클하다' '영화' '형식' '건드리다' '지나치다' '제발...</td>\n    </tr>\n    <tr>\n      <th>11046</th>\n      <td>힙스터: 안개의 덫</td>\n      <td>상당히 짜증을 불러 일으키는 영화다 성상납 안하면 너희밴드를 안쓰겠다 년대냐  연기...</td>\n      <td>['상당하다' '짜증' '불다' '일으키다' '영화' '상납' '하다' '밴드' '...</td>\n    </tr>\n    <tr>\n      <th>11047</th>\n      <td>힛쳐</td>\n      <td>제네들 괴롭힌거 재미로 그랬지그러면 안되나 이제는 익숙한 싸패의 정신세계 기본적으로...</td>\n      <td>['괴롭히다' '재미' '그렇다' '안되다' '이제' '익숙하다' '싸다' '정신'...</td>\n    </tr>\n  </tbody>\n</table>\n<p>11048 rows × 3 columns</p>\n</div>"
     },
     "execution_count": 28,
     "metadata": {},
     "output_type": "execute_result"
    }
   ],
   "source": [
    "watcha_fin"
   ]
  },
  {
   "cell_type": "code",
   "execution_count": 29,
   "id": "59bc4e0f",
   "metadata": {},
   "outputs": [],
   "source": [
    "watcha_fin.to_csv('watcha_fin.csv',encoding='utf-8-sig',index = False)"
   ]
  },
  {
   "cell_type": "code",
   "execution_count": 30,
   "id": "821596e0",
   "metadata": {},
   "outputs": [],
   "source": [
    "watcha_fin = pd.read_csv('watcha_fin.csv')"
   ]
  },
  {
   "cell_type": "markdown",
   "id": "a5697137",
   "metadata": {},
   "source": [
    "### Merge _data "
   ]
  },
  {
   "cell_type": "code",
   "execution_count": 31,
   "id": "a0e4cf6c",
   "metadata": {},
   "outputs": [],
   "source": [
    "movie = movie_list.merge(naver_fin, how='left', on='movie_id')"
   ]
  },
  {
   "cell_type": "code",
   "execution_count": 32,
   "id": "c55bbf30",
   "metadata": {},
   "outputs": [],
   "source": [
    "movie = movie.merge(watcha_fin, how='left', on='movie_id')"
   ]
  },
  {
   "cell_type": "code",
   "execution_count": 33,
   "id": "dea6a408",
   "metadata": {},
   "outputs": [
    {
     "data": {
      "text/plain": "             movie_id                                          reviews_x  \\\n0            1%의 어떤 것  살짝 억지스럽고 너무나 심하게 건전한 점에서 조금 깍였지만너무 보기 좋은 드라마고 ...   \n1                 25시  예전리뷰  시   척박한 현실을 여과없이 드러내는 뛰어난 리얼리즘영화인동시에 진짜와...   \n2      S.W.A.T. 특수기동대  개봉일에 맞춰 기다리던 를 보았는데 이젠 나아지겠지하고 인내를 하고보다가 너무 화가...   \n3            갱스 오브 뉴욕  너네들이 년전에 태어났어봐라 세상은 약육강식의 세상이었다 그 진리를 터득한 국가는 ...   \n4             거짓말의 빛깔    한 바닷가 마을에서 여자아이가 성폭행 후 살해당하는 사건이 벌어지면서 범인으로 ...   \n...               ...                                                ...   \n23370          주글래 살래                                                NaN   \n23371            천방지축                                                NaN   \n23372           콜드 크릭                                                NaN   \n23373             터미널                                                NaN   \n23374            헤라퍼플                                                NaN   \n\n                                                  word_x  \\\n0      ['살짝' '억지스럽다' '심하다' '건전하다' '깍이다' '보기' '좋다' '드라...   \n1      ['예전' '리뷰' '척박하다' '현실' '여과' '드러내다' '뛰어나다' '리얼리...   \n2      ['개봉일' '맞추다' '기다리다' '보다' '나아지다' '인내' '하다' '가다'...   \n3      ['년전' '태어나다' '보다' '세상' '약육강식' '이다' '진리' '터득' '...   \n4      ['하다' '바닷가' '마을' '여자아이' '성폭행' '살해' '당하다' '사건' ...   \n...                                                  ...   \n23370                                                NaN   \n23371                                                NaN   \n23372                                                NaN   \n23373                                                NaN   \n23374                                                NaN   \n\n                                               reviews_y  \\\n0                                                    NaN   \n1      요즘 복고풍인가 해서 어릴 적에보았던 이 영화가 문득 떠올랐다 노틀담의 곱추로 유명...   \n2      초반에는  훈련 홍보인가 싶었었는데그래 저런 놈은 싹을 잘라야 후환이 없어그냥저냥 ...   \n3      갱즈오브뉴욕에서 링컨 그림에 단검을 던져서 꽂아넣던 다니엘 데이 루이스가 여년 뒤 ...   \n4                                                    NaN   \n...                                                  ...   \n23370  심지어는 영문 제목도   로 품사 일치도 안 돼있다한마디로 이 영화는 제대로 된 게...   \n23371  초호화 캐스팅에 혹해서 봤는대정말 너무 어정쩡한 장르의 표본 코미디 액션 멜로 아무...   \n23372                          점 그렇게 무섭지도 않고 그래도 나쁘진 않았다   \n23373  톰 행크스는 연기를 하는것인지 본인 그자체인지 구분못하게 만든다 톰 행크스의 매력에...   \n23374  싸이키컬 섹스 스릴러라는 그 누구도 상상하지 못한 장르를 만들어낸 빼어난 솜씨 내가...   \n\n                                                  word_y  \n0                                                    NaN  \n1      ['요즘' '고풍' '하다' '어리다' '보다' '영화' '문득' '떠오르다' '노...  \n2      ['초반' '훈련' '홍보' '싶다' '그렇다' '저런' '자르다' '후환' '없다...  \n3      ['오브' '뉴욕' '링컨' '그림' '단검' '던지다' '꽂다' '넣다' '다니엘...  \n4                                                    NaN  \n...                                                  ...  \n23370  ['영문' '제목' '품사' '일치' '돼다' '영화' '제대로' '되다' '없다'...  \n23371  ['호화' '캐스팅' '하다' '보다' '정말' '어정쩡하다' '장르' '표본' '...  \n23372                                 ['무섭다' '않다' '나쁘다']  \n23373  ['행크스' '연기' '하다' '본인' '자체' '구분' '만들다' '매력' '무조...  \n23374  ['싸이키' '섹스' '스릴러' '상상' '하다' '장르' '만들다' '내다' '빼...  \n\n[23375 rows x 5 columns]",
      "text/html": "<div>\n<style scoped>\n    .dataframe tbody tr th:only-of-type {\n        vertical-align: middle;\n    }\n\n    .dataframe tbody tr th {\n        vertical-align: top;\n    }\n\n    .dataframe thead th {\n        text-align: right;\n    }\n</style>\n<table border=\"1\" class=\"dataframe\">\n  <thead>\n    <tr style=\"text-align: right;\">\n      <th></th>\n      <th>movie_id</th>\n      <th>reviews_x</th>\n      <th>word_x</th>\n      <th>reviews_y</th>\n      <th>word_y</th>\n    </tr>\n  </thead>\n  <tbody>\n    <tr>\n      <th>0</th>\n      <td>1%의 어떤 것</td>\n      <td>살짝 억지스럽고 너무나 심하게 건전한 점에서 조금 깍였지만너무 보기 좋은 드라마고 ...</td>\n      <td>['살짝' '억지스럽다' '심하다' '건전하다' '깍이다' '보기' '좋다' '드라...</td>\n      <td>NaN</td>\n      <td>NaN</td>\n    </tr>\n    <tr>\n      <th>1</th>\n      <td>25시</td>\n      <td>예전리뷰  시   척박한 현실을 여과없이 드러내는 뛰어난 리얼리즘영화인동시에 진짜와...</td>\n      <td>['예전' '리뷰' '척박하다' '현실' '여과' '드러내다' '뛰어나다' '리얼리...</td>\n      <td>요즘 복고풍인가 해서 어릴 적에보았던 이 영화가 문득 떠올랐다 노틀담의 곱추로 유명...</td>\n      <td>['요즘' '고풍' '하다' '어리다' '보다' '영화' '문득' '떠오르다' '노...</td>\n    </tr>\n    <tr>\n      <th>2</th>\n      <td>S.W.A.T. 특수기동대</td>\n      <td>개봉일에 맞춰 기다리던 를 보았는데 이젠 나아지겠지하고 인내를 하고보다가 너무 화가...</td>\n      <td>['개봉일' '맞추다' '기다리다' '보다' '나아지다' '인내' '하다' '가다'...</td>\n      <td>초반에는  훈련 홍보인가 싶었었는데그래 저런 놈은 싹을 잘라야 후환이 없어그냥저냥 ...</td>\n      <td>['초반' '훈련' '홍보' '싶다' '그렇다' '저런' '자르다' '후환' '없다...</td>\n    </tr>\n    <tr>\n      <th>3</th>\n      <td>갱스 오브 뉴욕</td>\n      <td>너네들이 년전에 태어났어봐라 세상은 약육강식의 세상이었다 그 진리를 터득한 국가는 ...</td>\n      <td>['년전' '태어나다' '보다' '세상' '약육강식' '이다' '진리' '터득' '...</td>\n      <td>갱즈오브뉴욕에서 링컨 그림에 단검을 던져서 꽂아넣던 다니엘 데이 루이스가 여년 뒤 ...</td>\n      <td>['오브' '뉴욕' '링컨' '그림' '단검' '던지다' '꽂다' '넣다' '다니엘...</td>\n    </tr>\n    <tr>\n      <th>4</th>\n      <td>거짓말의 빛깔</td>\n      <td>한 바닷가 마을에서 여자아이가 성폭행 후 살해당하는 사건이 벌어지면서 범인으로 ...</td>\n      <td>['하다' '바닷가' '마을' '여자아이' '성폭행' '살해' '당하다' '사건' ...</td>\n      <td>NaN</td>\n      <td>NaN</td>\n    </tr>\n    <tr>\n      <th>...</th>\n      <td>...</td>\n      <td>...</td>\n      <td>...</td>\n      <td>...</td>\n      <td>...</td>\n    </tr>\n    <tr>\n      <th>23370</th>\n      <td>주글래 살래</td>\n      <td>NaN</td>\n      <td>NaN</td>\n      <td>심지어는 영문 제목도   로 품사 일치도 안 돼있다한마디로 이 영화는 제대로 된 게...</td>\n      <td>['영문' '제목' '품사' '일치' '돼다' '영화' '제대로' '되다' '없다'...</td>\n    </tr>\n    <tr>\n      <th>23371</th>\n      <td>천방지축</td>\n      <td>NaN</td>\n      <td>NaN</td>\n      <td>초호화 캐스팅에 혹해서 봤는대정말 너무 어정쩡한 장르의 표본 코미디 액션 멜로 아무...</td>\n      <td>['호화' '캐스팅' '하다' '보다' '정말' '어정쩡하다' '장르' '표본' '...</td>\n    </tr>\n    <tr>\n      <th>23372</th>\n      <td>콜드 크릭</td>\n      <td>NaN</td>\n      <td>NaN</td>\n      <td>점 그렇게 무섭지도 않고 그래도 나쁘진 않았다</td>\n      <td>['무섭다' '않다' '나쁘다']</td>\n    </tr>\n    <tr>\n      <th>23373</th>\n      <td>터미널</td>\n      <td>NaN</td>\n      <td>NaN</td>\n      <td>톰 행크스는 연기를 하는것인지 본인 그자체인지 구분못하게 만든다 톰 행크스의 매력에...</td>\n      <td>['행크스' '연기' '하다' '본인' '자체' '구분' '만들다' '매력' '무조...</td>\n    </tr>\n    <tr>\n      <th>23374</th>\n      <td>헤라퍼플</td>\n      <td>NaN</td>\n      <td>NaN</td>\n      <td>싸이키컬 섹스 스릴러라는 그 누구도 상상하지 못한 장르를 만들어낸 빼어난 솜씨 내가...</td>\n      <td>['싸이키' '섹스' '스릴러' '상상' '하다' '장르' '만들다' '내다' '빼...</td>\n    </tr>\n  </tbody>\n</table>\n<p>23375 rows × 5 columns</p>\n</div>"
     },
     "execution_count": 33,
     "metadata": {},
     "output_type": "execute_result"
    }
   ],
   "source": [
    "movie"
   ]
  },
  {
   "cell_type": "code",
   "execution_count": 34,
   "id": "d083a90e",
   "metadata": {},
   "outputs": [
    {
     "name": "stderr",
     "output_type": "stream",
     "text": [
      "/var/folders/gw/cgt75dcs5p5brqwyv3ptr3mm0000gn/T/ipykernel_17957/751424944.py:1: FutureWarning: The default value of regex will change from True to False in a future version.\n",
      "  movie['word_x']= movie['word_x'].str.replace(\"[^ㄱ-ㅎㅏ-ㅣ가-힣 ]\",\"\")\n"
     ]
    }
   ],
   "source": [
    "movie['word_x']= movie['word_x'].str.replace(\"[^ㄱ-ㅎㅏ-ㅣ가-힣 ]\",\"\")"
   ]
  },
  {
   "cell_type": "code",
   "execution_count": 35,
   "id": "62ebdc9d",
   "metadata": {},
   "outputs": [
    {
     "name": "stderr",
     "output_type": "stream",
     "text": [
      "/var/folders/gw/cgt75dcs5p5brqwyv3ptr3mm0000gn/T/ipykernel_17957/3554630379.py:1: FutureWarning: The default value of regex will change from True to False in a future version.\n",
      "  movie['word_y']= movie['word_y'].str.replace(\"[^ㄱ-ㅎㅏ-ㅣ가-힣 ]\",\"\")\n"
     ]
    }
   ],
   "source": [
    "movie['word_y']= movie['word_y'].str.replace(\"[^ㄱ-ㅎㅏ-ㅣ가-힣 ]\",\"\")"
   ]
  },
  {
   "cell_type": "code",
   "execution_count": 36,
   "id": "9709de56",
   "metadata": {},
   "outputs": [],
   "source": [
    "movie['word_x'] = movie['word_x'].fillna(\"\")\n",
    "movie['word_y'] = movie['word_y'].fillna(\"\")"
   ]
  },
  {
   "cell_type": "code",
   "execution_count": 37,
   "id": "14ff833d",
   "metadata": {},
   "outputs": [],
   "source": [
    "movie['reviews_x'] = movie['reviews_x'].fillna(\"\")\n",
    "movie['reviews_y'] = movie['reviews_y'].fillna(\"\")"
   ]
  },
  {
   "cell_type": "code",
   "execution_count": null,
   "id": "08af6233",
   "metadata": {},
   "outputs": [],
   "source": []
  },
  {
   "cell_type": "code",
   "execution_count": 38,
   "id": "3d366ee5",
   "metadata": {},
   "outputs": [],
   "source": [
    "movie['word'] = movie['word_x']+ movie['word_y']\n",
    "movie['reviews'] = movie['reviews_x']+ movie['reviews_y']"
   ]
  },
  {
   "cell_type": "code",
   "execution_count": 39,
   "id": "f46844ad",
   "metadata": {},
   "outputs": [
    {
     "data": {
      "text/plain": "             movie_id                                          reviews_x  \\\n0            1%의 어떤 것  살짝 억지스럽고 너무나 심하게 건전한 점에서 조금 깍였지만너무 보기 좋은 드라마고 ...   \n1                 25시  예전리뷰  시   척박한 현실을 여과없이 드러내는 뛰어난 리얼리즘영화인동시에 진짜와...   \n2      S.W.A.T. 특수기동대  개봉일에 맞춰 기다리던 를 보았는데 이젠 나아지겠지하고 인내를 하고보다가 너무 화가...   \n3            갱스 오브 뉴욕  너네들이 년전에 태어났어봐라 세상은 약육강식의 세상이었다 그 진리를 터득한 국가는 ...   \n4             거짓말의 빛깔    한 바닷가 마을에서 여자아이가 성폭행 후 살해당하는 사건이 벌어지면서 범인으로 ...   \n...               ...                                                ...   \n23370          주글래 살래                                                      \n23371            천방지축                                                      \n23372           콜드 크릭                                                      \n23373             터미널                                                      \n23374            헤라퍼플                                                      \n\n                                                  word_x  \\\n0      살짝 억지스럽다 심하다 건전하다 깍이다 보기 좋다 드라마 사랑스럽다 일요일 아침 하...   \n1      예전 리뷰 척박하다 현실 여과 드러내다 뛰어나다 리얼리즘 영화인 동시 진짜 부딪히다...   \n2      개봉일 맞추다 기다리다 보다 나아지다 인내 하다 가다 화가 나다 아깝다 자리 박차다...   \n3      년전 태어나다 보다 세상 약육강식 이다 진리 터득 국가 지금 미국 유럽일 강대국 되...   \n4      하다 바닷가 마을 여자아이 성폭행 살해 당하다 사건 벌어지다 범인 지목 받다 화가 ...   \n...                                                  ...   \n23370                                                      \n23371                                                      \n23372                                                      \n23373                                                      \n23374                                                      \n\n                                               reviews_y  \\\n0                                                          \n1      요즘 복고풍인가 해서 어릴 적에보았던 이 영화가 문득 떠올랐다 노틀담의 곱추로 유명...   \n2      초반에는  훈련 홍보인가 싶었었는데그래 저런 놈은 싹을 잘라야 후환이 없어그냥저냥 ...   \n3      갱즈오브뉴욕에서 링컨 그림에 단검을 던져서 꽂아넣던 다니엘 데이 루이스가 여년 뒤 ...   \n4                                                          \n...                                                  ...   \n23370  심지어는 영문 제목도   로 품사 일치도 안 돼있다한마디로 이 영화는 제대로 된 게...   \n23371  초호화 캐스팅에 혹해서 봤는대정말 너무 어정쩡한 장르의 표본 코미디 액션 멜로 아무...   \n23372                          점 그렇게 무섭지도 않고 그래도 나쁘진 않았다   \n23373  톰 행크스는 연기를 하는것인지 본인 그자체인지 구분못하게 만든다 톰 행크스의 매력에...   \n23374  싸이키컬 섹스 스릴러라는 그 누구도 상상하지 못한 장르를 만들어낸 빼어난 솜씨 내가...   \n\n                                                  word_y  \\\n0                                                          \n1      요즘 고풍 하다 어리다 보다 영화 문득 떠오르다 노틀담 추로 유명하다 안소니 부리 ...   \n2      초반 훈련 홍보 싶다 그렇다 저런 자르다 후환 없다 때우다 정도 왓챠 플레이 단순하...   \n3      오브 뉴욕 링컨 그림 단검 던지다 꽂다 넣다 다니엘 데이 루이스 전기 영화 찍다 오...   \n4                                                          \n...                                                  ...   \n23370  영문 제목 품사 일치 돼다 영화 제대로 되다 없다 경이 느끼다 하다 스럽다 진짜 드...   \n23371  호화 캐스팅 하다 보다 정말 어정쩡하다 장르 표본 코미디 액션 멜로 건지다 개인 최...   \n23372                                         무섭다 않다 나쁘다   \n23373  행크스 연기 하다 본인 자체 구분 만들다 매력 무조건 기다리다 다가 아니다 어떻다 ...   \n23374  싸이키 섹스 스릴러 상상 하다 장르 만들다 내다 빼어나다 솜씨 보다 최초 영화 도저...   \n\n                                                    word  \\\n0      살짝 억지스럽다 심하다 건전하다 깍이다 보기 좋다 드라마 사랑스럽다 일요일 아침 하...   \n1      예전 리뷰 척박하다 현실 여과 드러내다 뛰어나다 리얼리즘 영화인 동시 진짜 부딪히다...   \n2      개봉일 맞추다 기다리다 보다 나아지다 인내 하다 가다 화가 나다 아깝다 자리 박차다...   \n3      년전 태어나다 보다 세상 약육강식 이다 진리 터득 국가 지금 미국 유럽일 강대국 되...   \n4      하다 바닷가 마을 여자아이 성폭행 살해 당하다 사건 벌어지다 범인 지목 받다 화가 ...   \n...                                                  ...   \n23370  영문 제목 품사 일치 돼다 영화 제대로 되다 없다 경이 느끼다 하다 스럽다 진짜 드...   \n23371  호화 캐스팅 하다 보다 정말 어정쩡하다 장르 표본 코미디 액션 멜로 건지다 개인 최...   \n23372                                         무섭다 않다 나쁘다   \n23373  행크스 연기 하다 본인 자체 구분 만들다 매력 무조건 기다리다 다가 아니다 어떻다 ...   \n23374  싸이키 섹스 스릴러 상상 하다 장르 만들다 내다 빼어나다 솜씨 보다 최초 영화 도저...   \n\n                                                 reviews  \n0      살짝 억지스럽고 너무나 심하게 건전한 점에서 조금 깍였지만너무 보기 좋은 드라마고 ...  \n1      예전리뷰  시   척박한 현실을 여과없이 드러내는 뛰어난 리얼리즘영화인동시에 진짜와...  \n2      개봉일에 맞춰 기다리던 를 보았는데 이젠 나아지겠지하고 인내를 하고보다가 너무 화가...  \n3      너네들이 년전에 태어났어봐라 세상은 약육강식의 세상이었다 그 진리를 터득한 국가는 ...  \n4        한 바닷가 마을에서 여자아이가 성폭행 후 살해당하는 사건이 벌어지면서 범인으로 ...  \n...                                                  ...  \n23370  심지어는 영문 제목도   로 품사 일치도 안 돼있다한마디로 이 영화는 제대로 된 게...  \n23371  초호화 캐스팅에 혹해서 봤는대정말 너무 어정쩡한 장르의 표본 코미디 액션 멜로 아무...  \n23372                          점 그렇게 무섭지도 않고 그래도 나쁘진 않았다  \n23373  톰 행크스는 연기를 하는것인지 본인 그자체인지 구분못하게 만든다 톰 행크스의 매력에...  \n23374  싸이키컬 섹스 스릴러라는 그 누구도 상상하지 못한 장르를 만들어낸 빼어난 솜씨 내가...  \n\n[23375 rows x 7 columns]",
      "text/html": "<div>\n<style scoped>\n    .dataframe tbody tr th:only-of-type {\n        vertical-align: middle;\n    }\n\n    .dataframe tbody tr th {\n        vertical-align: top;\n    }\n\n    .dataframe thead th {\n        text-align: right;\n    }\n</style>\n<table border=\"1\" class=\"dataframe\">\n  <thead>\n    <tr style=\"text-align: right;\">\n      <th></th>\n      <th>movie_id</th>\n      <th>reviews_x</th>\n      <th>word_x</th>\n      <th>reviews_y</th>\n      <th>word_y</th>\n      <th>word</th>\n      <th>reviews</th>\n    </tr>\n  </thead>\n  <tbody>\n    <tr>\n      <th>0</th>\n      <td>1%의 어떤 것</td>\n      <td>살짝 억지스럽고 너무나 심하게 건전한 점에서 조금 깍였지만너무 보기 좋은 드라마고 ...</td>\n      <td>살짝 억지스럽다 심하다 건전하다 깍이다 보기 좋다 드라마 사랑스럽다 일요일 아침 하...</td>\n      <td></td>\n      <td></td>\n      <td>살짝 억지스럽다 심하다 건전하다 깍이다 보기 좋다 드라마 사랑스럽다 일요일 아침 하...</td>\n      <td>살짝 억지스럽고 너무나 심하게 건전한 점에서 조금 깍였지만너무 보기 좋은 드라마고 ...</td>\n    </tr>\n    <tr>\n      <th>1</th>\n      <td>25시</td>\n      <td>예전리뷰  시   척박한 현실을 여과없이 드러내는 뛰어난 리얼리즘영화인동시에 진짜와...</td>\n      <td>예전 리뷰 척박하다 현실 여과 드러내다 뛰어나다 리얼리즘 영화인 동시 진짜 부딪히다...</td>\n      <td>요즘 복고풍인가 해서 어릴 적에보았던 이 영화가 문득 떠올랐다 노틀담의 곱추로 유명...</td>\n      <td>요즘 고풍 하다 어리다 보다 영화 문득 떠오르다 노틀담 추로 유명하다 안소니 부리 ...</td>\n      <td>예전 리뷰 척박하다 현실 여과 드러내다 뛰어나다 리얼리즘 영화인 동시 진짜 부딪히다...</td>\n      <td>예전리뷰  시   척박한 현실을 여과없이 드러내는 뛰어난 리얼리즘영화인동시에 진짜와...</td>\n    </tr>\n    <tr>\n      <th>2</th>\n      <td>S.W.A.T. 특수기동대</td>\n      <td>개봉일에 맞춰 기다리던 를 보았는데 이젠 나아지겠지하고 인내를 하고보다가 너무 화가...</td>\n      <td>개봉일 맞추다 기다리다 보다 나아지다 인내 하다 가다 화가 나다 아깝다 자리 박차다...</td>\n      <td>초반에는  훈련 홍보인가 싶었었는데그래 저런 놈은 싹을 잘라야 후환이 없어그냥저냥 ...</td>\n      <td>초반 훈련 홍보 싶다 그렇다 저런 자르다 후환 없다 때우다 정도 왓챠 플레이 단순하...</td>\n      <td>개봉일 맞추다 기다리다 보다 나아지다 인내 하다 가다 화가 나다 아깝다 자리 박차다...</td>\n      <td>개봉일에 맞춰 기다리던 를 보았는데 이젠 나아지겠지하고 인내를 하고보다가 너무 화가...</td>\n    </tr>\n    <tr>\n      <th>3</th>\n      <td>갱스 오브 뉴욕</td>\n      <td>너네들이 년전에 태어났어봐라 세상은 약육강식의 세상이었다 그 진리를 터득한 국가는 ...</td>\n      <td>년전 태어나다 보다 세상 약육강식 이다 진리 터득 국가 지금 미국 유럽일 강대국 되...</td>\n      <td>갱즈오브뉴욕에서 링컨 그림에 단검을 던져서 꽂아넣던 다니엘 데이 루이스가 여년 뒤 ...</td>\n      <td>오브 뉴욕 링컨 그림 단검 던지다 꽂다 넣다 다니엘 데이 루이스 전기 영화 찍다 오...</td>\n      <td>년전 태어나다 보다 세상 약육강식 이다 진리 터득 국가 지금 미국 유럽일 강대국 되...</td>\n      <td>너네들이 년전에 태어났어봐라 세상은 약육강식의 세상이었다 그 진리를 터득한 국가는 ...</td>\n    </tr>\n    <tr>\n      <th>4</th>\n      <td>거짓말의 빛깔</td>\n      <td>한 바닷가 마을에서 여자아이가 성폭행 후 살해당하는 사건이 벌어지면서 범인으로 ...</td>\n      <td>하다 바닷가 마을 여자아이 성폭행 살해 당하다 사건 벌어지다 범인 지목 받다 화가 ...</td>\n      <td></td>\n      <td></td>\n      <td>하다 바닷가 마을 여자아이 성폭행 살해 당하다 사건 벌어지다 범인 지목 받다 화가 ...</td>\n      <td>한 바닷가 마을에서 여자아이가 성폭행 후 살해당하는 사건이 벌어지면서 범인으로 ...</td>\n    </tr>\n    <tr>\n      <th>...</th>\n      <td>...</td>\n      <td>...</td>\n      <td>...</td>\n      <td>...</td>\n      <td>...</td>\n      <td>...</td>\n      <td>...</td>\n    </tr>\n    <tr>\n      <th>23370</th>\n      <td>주글래 살래</td>\n      <td></td>\n      <td></td>\n      <td>심지어는 영문 제목도   로 품사 일치도 안 돼있다한마디로 이 영화는 제대로 된 게...</td>\n      <td>영문 제목 품사 일치 돼다 영화 제대로 되다 없다 경이 느끼다 하다 스럽다 진짜 드...</td>\n      <td>영문 제목 품사 일치 돼다 영화 제대로 되다 없다 경이 느끼다 하다 스럽다 진짜 드...</td>\n      <td>심지어는 영문 제목도   로 품사 일치도 안 돼있다한마디로 이 영화는 제대로 된 게...</td>\n    </tr>\n    <tr>\n      <th>23371</th>\n      <td>천방지축</td>\n      <td></td>\n      <td></td>\n      <td>초호화 캐스팅에 혹해서 봤는대정말 너무 어정쩡한 장르의 표본 코미디 액션 멜로 아무...</td>\n      <td>호화 캐스팅 하다 보다 정말 어정쩡하다 장르 표본 코미디 액션 멜로 건지다 개인 최...</td>\n      <td>호화 캐스팅 하다 보다 정말 어정쩡하다 장르 표본 코미디 액션 멜로 건지다 개인 최...</td>\n      <td>초호화 캐스팅에 혹해서 봤는대정말 너무 어정쩡한 장르의 표본 코미디 액션 멜로 아무...</td>\n    </tr>\n    <tr>\n      <th>23372</th>\n      <td>콜드 크릭</td>\n      <td></td>\n      <td></td>\n      <td>점 그렇게 무섭지도 않고 그래도 나쁘진 않았다</td>\n      <td>무섭다 않다 나쁘다</td>\n      <td>무섭다 않다 나쁘다</td>\n      <td>점 그렇게 무섭지도 않고 그래도 나쁘진 않았다</td>\n    </tr>\n    <tr>\n      <th>23373</th>\n      <td>터미널</td>\n      <td></td>\n      <td></td>\n      <td>톰 행크스는 연기를 하는것인지 본인 그자체인지 구분못하게 만든다 톰 행크스의 매력에...</td>\n      <td>행크스 연기 하다 본인 자체 구분 만들다 매력 무조건 기다리다 다가 아니다 어떻다 ...</td>\n      <td>행크스 연기 하다 본인 자체 구분 만들다 매력 무조건 기다리다 다가 아니다 어떻다 ...</td>\n      <td>톰 행크스는 연기를 하는것인지 본인 그자체인지 구분못하게 만든다 톰 행크스의 매력에...</td>\n    </tr>\n    <tr>\n      <th>23374</th>\n      <td>헤라퍼플</td>\n      <td></td>\n      <td></td>\n      <td>싸이키컬 섹스 스릴러라는 그 누구도 상상하지 못한 장르를 만들어낸 빼어난 솜씨 내가...</td>\n      <td>싸이키 섹스 스릴러 상상 하다 장르 만들다 내다 빼어나다 솜씨 보다 최초 영화 도저...</td>\n      <td>싸이키 섹스 스릴러 상상 하다 장르 만들다 내다 빼어나다 솜씨 보다 최초 영화 도저...</td>\n      <td>싸이키컬 섹스 스릴러라는 그 누구도 상상하지 못한 장르를 만들어낸 빼어난 솜씨 내가...</td>\n    </tr>\n  </tbody>\n</table>\n<p>23375 rows × 7 columns</p>\n</div>"
     },
     "execution_count": 39,
     "metadata": {},
     "output_type": "execute_result"
    }
   ],
   "source": [
    "movie"
   ]
  },
  {
   "cell_type": "code",
   "execution_count": 40,
   "id": "693b1696",
   "metadata": {},
   "outputs": [],
   "source": [
    "movie = movie[['movie_id','reviews','word']]"
   ]
  },
  {
   "cell_type": "code",
   "execution_count": 41,
   "id": "71bbc8b5",
   "metadata": {},
   "outputs": [
    {
     "data": {
      "text/plain": "             movie_id                                            reviews  \\\n0            1%의 어떤 것  살짝 억지스럽고 너무나 심하게 건전한 점에서 조금 깍였지만너무 보기 좋은 드라마고 ...   \n1                 25시  예전리뷰  시   척박한 현실을 여과없이 드러내는 뛰어난 리얼리즘영화인동시에 진짜와...   \n2      S.W.A.T. 특수기동대  개봉일에 맞춰 기다리던 를 보았는데 이젠 나아지겠지하고 인내를 하고보다가 너무 화가...   \n3            갱스 오브 뉴욕  너네들이 년전에 태어났어봐라 세상은 약육강식의 세상이었다 그 진리를 터득한 국가는 ...   \n4             거짓말의 빛깔    한 바닷가 마을에서 여자아이가 성폭행 후 살해당하는 사건이 벌어지면서 범인으로 ...   \n...               ...                                                ...   \n23370          주글래 살래  심지어는 영문 제목도   로 품사 일치도 안 돼있다한마디로 이 영화는 제대로 된 게...   \n23371            천방지축  초호화 캐스팅에 혹해서 봤는대정말 너무 어정쩡한 장르의 표본 코미디 액션 멜로 아무...   \n23372           콜드 크릭                          점 그렇게 무섭지도 않고 그래도 나쁘진 않았다   \n23373             터미널  톰 행크스는 연기를 하는것인지 본인 그자체인지 구분못하게 만든다 톰 행크스의 매력에...   \n23374            헤라퍼플  싸이키컬 섹스 스릴러라는 그 누구도 상상하지 못한 장르를 만들어낸 빼어난 솜씨 내가...   \n\n                                                    word  \n0      살짝 억지스럽다 심하다 건전하다 깍이다 보기 좋다 드라마 사랑스럽다 일요일 아침 하...  \n1      예전 리뷰 척박하다 현실 여과 드러내다 뛰어나다 리얼리즘 영화인 동시 진짜 부딪히다...  \n2      개봉일 맞추다 기다리다 보다 나아지다 인내 하다 가다 화가 나다 아깝다 자리 박차다...  \n3      년전 태어나다 보다 세상 약육강식 이다 진리 터득 국가 지금 미국 유럽일 강대국 되...  \n4      하다 바닷가 마을 여자아이 성폭행 살해 당하다 사건 벌어지다 범인 지목 받다 화가 ...  \n...                                                  ...  \n23370  영문 제목 품사 일치 돼다 영화 제대로 되다 없다 경이 느끼다 하다 스럽다 진짜 드...  \n23371  호화 캐스팅 하다 보다 정말 어정쩡하다 장르 표본 코미디 액션 멜로 건지다 개인 최...  \n23372                                         무섭다 않다 나쁘다  \n23373  행크스 연기 하다 본인 자체 구분 만들다 매력 무조건 기다리다 다가 아니다 어떻다 ...  \n23374  싸이키 섹스 스릴러 상상 하다 장르 만들다 내다 빼어나다 솜씨 보다 최초 영화 도저...  \n\n[23375 rows x 3 columns]",
      "text/html": "<div>\n<style scoped>\n    .dataframe tbody tr th:only-of-type {\n        vertical-align: middle;\n    }\n\n    .dataframe tbody tr th {\n        vertical-align: top;\n    }\n\n    .dataframe thead th {\n        text-align: right;\n    }\n</style>\n<table border=\"1\" class=\"dataframe\">\n  <thead>\n    <tr style=\"text-align: right;\">\n      <th></th>\n      <th>movie_id</th>\n      <th>reviews</th>\n      <th>word</th>\n    </tr>\n  </thead>\n  <tbody>\n    <tr>\n      <th>0</th>\n      <td>1%의 어떤 것</td>\n      <td>살짝 억지스럽고 너무나 심하게 건전한 점에서 조금 깍였지만너무 보기 좋은 드라마고 ...</td>\n      <td>살짝 억지스럽다 심하다 건전하다 깍이다 보기 좋다 드라마 사랑스럽다 일요일 아침 하...</td>\n    </tr>\n    <tr>\n      <th>1</th>\n      <td>25시</td>\n      <td>예전리뷰  시   척박한 현실을 여과없이 드러내는 뛰어난 리얼리즘영화인동시에 진짜와...</td>\n      <td>예전 리뷰 척박하다 현실 여과 드러내다 뛰어나다 리얼리즘 영화인 동시 진짜 부딪히다...</td>\n    </tr>\n    <tr>\n      <th>2</th>\n      <td>S.W.A.T. 특수기동대</td>\n      <td>개봉일에 맞춰 기다리던 를 보았는데 이젠 나아지겠지하고 인내를 하고보다가 너무 화가...</td>\n      <td>개봉일 맞추다 기다리다 보다 나아지다 인내 하다 가다 화가 나다 아깝다 자리 박차다...</td>\n    </tr>\n    <tr>\n      <th>3</th>\n      <td>갱스 오브 뉴욕</td>\n      <td>너네들이 년전에 태어났어봐라 세상은 약육강식의 세상이었다 그 진리를 터득한 국가는 ...</td>\n      <td>년전 태어나다 보다 세상 약육강식 이다 진리 터득 국가 지금 미국 유럽일 강대국 되...</td>\n    </tr>\n    <tr>\n      <th>4</th>\n      <td>거짓말의 빛깔</td>\n      <td>한 바닷가 마을에서 여자아이가 성폭행 후 살해당하는 사건이 벌어지면서 범인으로 ...</td>\n      <td>하다 바닷가 마을 여자아이 성폭행 살해 당하다 사건 벌어지다 범인 지목 받다 화가 ...</td>\n    </tr>\n    <tr>\n      <th>...</th>\n      <td>...</td>\n      <td>...</td>\n      <td>...</td>\n    </tr>\n    <tr>\n      <th>23370</th>\n      <td>주글래 살래</td>\n      <td>심지어는 영문 제목도   로 품사 일치도 안 돼있다한마디로 이 영화는 제대로 된 게...</td>\n      <td>영문 제목 품사 일치 돼다 영화 제대로 되다 없다 경이 느끼다 하다 스럽다 진짜 드...</td>\n    </tr>\n    <tr>\n      <th>23371</th>\n      <td>천방지축</td>\n      <td>초호화 캐스팅에 혹해서 봤는대정말 너무 어정쩡한 장르의 표본 코미디 액션 멜로 아무...</td>\n      <td>호화 캐스팅 하다 보다 정말 어정쩡하다 장르 표본 코미디 액션 멜로 건지다 개인 최...</td>\n    </tr>\n    <tr>\n      <th>23372</th>\n      <td>콜드 크릭</td>\n      <td>점 그렇게 무섭지도 않고 그래도 나쁘진 않았다</td>\n      <td>무섭다 않다 나쁘다</td>\n    </tr>\n    <tr>\n      <th>23373</th>\n      <td>터미널</td>\n      <td>톰 행크스는 연기를 하는것인지 본인 그자체인지 구분못하게 만든다 톰 행크스의 매력에...</td>\n      <td>행크스 연기 하다 본인 자체 구분 만들다 매력 무조건 기다리다 다가 아니다 어떻다 ...</td>\n    </tr>\n    <tr>\n      <th>23374</th>\n      <td>헤라퍼플</td>\n      <td>싸이키컬 섹스 스릴러라는 그 누구도 상상하지 못한 장르를 만들어낸 빼어난 솜씨 내가...</td>\n      <td>싸이키 섹스 스릴러 상상 하다 장르 만들다 내다 빼어나다 솜씨 보다 최초 영화 도저...</td>\n    </tr>\n  </tbody>\n</table>\n<p>23375 rows × 3 columns</p>\n</div>"
     },
     "execution_count": 41,
     "metadata": {},
     "output_type": "execute_result"
    }
   ],
   "source": [
    "movie"
   ]
  },
  {
   "cell_type": "code",
   "execution_count": 42,
   "id": "b171bfdc",
   "metadata": {},
   "outputs": [
    {
     "data": {
      "text/plain": "             movie_id                                            reviews  \\\n0            1%의 어떤 것  살짝 억지스럽고 너무나 심하게 건전한 점에서 조금 깍였지만너무 보기 좋은 드라마고 ...   \n1                 25시  예전리뷰  시   척박한 현실을 여과없이 드러내는 뛰어난 리얼리즘영화인동시에 진짜와...   \n2      S.W.A.T. 특수기동대  개봉일에 맞춰 기다리던 를 보았는데 이젠 나아지겠지하고 인내를 하고보다가 너무 화가...   \n3            갱스 오브 뉴욕  너네들이 년전에 태어났어봐라 세상은 약육강식의 세상이었다 그 진리를 터득한 국가는 ...   \n4             거짓말의 빛깔    한 바닷가 마을에서 여자아이가 성폭행 후 살해당하는 사건이 벌어지면서 범인으로 ...   \n...               ...                                                ...   \n23370          주글래 살래  심지어는 영문 제목도   로 품사 일치도 안 돼있다한마디로 이 영화는 제대로 된 게...   \n23371            천방지축  초호화 캐스팅에 혹해서 봤는대정말 너무 어정쩡한 장르의 표본 코미디 액션 멜로 아무...   \n23372           콜드 크릭                          점 그렇게 무섭지도 않고 그래도 나쁘진 않았다   \n23373             터미널  톰 행크스는 연기를 하는것인지 본인 그자체인지 구분못하게 만든다 톰 행크스의 매력에...   \n23374            헤라퍼플  싸이키컬 섹스 스릴러라는 그 누구도 상상하지 못한 장르를 만들어낸 빼어난 솜씨 내가...   \n\n                                                    word  \n0      살짝 억지스럽다 심하다 건전하다 깍이다 보기 좋다 드라마 사랑스럽다 일요일 아침 하...  \n1      예전 리뷰 척박하다 현실 여과 드러내다 뛰어나다 리얼리즘 영화인 동시 진짜 부딪히다...  \n2      개봉일 맞추다 기다리다 보다 나아지다 인내 하다 가다 화가 나다 아깝다 자리 박차다...  \n3      년전 태어나다 보다 세상 약육강식 이다 진리 터득 국가 지금 미국 유럽일 강대국 되...  \n4      하다 바닷가 마을 여자아이 성폭행 살해 당하다 사건 벌어지다 범인 지목 받다 화가 ...  \n...                                                  ...  \n23370  영문 제목 품사 일치 돼다 영화 제대로 되다 없다 경이 느끼다 하다 스럽다 진짜 드...  \n23371  호화 캐스팅 하다 보다 정말 어정쩡하다 장르 표본 코미디 액션 멜로 건지다 개인 최...  \n23372                                         무섭다 않다 나쁘다  \n23373  행크스 연기 하다 본인 자체 구분 만들다 매력 무조건 기다리다 다가 아니다 어떻다 ...  \n23374  싸이키 섹스 스릴러 상상 하다 장르 만들다 내다 빼어나다 솜씨 보다 최초 영화 도저...  \n\n[23375 rows x 3 columns]",
      "text/html": "<div>\n<style scoped>\n    .dataframe tbody tr th:only-of-type {\n        vertical-align: middle;\n    }\n\n    .dataframe tbody tr th {\n        vertical-align: top;\n    }\n\n    .dataframe thead th {\n        text-align: right;\n    }\n</style>\n<table border=\"1\" class=\"dataframe\">\n  <thead>\n    <tr style=\"text-align: right;\">\n      <th></th>\n      <th>movie_id</th>\n      <th>reviews</th>\n      <th>word</th>\n    </tr>\n  </thead>\n  <tbody>\n    <tr>\n      <th>0</th>\n      <td>1%의 어떤 것</td>\n      <td>살짝 억지스럽고 너무나 심하게 건전한 점에서 조금 깍였지만너무 보기 좋은 드라마고 ...</td>\n      <td>살짝 억지스럽다 심하다 건전하다 깍이다 보기 좋다 드라마 사랑스럽다 일요일 아침 하...</td>\n    </tr>\n    <tr>\n      <th>1</th>\n      <td>25시</td>\n      <td>예전리뷰  시   척박한 현실을 여과없이 드러내는 뛰어난 리얼리즘영화인동시에 진짜와...</td>\n      <td>예전 리뷰 척박하다 현실 여과 드러내다 뛰어나다 리얼리즘 영화인 동시 진짜 부딪히다...</td>\n    </tr>\n    <tr>\n      <th>2</th>\n      <td>S.W.A.T. 특수기동대</td>\n      <td>개봉일에 맞춰 기다리던 를 보았는데 이젠 나아지겠지하고 인내를 하고보다가 너무 화가...</td>\n      <td>개봉일 맞추다 기다리다 보다 나아지다 인내 하다 가다 화가 나다 아깝다 자리 박차다...</td>\n    </tr>\n    <tr>\n      <th>3</th>\n      <td>갱스 오브 뉴욕</td>\n      <td>너네들이 년전에 태어났어봐라 세상은 약육강식의 세상이었다 그 진리를 터득한 국가는 ...</td>\n      <td>년전 태어나다 보다 세상 약육강식 이다 진리 터득 국가 지금 미국 유럽일 강대국 되...</td>\n    </tr>\n    <tr>\n      <th>4</th>\n      <td>거짓말의 빛깔</td>\n      <td>한 바닷가 마을에서 여자아이가 성폭행 후 살해당하는 사건이 벌어지면서 범인으로 ...</td>\n      <td>하다 바닷가 마을 여자아이 성폭행 살해 당하다 사건 벌어지다 범인 지목 받다 화가 ...</td>\n    </tr>\n    <tr>\n      <th>...</th>\n      <td>...</td>\n      <td>...</td>\n      <td>...</td>\n    </tr>\n    <tr>\n      <th>23370</th>\n      <td>주글래 살래</td>\n      <td>심지어는 영문 제목도   로 품사 일치도 안 돼있다한마디로 이 영화는 제대로 된 게...</td>\n      <td>영문 제목 품사 일치 돼다 영화 제대로 되다 없다 경이 느끼다 하다 스럽다 진짜 드...</td>\n    </tr>\n    <tr>\n      <th>23371</th>\n      <td>천방지축</td>\n      <td>초호화 캐스팅에 혹해서 봤는대정말 너무 어정쩡한 장르의 표본 코미디 액션 멜로 아무...</td>\n      <td>호화 캐스팅 하다 보다 정말 어정쩡하다 장르 표본 코미디 액션 멜로 건지다 개인 최...</td>\n    </tr>\n    <tr>\n      <th>23372</th>\n      <td>콜드 크릭</td>\n      <td>점 그렇게 무섭지도 않고 그래도 나쁘진 않았다</td>\n      <td>무섭다 않다 나쁘다</td>\n    </tr>\n    <tr>\n      <th>23373</th>\n      <td>터미널</td>\n      <td>톰 행크스는 연기를 하는것인지 본인 그자체인지 구분못하게 만든다 톰 행크스의 매력에...</td>\n      <td>행크스 연기 하다 본인 자체 구분 만들다 매력 무조건 기다리다 다가 아니다 어떻다 ...</td>\n    </tr>\n    <tr>\n      <th>23374</th>\n      <td>헤라퍼플</td>\n      <td>싸이키컬 섹스 스릴러라는 그 누구도 상상하지 못한 장르를 만들어낸 빼어난 솜씨 내가...</td>\n      <td>싸이키 섹스 스릴러 상상 하다 장르 만들다 내다 빼어나다 솜씨 보다 최초 영화 도저...</td>\n    </tr>\n  </tbody>\n</table>\n<p>23375 rows × 3 columns</p>\n</div>"
     },
     "execution_count": 42,
     "metadata": {},
     "output_type": "execute_result"
    }
   ],
   "source": [
    "# 최종데이터 \n",
    "movie\n",
    "#movie.to_csv('movie_fin.csv',encoding='utf-8-sig',index = False)"
   ]
  },
  {
   "cell_type": "code",
   "execution_count": 43,
   "id": "e0900ca9",
   "metadata": {},
   "outputs": [
    {
     "data": {
      "text/plain": "23375"
     },
     "execution_count": 43,
     "metadata": {},
     "output_type": "execute_result"
    }
   ],
   "source": [
    "len(movie)"
   ]
  },
  {
   "cell_type": "markdown",
   "id": "735dca82",
   "metadata": {},
   "source": [
    "## movie_dictionary"
   ]
  },
  {
   "cell_type": "code",
   "execution_count": 44,
   "id": "787e0332",
   "metadata": {},
   "outputs": [],
   "source": [
    "movie_fin = pd.read_csv('movie_fin.csv')"
   ]
  },
  {
   "cell_type": "code",
   "execution_count": 45,
   "id": "20a26ecc",
   "metadata": {},
   "outputs": [
    {
     "data": {
      "text/plain": "             movie_id                                            reviews  \\\n0            1%의 어떤 것  살짝 억지스럽고 너무나 심하게 건전한 점에서 조금 깍였지만너무 보기 좋은 드라마고 ...   \n1                 25시  예전리뷰  시   척박한 현실을 여과없이 드러내는 뛰어난 리얼리즘영화인동시에 진짜와...   \n2      S.W.A.T. 특수기동대  개봉일에 맞춰 기다리던 를 보았는데 이젠 나아지겠지하고 인내를 하고보다가 너무 화가...   \n3            갱스 오브 뉴욕  너네들이 년전에 태어났어봐라 세상은 약육강식의 세상이었다 그 진리를 터득한 국가는 ...   \n4             거짓말의 빛깔    한 바닷가 마을에서 여자아이가 성폭행 후 살해당하는 사건이 벌어지면서 범인으로 ...   \n...               ...                                                ...   \n23422          주글래 살래  심지어는 영문 제목도   로 품사 일치도 안 돼있다한마디로 이 영화는 제대로 된 게...   \n23423            천방지축  초호화 캐스팅에 혹해서 봤는대정말 너무 어정쩡한 장르의 표본 코미디 액션 멜로 아무...   \n23424           콜드 크릭                          점 그렇게 무섭지도 않고 그래도 나쁘진 않았다   \n23425             터미널  톰 행크스는 연기를 하는것인지 본인 그자체인지 구분못하게 만든다 톰 행크스의 매력에...   \n23426            헤라퍼플  싸이키컬 섹스 스릴러라는 그 누구도 상상하지 못한 장르를 만들어낸 빼어난 솜씨 내가...   \n\n                                                    word  \n0      살짝 억지스럽다 심하다 건전하다 깍이다 보기 좋다 드라마 사랑스럽다 일요일 아침 하...  \n1      예전 리뷰 척박하다 현실 여과 드러내다 뛰어나다 리얼리즘 영화인 동시 진짜 부딪히다...  \n2      개봉일 맞추다 기다리다 보다 나아지다 인내 하다 가다 화가 나다 아깝다 자리 박차다...  \n3      년전 태어나다 보다 세상 약육강식 이다 진리 터득 국가 지금 미국 유럽일 강대국 되...  \n4      하다 바닷가 마을 여자아이 성폭행 살해 당하다 사건 벌어지다 범인 지목 받다 화가 ...  \n...                                                  ...  \n23422  영문 제목 품사 일치 돼다 영화 제대로 되다 없다 경이 느끼다 하다 스럽다 진짜 드...  \n23423  호화 캐스팅 하다 보다 정말 어정쩡하다 장르 표본 코미디 액션 멜로 건지다 개인 최...  \n23424                                         무섭다 않다 나쁘다  \n23425  행크스 연기 하다 본인 자체 구분 만들다 매력 무조건 기다리다 다가 아니다 어떻다 ...  \n23426  싸이키 섹스 스릴러 상상 하다 장르 만들다 내다 빼어나다 솜씨 보다 최초 영화 도저...  \n\n[23427 rows x 3 columns]",
      "text/html": "<div>\n<style scoped>\n    .dataframe tbody tr th:only-of-type {\n        vertical-align: middle;\n    }\n\n    .dataframe tbody tr th {\n        vertical-align: top;\n    }\n\n    .dataframe thead th {\n        text-align: right;\n    }\n</style>\n<table border=\"1\" class=\"dataframe\">\n  <thead>\n    <tr style=\"text-align: right;\">\n      <th></th>\n      <th>movie_id</th>\n      <th>reviews</th>\n      <th>word</th>\n    </tr>\n  </thead>\n  <tbody>\n    <tr>\n      <th>0</th>\n      <td>1%의 어떤 것</td>\n      <td>살짝 억지스럽고 너무나 심하게 건전한 점에서 조금 깍였지만너무 보기 좋은 드라마고 ...</td>\n      <td>살짝 억지스럽다 심하다 건전하다 깍이다 보기 좋다 드라마 사랑스럽다 일요일 아침 하...</td>\n    </tr>\n    <tr>\n      <th>1</th>\n      <td>25시</td>\n      <td>예전리뷰  시   척박한 현실을 여과없이 드러내는 뛰어난 리얼리즘영화인동시에 진짜와...</td>\n      <td>예전 리뷰 척박하다 현실 여과 드러내다 뛰어나다 리얼리즘 영화인 동시 진짜 부딪히다...</td>\n    </tr>\n    <tr>\n      <th>2</th>\n      <td>S.W.A.T. 특수기동대</td>\n      <td>개봉일에 맞춰 기다리던 를 보았는데 이젠 나아지겠지하고 인내를 하고보다가 너무 화가...</td>\n      <td>개봉일 맞추다 기다리다 보다 나아지다 인내 하다 가다 화가 나다 아깝다 자리 박차다...</td>\n    </tr>\n    <tr>\n      <th>3</th>\n      <td>갱스 오브 뉴욕</td>\n      <td>너네들이 년전에 태어났어봐라 세상은 약육강식의 세상이었다 그 진리를 터득한 국가는 ...</td>\n      <td>년전 태어나다 보다 세상 약육강식 이다 진리 터득 국가 지금 미국 유럽일 강대국 되...</td>\n    </tr>\n    <tr>\n      <th>4</th>\n      <td>거짓말의 빛깔</td>\n      <td>한 바닷가 마을에서 여자아이가 성폭행 후 살해당하는 사건이 벌어지면서 범인으로 ...</td>\n      <td>하다 바닷가 마을 여자아이 성폭행 살해 당하다 사건 벌어지다 범인 지목 받다 화가 ...</td>\n    </tr>\n    <tr>\n      <th>...</th>\n      <td>...</td>\n      <td>...</td>\n      <td>...</td>\n    </tr>\n    <tr>\n      <th>23422</th>\n      <td>주글래 살래</td>\n      <td>심지어는 영문 제목도   로 품사 일치도 안 돼있다한마디로 이 영화는 제대로 된 게...</td>\n      <td>영문 제목 품사 일치 돼다 영화 제대로 되다 없다 경이 느끼다 하다 스럽다 진짜 드...</td>\n    </tr>\n    <tr>\n      <th>23423</th>\n      <td>천방지축</td>\n      <td>초호화 캐스팅에 혹해서 봤는대정말 너무 어정쩡한 장르의 표본 코미디 액션 멜로 아무...</td>\n      <td>호화 캐스팅 하다 보다 정말 어정쩡하다 장르 표본 코미디 액션 멜로 건지다 개인 최...</td>\n    </tr>\n    <tr>\n      <th>23424</th>\n      <td>콜드 크릭</td>\n      <td>점 그렇게 무섭지도 않고 그래도 나쁘진 않았다</td>\n      <td>무섭다 않다 나쁘다</td>\n    </tr>\n    <tr>\n      <th>23425</th>\n      <td>터미널</td>\n      <td>톰 행크스는 연기를 하는것인지 본인 그자체인지 구분못하게 만든다 톰 행크스의 매력에...</td>\n      <td>행크스 연기 하다 본인 자체 구분 만들다 매력 무조건 기다리다 다가 아니다 어떻다 ...</td>\n    </tr>\n    <tr>\n      <th>23426</th>\n      <td>헤라퍼플</td>\n      <td>싸이키컬 섹스 스릴러라는 그 누구도 상상하지 못한 장르를 만들어낸 빼어난 솜씨 내가...</td>\n      <td>싸이키 섹스 스릴러 상상 하다 장르 만들다 내다 빼어나다 솜씨 보다 최초 영화 도저...</td>\n    </tr>\n  </tbody>\n</table>\n<p>23427 rows × 3 columns</p>\n</div>"
     },
     "execution_count": 45,
     "metadata": {},
     "output_type": "execute_result"
    }
   ],
   "source": [
    "movie_fin"
   ]
  },
  {
   "cell_type": "code",
   "execution_count": 46,
   "id": "4bef0466",
   "metadata": {},
   "outputs": [
    {
     "data": {
      "text/plain": "23427"
     },
     "execution_count": 46,
     "metadata": {},
     "output_type": "execute_result"
    }
   ],
   "source": [
    "len(movie_fin)"
   ]
  },
  {
   "cell_type": "code",
   "execution_count": 47,
   "id": "01e2ee8c",
   "metadata": {},
   "outputs": [],
   "source": [
    "movie_dict = {}\n",
    "for i in range(len(movie_fin)) :\n",
    "    movie_dict[movie_fin['movie_id'][i]] = movie_fin['word'][i]"
   ]
  },
  {
   "cell_type": "code",
   "execution_count": 48,
   "id": "38f995e8",
   "metadata": {},
   "outputs": [
    {
     "data": {
      "text/plain": "12063"
     },
     "execution_count": 48,
     "metadata": {},
     "output_type": "execute_result"
    }
   ],
   "source": [
    "len(movie_dict)"
   ]
  },
  {
   "cell_type": "code",
   "execution_count": 49,
   "id": "eb305613",
   "metadata": {},
   "outputs": [
    {
     "data": {
      "text/plain": "'행크스 연기 하다 본인 자체 구분 만들다 매력 무조건 기다리다 다가 아니다 어떻다 자다 인생 무수 마주치다 되다 기다림 의미 보내다 중요하다 느끼다 해주다 영화 스타트랙 좋아하다 오다 여인 실제 스타트렉 비기닝 아바타 나오다 깨알 관전 포인트 약속 가치 대해 다시 생각 해보다 자극 단순하다 가장 강력하다 무기 잘알다 스티븐 스필버그 전하 잔잔하다 감동 외국인 항상 어리숙하다 뭔가 미숙 존재 보다 전형 미국인 관점 미국 갈다 떠나다 없다 마지막 조각 자세 무인도 돌아오다 공항 표류 종류 버티다 인내 견디다 삶다 나르다 갉아먹다 떨어지다 기만 누운 사람 점점 마르다 빅터 희망 심다 필요하다 확장 수확 소망 도저히 환산 막막하다 절망 줄기 찾아가다 정말 갑인 살다 순수하다 악의 완벽하다 여운 이유 진정 때문 이다'"
     },
     "execution_count": 49,
     "metadata": {},
     "output_type": "execute_result"
    }
   ],
   "source": [
    "movie_dict['터미널']"
   ]
  },
  {
   "cell_type": "code",
   "execution_count": 50,
   "id": "cafff306",
   "metadata": {},
   "outputs": [
    {
     "data": {
      "text/plain": "'하다 바닷가 마을 여자아이 성폭행 살해 당하다 사건 벌어지다 범인 지목 받다 화가 자크 검블랑 아내 드리다 보네르 그녀 유혹 유명 작가 앙뜨완느 꼬네 삼각관계 심리 묘사 영화상 친밀하다 출연 여배우 미스터리 용두사미 이다 명화 재미있다 영화'"
     },
     "execution_count": 50,
     "metadata": {},
     "output_type": "execute_result"
    }
   ],
   "source": [
    "movie_dict['거짓말의 빛깔']"
   ]
  },
  {
   "cell_type": "code",
   "execution_count": 51,
   "id": "a45f15aa",
   "metadata": {},
   "outputs": [
    {
     "data": {
      "text/plain": "'그렇다 망각 자다 이다 사람 기억 안고 산다 그것 행복하다 쓰라리다 창피하다 머릿속 한구석 가지런하다 어수선하다 자리 하다 때론 불쑥 떠오르다 기도 개인 의도 의하다 성격 따르다 웃음 짓다 눈물 흘리다 머리 세차 흔들다 버리다 보존 거나 잊다 싶다 좋다 남기다 두다 평생 추억 갖다 않다 괴로움 벗어나다 어쨌든 마련 모든 가지다 없다 동물 다해 흐르다 잃다 간다 자연 선택 사라지다 수도 나쁘다 상관없다 돼다 랜덤 방식 지우다 나가다 정말 복인 터널 선샤인 등장 니체 언뜻 맞다 격언 얘기 정확하다 상황 자체 놓다 보다 실수 단순하다 잘못 이기 이전 수치심 동반 경우 많다 종류 대한 그냥 로만 반복 학습 경험 예방접종 걸리다 없어지다 소중하다 되다 마찬가지 다다 모르다 사이 실감 사실 뒤늦다 깨달 영화 인물 잃어버리다 찾다 나서다 흔적 때문 누군가 잊혀지다 싫어하다 상대 라면 더욱 만난 기억나다 묻다 인사 아니다 나라 대답 들다 섭섭하다 여고괴담 목소리 잊혀짐 공포 소재 진주 최강희 김규리 듣다 두번째 이야기 교환일기 박예진 아픔 조엘 캐리 클레멘타인 케이트 윈슬렛 힘들다 프롤로그 지난 후의 모습 화가 사랑 지워지다 헤어지다 어쩌면 당연하다 일일 지도 시술 과정 깨닫다 지겹다 싸우다 대다 그땐 행복 삭제 필사 피해 다니다 작업 최근 아프다 화나다 점점 즐겁다 변하다 강하다 남다 이쯤 자가 받다 신의 과거 일정 부분 도려내다 분명 허망 다그 사람과 가다 먹다 음식 하워드 윌킨슨 매리 커스 스트 부인 불쌍하다 마음 테두리 모양 다시 만나다 처음 몬톡 서로 비난 상대방 아주 잔인하다 일이 가장 심하다 독설 간접 떨리다 일인 시작 어떻다 알다 감정 명확하다 정의 내리다 수많다 시인 작가 가지 고민 필요 눕다 별자리 보이다 우주 개성 넘다 기발하다 차이 끄다 찰리 우프 멀다 미셸 드리다 대로 질문 던지다 주다 억지로 더없이 탁월하다 힘드다 나르다 심란하다 외국 감상 올린다 단편 리뷰 참고제목 터널 선샤인 감독 미셸 드리다 출연 캐리 케이트 윈슬렛 커스틴 던스트 마크 러팔 일라이 우드 평범하다 착하다 남자 조엘 화려하다 따다 여자 클레멘타인 서로 성격 끌리다 사귀다 되다 차이 때문 점점 지치다 심하다 말다툼 하다 차다 없다 아프다 기억 지우다 주다 쿠나 찾아가다 결심 사라지다 가다 그녀 모습 사랑스럽다 보이다 사랑 지워지다 걸다 아카데미 시상식 각본 수상한 작품 이다 여우주연상 후보 사실 남우 주연 상이 확신 완전 예상 빗나가다 버리다 영화 연기 정말 받다 가치 트루먼 마제스틱 진지하다 힘없다 목소리 극적 처음 보다 그것 묘미 시작 꿀꿀하다 기분 회사 땡땡 바닷가 거기 파란 머리 쿨하다 만나다 적극 다가오다 늘다 단순하다 로맨틱 메다 알다 말코 비치 기와 특이하다 주로 쓰다 찰리 카우프만 코메디 쓸다 진행 문득 괜찮다 묻다 찢어지다 노트 등장 새롭다 전개 도입 부의 만남 사람 만난 가장 나중 일어나다 그렇다 모니카 벨루치 벵상 카셀 돌이키다 부분 구성 유사하다 홧김 막상 소중하다 추억 후회 막다 이끌다 어리다 시절 도망치다 장면 재밌다 이야기 다리 매리 커스 스탠 트릭 집어넣다 여자친구 이자 병원 비서 후반 작다 반전 발생 역시 충격 모든 줍다 초반 다시 갈등 싸우다 끝나다 사람과 이별 한번 경험 리뷰 가슴 오다 닿다 느끼다 배우다 스트 스파이더맨 주인공 영원하다 프로도 이어지다 캐스팅 이목 끄다 충분하다 어쨌든 추천 기회 생기 해보다 더욱터널 샤인 감독 미셸 드리다 주연 캐리 조엘 케이트 윈슬렛 클레멘타인 역커스틴 던스트 매리 조연 마크 러팔 스탠 일라이 우드 트릭 역톰 윌킨슨 닥터 하워드 밉다 단역 제인 아담 데이비드 크로스 기억 하다 최고 로맨스 영화 형편 없다 경우 무척 많다 돼다 지금 장난 시작 우스꽝스럽다 장면 설정 연기 씹다 나가다 정도 이야기 누나 극장 하우스 오브 데드 보다 치자 문턱 나서다 침묵 관할 가슴 분노 질거릴 주다 반대 어떻다 자다 만들어지다 액션 스릴러 보고 나오다 관객 라면 역시 마찬가지 흥분하다 않다 굳이 그렇다 누군가 재밌다 물어보다 딱하다 대답 거리 고생 마지막 먹다 해지 나다 되다 감격 경험 비추다 생각 사람 없어지다 들다 은근 미소 머릿속 여운 음미 걸어가다 아니다 망하다 커플 뒤지다 장황하다 쓰다 서두 꺼내다 이기 때문 막상 대해 도대체 갈피 잡지 사실 블로그 만들기 이전 대한 리뷰 써다 싶다 도무지 뭐라다 잡히다 무언가 부족하다 애초 느끼다 감상 멀어지다 막연하다 불안감 병신 아아 소재 삼다 사랑 연인 찾아가다 채다 널렸 다루다 방식 특이하다 과거 추억 불분명 개념 그대로 자체 잊어버리다 인생 지우다 회사 괴롭다 깨끗하다 제거 등장 인물 내면 한층 들어가다 침몰 생기다 물다 형도 생겻거든 대부분 남자 주인공 할애 여자 만나다 쌓다 오다 자세하다 들이다 끝나다 소중하다 안다 미묘하다 틈새 벗어나다 나아가다 상처 투성이 인간 깊다 슬픔 묻다 안녕 어리숙하다 파괴 되어다 가다 돌아보다 거꾸로 그것 깨닫다 필사 달린다 잊다 위해 매우 관념 상황 실제 스크린 직접 다루어지다 내용 쉽다 편이 어렵다 지루하다 처절하다 보기 몇몇 예술 포장 수도 이다 아마 뭔가 보이다 개인 낫다 어쨌거 화란 대다수 평범하다 보여주다 날렵하다 다듬어지다 각본 승리 등급 별장 오신 환영 싯팔 어쩐지 싸다 익다 배우 반지 제왕 시리즈 유명하다 뱀파이어 인터뷰 귀엽다 꼬마 숙녀 커스틴 배트맨 비긴즈 비롯 여러 인상 타이타닉 귀족 이미지 맞다 반짝이다 재능 예쁘다 멋있다 일이 분명 멋지다 스파이더맨 미안하다 덕분 내내 즐겁다 언니 못생겻다 건가 쌍놈 존재 화가 빵상 배우다 스타일 식상하다 매너리즘 빠지다 늘다 강렬하다 캐릭터 그게 에이스 벤츄 마스크 포에버 트루먼쇼 의아 다르다 이제 서다 심각하다 별로 라피 넘어서다 처음 면목 꼽는 늘어놓다 제대로 통탄 스럽다 크리스마스 시즌 다가오다 대충 만들다 로맨틱 메다 후회 보라 소심하다 이처럼 당당하다 권하다 영혼 담다 딱딱하다 통해 느낌 살리다 수가 에이 아주 좋다 그거 똑바로 체격 차이 부분 착시 현상 이용 숨다 테이블 크다 위치 멀다 움직이다 침대 시트 가려진 바퀴 달리다 촬영 도중 타고 뛰다 치다 도로 질주 강행 바람 최선 나르다 자유롭다하다 생각 보다 순간 정말 잊다 싶다 사람 돌아보다 기억 아름답다 추억 돌아오다 많다 사랑 대한 라면 더욱 그러하다 영화 지워지다 않다 터널 선샤인 메인 카피 자다 대변 한가지 바꾸다 좋다 재미있다 의견 굉장하다 주관 누군가 최악 화일 수도 조심스럽다 이영화 이야기 커플 중심 동시 전개 가다 구성 절묘하다 생활 작다 일상 스치다 단상 메모 독백 처리 대사 꼼꼼하다 아니다 대립 이끌다 심리 묘사 예리하다 원하다 지우다 세라피스 심리치료사 만들다 내다 상상력 훌륭하다 복잡하다 가장 풀다 갈다 놓다 멋지다 아카데미 각본 수상 당연하다 일일 지도 모르다 화려하다 주다 유명 배우 열연 없다 코믹 연기 알다 변신 완벽하다 성공하다 캐리 타이타닉 통해 알려지다 케이트 윈슬렛 반지 제왕 시리즈 주연 활약 일라이 우드 스파이더맨 여자 주인공 나오다 커스틴 던스트 커스틴던스트 불구 스토리 조연 마다 스포일러 되다 줄거리 언급 인용 되어다 알렉산더 포프 감상 맺다 행복 순결 여신 이다 잊혀지다 세상 의하다 마음 비추다 영원 성취 기도 체념 소망 존재영화 안보 신분 읽다 줄다 스포일러 이다 해석 달라 느끼다 말씀 드리다 하다 어리다 정말 놓치다 단어 없다 아무렇다 않다 대사 사람 등장 복선 역활 한번 보다 의미 자다 파악 지금 대충 감독 바르다 알다 예정 어떻다 전형 남자 여자 사귀다 헤어지다 정도 되다 그게 아니다 내포 적다 처음 등장인물 트릭 병아리 나오다 조엘 기억 물건 서류 말투 선물 가로 채다 그녀 접근 찰스 가기 클레멘타인 좋아하다 자주 쓰다 늘다 화나다 가다 불안하다 피해 몬톡 떠나다 거기 대화 들다 듣기 지우다 서다 좋다 아무 느낌 짜증나다 다시 인연 정해지다 행동 끄다 때문 보내다 만날 대부분 이별 생각 얘기 만나다 동거 오래되다 연인 해변 주인 방문 두다 도망치다 무척 혼란 스럽다 장면 나오미 보이다 지다 서점 찾아가다 사랑 갈수록 이해 대해 싶다 그렇다 낳다 해도 기르다 알아주다 미우다 무관심하다 점점 필요하다 이제 귀찮다 방황 시기 마음 완전 박다 새벽 들어오다 정지 버리다 상당하다 상처 결심 미련 남고 달다 모르다 더욱이 키스 애정 과시 화가 친구 털다 부인 원래 이상하다 성격 돌리다 사실 필요성 메모 한장 주다 병원 이유 진짜 확인 비밀 라며 가르치다 자학 결정 부분 아침 머리 아프다 전날 피곤하다 누가 긁다 옆차 남다 먹다 놓다 기차역 문뜩 몬텍 지워지다 중요하다 장소 은연중 작용 도착 향합 기분 우울하다 들리다 안되다 돼다 이쯤 혼잣말 쳐다보다 떠올리다 페이지 뜯기다 나가다 찢다 음식점 들어가다 관심 겁니다 겠다 이기 기차 걸어오다 가능하다 계속 이어지다 귀지 운명 타고 그것 한잔 발렌타인 데이 축하 해주다 별자리 새우 집앞 바래다주다 칫솔 나타나다 보더 드릴 계시다 괜찮다 이렇다 당연하다 싫다 한편 매리 커스 던스트 폭로 시술 테입 자료 온통 황당하다 내다 똑같다 당하다 온갖 욕설 듣다 마침 일어나다 일이 테잎 과거 미래 미리 그냥 헤어지자 붙잡다 마지막 시작 뻔하다 배우 연기력 절정 웃다 울다 슬프다 건지다 기쁘다 표정 연기 제일 하일 라이트 의도 방식 표현 수도 사람과 메세지 개인 결론 해피엔딩 트래쥐드 앤딩 되어다 짧다 분명하다 단기간 거들다 다르다 나쁘다 삭제사랑 하다 스무살 되다 않다 어리다 이다 마음 능력 없다 부족하다 바라다 보다 가슴 벅차다 짧다 기억 뜨다 올린다 분명하다 처음 마주 치다 세상 슬로우 비디오 돌아가다 포토샵 효과 마냥 불다 뻔하다 로맨틱 코미디 영화 정통 멜로 처럼 흐르다 가다 아름답다 눈물 나리 품다 끝나다 해도 행복 알다 흑백 천연색 물들다 그렇다 지나다 그간 세월 증거 햇빛 바래어 뿌옇다 흐려지다 아니다 걸다 진행 인류 역사 내내 두고두고 찬양 망정 종료 묘사 경우 좁다 소견 수도 주위 사람 커플 이별 영화에서처럼 깨끗하다 지우다 버리다 싶다 보이다 남다 사물 기준 자체 달라 토론 아깝다 알바 이렇다 논쟁 무의미 주인공 머리색 화면 배우 연기 풀어지다 라면 구체 하자 어떻다 이유 인하다 완벽하다 정리 더냐 달콤하다 잊다 그것 지금 정형 쉬다 표현 개봉 마스카라 번진 얼굴 극장 나오다 마침 빼빼로 데이 국적 불명 이벤트 허울 좋다 떡밥 대규모 낚는 황금 어장 전야제 좌우 두르다 쌓이다 좌석 떠올리다 생각 어도 질리다 속이다 달다 역겹다 정도 내다 다시 왜냐면 돌리다 미우다 상대 인간 나다 겁쟁이 못난이 밴댕이 변덕쟁이 마디 떨리다 성장 오다 쬐다 잿빛 세계 줄그 줄기 애틋하다 햇살 보고깨다 눈물 멈추다 않다 시절 이성 잠들다 순간 감성 미치다 폭주 날뛰다 가슴 멍멍하다 비처럼 흐르다 억울하다 미우다 화가 나다 사람 만나다 매일 생각 하다 소용없다 이다 우린 헤어지다 수년 지난 지금 가끔 메다 쿠나 달려가다 기억 지우다 버리다 제일 이영화 철저하다 조엘 시선 사랑 이야기 클레멘타인 김정 상황 어쩌면 소외 되어다 모르다 그녀 사실 심정 이전 아프다 그것 영화 요점 아니다 한번 감정 해주다 공평하다 일이 다시 시작 해보다 노력 잊다 완전하다 몰다 다치다 들다 제발 말다 터널 선샤인 보다 가장 슬프다 장면 행복하다 남기다 두다 싶다 망각 도망 숨다 달아나다 미그 오래되다 그렇다 핑크 무언가 사라지다 간다 서로 약점 단점 지적 상처 주기 위해 신임 많다 지지 받다 때문 없다 간직 이렇다 사귀다 반복 오다 역시 마음 갖다 염원 현실 직시 아름답다 되찾다 연인 뿌리치다 최악 형벌 내다 알다 두렵다 보고 충만사랑 아름답다 않다 일상 지우다 싶다 기억 하다 이별 싫다 보다 어리둥절하다 결말 가면 띵하다 이해 되다 압니 안되다 급증 내다 재미없다 사람 인연 놓다 힘들다 모든 공감 뭉클하다 영화 케리 최고 배우 이제야 알다 시작 분후 더머 주연 맡다 코믹 나다 모르다 잊다 빠져들다 작품 진행 개방 차다 설다 내용 가지 군데 아니다 계속 이상하다 그냥 부담 감독 작가 이야기 관객 무의식 탄성 뱉다 만들다 전체 한순간 버리다 주제가 최면 걸리다 전개 일순간 머리 지나가다 가다 만나다 이렇다 나오다 구나 생각 들다 한국영 느끼다 수준 차이다 음내 생애 가장 일주일 재미있다 한국 이하 편하다 추다 없다 인정 이다 보기 바라다 늦다 가을 그렇다 끄다 잡고 개봉강하다 화려하다 장면 없다 터널 선샤인 따뜻하다 차다 서로 불다 애칭 감자 인형 커플 안녕기억 가지다 세상 아깝다 어떻다 잊다 지금 사랑 영화 내다 모든 헤어지다 모르다 그까짓 이유 크다 이별 흐르다 깨닫다 어차피 목뒤 넘어가다 추억 라면 최대한 입안 음미 하다 잊어버리다 출발 어리석다 은지 대하 진짜 겪다 보다 되다 심장 갈래 찢어지다 쉬다 처음 두번째 세번 가다 오다 닿다 나이 먹다 재밌다 보물 괴롭다 힘들다 만나다 말걸 그렇다 울다 돌아보다 좋다 반짝이다 사람 다시 싶다 운명 필연 영혼 선명하다 각인 쌓이다 스스로 살다 존재 되어다 이끌다 세월 닳다 커녕 경험 삼다 근사하다 갈다 마법 환상 성의 가치 시대 구애 받다 않다 정성 오늘 내일 작품 리지 널리 싫다 지우다 모습 지워지다 사라지다 남다 운명론 대한 세련되다 접근 방식'"
     },
     "execution_count": 51,
     "metadata": {},
     "output_type": "execute_result"
    }
   ],
   "source": [
    "movie_dict['이터널 선샤인']"
   ]
  },
  {
   "cell_type": "markdown",
   "id": "f595c1a8",
   "metadata": {},
   "source": [
    "### pickle ->  movie_dict"
   ]
  },
  {
   "cell_type": "code",
   "execution_count": 52,
   "id": "c9720b34",
   "metadata": {},
   "outputs": [],
   "source": [
    "import pickle"
   ]
  },
  {
   "cell_type": "code",
   "execution_count": 53,
   "id": "a073d822",
   "metadata": {},
   "outputs": [],
   "source": [
    "#save\n",
    "with open('movie_dict.pickle', 'wb') as f:\n",
    "    pickle.dump(movie_dict, f, pickle.HIGHEST_PROTOCOL)"
   ]
  },
  {
   "cell_type": "code",
   "execution_count": 54,
   "id": "65eb9d82",
   "metadata": {},
   "outputs": [],
   "source": [
    "with open('movie_dict.pickle', 'rb') as f:\n",
    "    movie_dict2 = pickle.load(f)"
   ]
  },
  {
   "cell_type": "code",
   "execution_count": 55,
   "id": "b6e417d4",
   "metadata": {},
   "outputs": [
    {
     "data": {
      "text/plain": "nan"
     },
     "execution_count": 55,
     "metadata": {},
     "output_type": "execute_result"
    }
   ],
   "source": [
    "movie_dict2['500일의 썸머']"
   ]
  },
  {
   "cell_type": "code",
   "execution_count": null,
   "id": "c13b1c7d",
   "metadata": {},
   "outputs": [],
   "source": []
  }
 ],
 "metadata": {
  "kernelspec": {
   "display_name": "Python 3",
   "language": "python",
   "name": "python3"
  },
  "language_info": {
   "codemirror_mode": {
    "name": "ipython",
    "version": 3
   },
   "file_extension": ".py",
   "mimetype": "text/x-python",
   "name": "python",
   "nbconvert_exporter": "python",
   "pygments_lexer": "ipython3",
   "version": "3.8.8"
  }
 },
 "nbformat": 4,
 "nbformat_minor": 5
}